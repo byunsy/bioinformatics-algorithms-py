{
  "nbformat": 4,
  "nbformat_minor": 0,
  "metadata": {
    "colab": {
      "name": "BA_3F.ipynb",
      "provenance": [],
      "collapsed_sections": [],
      "toc_visible": true,
      "authorship_tag": "ABX9TyPr6phmzmqvJa7Fwkxc+dKz",
      "include_colab_link": true
    },
    "kernelspec": {
      "name": "python3",
      "display_name": "Python 3"
    }
  },
  "cells": [
    {
      "cell_type": "markdown",
      "metadata": {
        "id": "view-in-github",
        "colab_type": "text"
      },
      "source": [
        "<a href=\"https://colab.research.google.com/github/byunsy/bioinformatics-algorithms-py/blob/main/BA_3F.ipynb\" target=\"_parent\"><img src=\"https://colab.research.google.com/assets/colab-badge.svg\" alt=\"Open In Colab\"/></a>"
      ]
    },
    {
      "cell_type": "markdown",
      "metadata": {
        "id": "hAArkvw4eGFu"
      },
      "source": [
        "# Eulerian Cycle Problem"
      ]
    },
    {
      "cell_type": "markdown",
      "metadata": {
        "id": "4zUHgL9TAIHr"
      },
      "source": [
        "### Function"
      ]
    },
    {
      "cell_type": "code",
      "metadata": {
        "id": "8KIbIePIVth_"
      },
      "source": [
        "import random\r\n",
        "import copy"
      ],
      "execution_count": 1,
      "outputs": []
    },
    {
      "cell_type": "code",
      "metadata": {
        "id": "NquGltLQiHwU"
      },
      "source": [
        "def SearchCycle(graph, start_node):\r\n",
        "    cycle = [start_node] # start cycle\r\n",
        "    avail_nodes = []     # nodes in the current cycle that have unused edges\r\n",
        "    unused = copy.deepcopy(graph) # unused edges \r\n",
        "  \r\n",
        "    node = start_node\r\n",
        "    while unused[node] != []:\r\n",
        "\r\n",
        "        # randomly select the next node to explore\r\n",
        "        next = unused[node][random.randint(0, len(unused[node])-1)] \r\n",
        "        unused[node].remove(next)  # remove from graph dict value\r\n",
        "        cycle.append(next)         # add to cycle\r\n",
        "        node = next\r\n",
        "\r\n",
        "    for i in cycle:\r\n",
        "        if unused[i] != []:\r\n",
        "            avail_nodes.append(i) # find nodes with unused edges\r\n",
        "\r\n",
        "    return cycle, avail_nodes"
      ],
      "execution_count": 2,
      "outputs": []
    },
    {
      "cell_type": "code",
      "metadata": {
        "id": "JjLvFtORtrcI"
      },
      "source": [
        "def EulerianCycle(graph):\r\n",
        "\r\n",
        "    # Initialize variables\r\n",
        "    cycle = []\r\n",
        "    unexp_edges = [0] \r\n",
        "    start_node = 0\r\n",
        "\r\n",
        "    while unexp_edges != []:\r\n",
        "\r\n",
        "        cycle, unexp_edges = SearchCycle(graph, start_node)\r\n",
        "\r\n",
        "        # If there exist any unexplored edges,\r\n",
        "        # then select a new start_node from unexp_edges\r\n",
        "        if unexp_edges:\r\n",
        "            start_node = unexp_edges[0] \r\n",
        "\r\n",
        "    return cycle"
      ],
      "execution_count": 3,
      "outputs": []
    },
    {
      "cell_type": "code",
      "metadata": {
        "colab": {
          "base_uri": "https://localhost:8080/"
        },
        "id": "1XNXuTXLK75i",
        "outputId": "3a093a19-7a02-40c4-c957-70f6b74fde3d"
      },
      "source": [
        "graph = {0: [3], 1: [0], 2: [6,1], 3: [2], 4: [2], 5: [4], 6: [5,8], 7: [9], 8: [7], 9: [6]}\r\n",
        "\r\n",
        "print(EulerianCycle(graph))"
      ],
      "execution_count": 4,
      "outputs": [
        {
          "output_type": "stream",
          "text": [
            "[0, 3, 2, 6, 8, 7, 9, 6, 5, 4, 2, 1, 0]\n"
          ],
          "name": "stdout"
        }
      ]
    },
    {
      "cell_type": "markdown",
      "metadata": {
        "id": "nALreObfAPAl"
      },
      "source": [
        "### Test Cases"
      ]
    },
    {
      "cell_type": "code",
      "metadata": {
        "id": "KlAmQKZr3b-4"
      },
      "source": [
        "# Create a function for test suite\r\n",
        "def TestSuite(function, cases):\r\n",
        "    print(\"*\"*50)\r\n",
        "    print(\"TEST SUITE\\n\")\r\n",
        "    passed = 0\r\n",
        "    for i, case in enumerate(cases):\r\n",
        "        graph, answer = case\r\n",
        "        result = function(graph)\r\n",
        "        if result == answer:\r\n",
        "            print(\"- Test Case {} Passed. Expected: {}, Actual: {}\"\r\n",
        "                  .format(i+1, answer, result))\r\n",
        "            passed += 1\r\n",
        "        else:\r\n",
        "            print(\"- Test Case {} Failed. Expected: {}, Actual: {}\"\r\n",
        "                  .format(i+1, answer, result))\r\n",
        "    print(\"\\n{} out of {} passed.\".format(passed, len(cases)), end=\" \")\r\n",
        "    print(\"END OF TEST SUITE.\")\r\n",
        "    print(\"*\"*50)"
      ],
      "execution_count": 5,
      "outputs": []
    },
    {
      "cell_type": "code",
      "metadata": {
        "colab": {
          "base_uri": "https://localhost:8080/"
        },
        "id": "KAAHvfgs-u1W",
        "outputId": "734099fc-9887-4c7a-b013-87fc7db68719"
      },
      "source": [
        "# Create test cases to pass into test suite\r\n",
        "case1 = ({0: [3], 1: [0], 2: [6,1], 3: [2], 4: [2], 5: [4], 6: [5,8], 7: [9], 8: [7], 9: [6]}, \r\n",
        "         [6, 8, 7, 9, 6, 5, 4, 2, 1, 0, 3, 2, 6])\r\n",
        "\r\n",
        "cases = [case1]\r\n",
        "\r\n",
        "TestSuite(EulerianCycle, cases)"
      ],
      "execution_count": 6,
      "outputs": [
        {
          "output_type": "stream",
          "text": [
            "**************************************************\n",
            "TEST SUITE\n",
            "\n",
            "- Test Case 1 Passed. Expected: [6, 8, 7, 9, 6, 5, 4, 2, 1, 0, 3, 2, 6], Actual: [6, 8, 7, 9, 6, 5, 4, 2, 1, 0, 3, 2, 6]\n",
            "\n",
            "1 out of 1 passed. END OF TEST SUITE.\n",
            "**************************************************\n"
          ],
          "name": "stdout"
        }
      ]
    }
  ]
}