{
  "nbformat": 4,
  "nbformat_minor": 0,
  "metadata": {
    "colab": {
      "name": "BA_4I.ipynb",
      "provenance": [],
      "collapsed_sections": [],
      "toc_visible": true,
      "authorship_tag": "ABX9TyN+CC4G6Nk5TD+J+n5gf8ax",
      "include_colab_link": true
    },
    "kernelspec": {
      "name": "python3",
      "display_name": "Python 3"
    }
  },
  "cells": [
    {
      "cell_type": "markdown",
      "metadata": {
        "id": "view-in-github",
        "colab_type": "text"
      },
      "source": [
        "<a href=\"https://colab.research.google.com/github/byunsy/bioinformatics-algorithms-py/blob/main/BA_4I.ipynb\" target=\"_parent\"><img src=\"https://colab.research.google.com/assets/colab-badge.svg\" alt=\"Open In Colab\"/></a>"
      ]
    },
    {
      "cell_type": "markdown",
      "metadata": {
        "id": "hAArkvw4eGFu"
      },
      "source": [
        "# Convolution Cyclopeptide Sequencing Problem"
      ]
    },
    {
      "cell_type": "markdown",
      "metadata": {
        "id": "4zUHgL9TAIHr"
      },
      "source": [
        "### Function"
      ]
    },
    {
      "cell_type": "code",
      "metadata": {
        "id": "zhidTVfrktQi"
      },
      "source": [
        "def Expand(pep, freq_aminos):\r\n",
        "\r\n",
        "    new_pep = []\r\n",
        "\r\n",
        "    for i in pep:\r\n",
        "        for amino in freq_aminos:\r\n",
        "            if i != \"\":\r\n",
        "                new_pep.append(i + \"-\" + amino)\r\n",
        "            else:\r\n",
        "                new_pep.append(i + amino)\r\n",
        "\r\n",
        "    return new_pep"
      ],
      "execution_count": 1,
      "outputs": []
    },
    {
      "cell_type": "code",
      "metadata": {
        "id": "aqSf89VGkumv"
      },
      "source": [
        "def Mass(peptides):\r\n",
        "\r\n",
        "    split_pep = peptides.split(\"-\")\r\n",
        "    mass = 0\r\n",
        "\r\n",
        "    for i in split_pep:\r\n",
        "        mass += int(i)\r\n",
        "\r\n",
        "    return mass"
      ],
      "execution_count": 2,
      "outputs": []
    },
    {
      "cell_type": "code",
      "metadata": {
        "id": "NB3WucxJkv9M"
      },
      "source": [
        "def LinearSpectrum(peptide):\r\n",
        "    \r\n",
        "    split_pep = peptide.split(\"-\")\r\n",
        "\r\n",
        "    prefix_mass = [0]\r\n",
        "    for amino in split_pep:\r\n",
        "        prefix_mass.append(prefix_mass[-1] + int(amino))\r\n",
        "\r\n",
        "    linear_spectrum = [0]\r\n",
        "    for i in range(len(split_pep)):\r\n",
        "        j = i + 1\r\n",
        "        while j <= len(split_pep):\r\n",
        "            linear_spectrum.append(prefix_mass[j]-prefix_mass[i])\r\n",
        "            j += 1\r\n",
        "    \r\n",
        "    return sorted(linear_spectrum)"
      ],
      "execution_count": 6,
      "outputs": []
    },
    {
      "cell_type": "code",
      "metadata": {
        "id": "VhcySeSlkxPC"
      },
      "source": [
        "from collections import Counter\r\n",
        "\r\n",
        "def LinearScore(peptide, spectrum):\r\n",
        "\r\n",
        "    pep_spectrum = LinearSpectrum(peptide)\r\n",
        "\r\n",
        "    pep_counter = Counter(pep_spectrum) \r\n",
        "    spc_counter = Counter(spectrum)\r\n",
        "    score = 0\r\n",
        "\r\n",
        "    for i in set(pep_spectrum):\r\n",
        "        if i in spectrum:\r\n",
        "            if pep_counter[i] <= spc_counter[i]:\r\n",
        "                score += pep_counter[i]\r\n",
        "            else: # pep_counter[i] > spc_counter[i]\r\n",
        "                score += spc_counter[i]\r\n",
        "\r\n",
        "    return score"
      ],
      "execution_count": 3,
      "outputs": []
    },
    {
      "cell_type": "code",
      "metadata": {
        "id": "0BMQbgyrk0xj"
      },
      "source": [
        "def CyclicSpectrum(peptide):\r\n",
        "    \r\n",
        "    split_pep = peptide.split(\"-\")\r\n",
        "\r\n",
        "    prefix_mass = [0]\r\n",
        "    for amino in split_pep:\r\n",
        "        prefix_mass.append(prefix_mass[-1] + int(amino))\r\n",
        "\r\n",
        "    peptide_mass = prefix_mass[-1]\r\n",
        "    cyclic_spectrum = [0]\r\n",
        "    for i in range(len(split_pep)):\r\n",
        "        j = i + 1\r\n",
        "        while j <= len(split_pep):\r\n",
        "            cyclic_spectrum.append(prefix_mass[j]-prefix_mass[i])\r\n",
        "            if i > 0 and j < len(split_pep):\r\n",
        "                cyclic_spectrum.append(peptide_mass - (prefix_mass[j]-prefix_mass[i]))\r\n",
        "            j += 1\r\n",
        "    \r\n",
        "    return sorted(cyclic_spectrum)"
      ],
      "execution_count": 4,
      "outputs": []
    },
    {
      "cell_type": "code",
      "metadata": {
        "id": "xkufNheVk4ZL"
      },
      "source": [
        "from collections import Counter\r\n",
        "\r\n",
        "def CyclopeptideScore(peptide, spectrum):\r\n",
        "\r\n",
        "    pep_spectrum = CyclicSpectrum(peptide)\r\n",
        "\r\n",
        "    pep_counter = Counter(pep_spectrum) \r\n",
        "    spc_counter = Counter(spectrum)\r\n",
        "    score = 0\r\n",
        "\r\n",
        "    for i in set(pep_spectrum):\r\n",
        "        if i in spectrum:\r\n",
        "            if pep_counter[i] <= spc_counter[i]:\r\n",
        "                score += pep_counter[i]\r\n",
        "            else: # pep_counter[i] > spc_counter[i]\r\n",
        "                score += spc_counter[i]\r\n",
        "\r\n",
        "    return score"
      ],
      "execution_count": 5,
      "outputs": []
    },
    {
      "cell_type": "code",
      "metadata": {
        "id": "RoCqzkGak726"
      },
      "source": [
        "def Trim(leaderboard, spectrum, n):\r\n",
        "\r\n",
        "    linear_scores = []\r\n",
        "    for pep in leaderboard:\r\n",
        "        linear_scores.append(LinearScore(pep, spectrum))\r\n",
        "\r\n",
        "    lb_pep    = [p for _,p in sorted(zip(linear_scores,leaderboard), reverse=True)]\r\n",
        "    lb_scores = [s for s,_ in sorted(zip(linear_scores,leaderboard), reverse=True)]\r\n",
        "\r\n",
        "    cutoff_idx = n\r\n",
        "\r\n",
        "    for i in range(cutoff_idx, len(lb_scores)):\r\n",
        "        if lb_scores[i] < lb_scores[i-1]:\r\n",
        "            break\r\n",
        "        else:\r\n",
        "            cutoff_idx += 1\r\n",
        "\r\n",
        "    return lb_pep[:cutoff_idx]"
      ],
      "execution_count": 7,
      "outputs": []
    },
    {
      "cell_type": "code",
      "metadata": {
        "id": "iRPAoaV6D9Zu"
      },
      "source": [
        "from collections import Counter\r\n",
        "\r\n",
        "def SpectralConvolution(spectrum):\r\n",
        "\r\n",
        "    convolutions = []\r\n",
        "    sorted_spectrum = sorted(spectrum)\r\n",
        "\r\n",
        "    # column spectrum should not include parent_mass == max(spectrum)\r\n",
        "    for col in sorted_spectrum[:-1]:\r\n",
        "        for row in sorted_spectrum:\r\n",
        "            if row > col:\r\n",
        "                convolutions.append(row - col)\r\n",
        "\r\n",
        "    counted_conv = Counter(convolutions)\r\n",
        "    order = [i for i,_ in counted_conv.most_common()]\r\n",
        "\r\n",
        "    return sorted(convolutions, key=order.index)\r\n"
      ],
      "execution_count": 8,
      "outputs": []
    },
    {
      "cell_type": "code",
      "metadata": {
        "id": "Ue5bIrFFiGmG"
      },
      "source": [
        "def MostFreqElementConv(convolution, m):\r\n",
        "\r\n",
        "    filtered = [str(x) for x in convolution if x >= 57 and x <= 200]\r\n",
        "\r\n",
        "    cnt_filtered = Counter(filtered)\r\n",
        "\r\n",
        "    order  = [i for i,_ in cnt_filtered.most_common()]\r\n",
        "    counts = [c for _,c in cnt_filtered.most_common()]\r\n",
        "\r\n",
        "    cutoff_idx = m\r\n",
        "\r\n",
        "    for i in range(cutoff_idx, len(counts)):\r\n",
        "        if counts[i] < counts[i-1]:\r\n",
        "            break\r\n",
        "        else:\r\n",
        "            cutoff_idx += 1\r\n",
        "\r\n",
        "    return order[:cutoff_idx]\r\n"
      ],
      "execution_count": 9,
      "outputs": []
    },
    {
      "cell_type": "code",
      "metadata": {
        "id": "gc_nVrTck-7y"
      },
      "source": [
        "def ConvCyclopeptideSequencing(m, n, spectrum):\r\n",
        "\r\n",
        "    conv = SpectralConvolution(spectrum)\r\n",
        "    freq_amino = MostFreqElementConv(conv, m)\r\n",
        "    \r\n",
        "    parent_mass = spectrum[-1]\r\n",
        "    leaderboard = [\"\"]\r\n",
        "    leader_pep = \"0\"\r\n",
        "\r\n",
        "    while len(leaderboard) != 0:\r\n",
        "        leaderboard = Expand(leaderboard, freq_amino)\r\n",
        "\r\n",
        "        to_remove = set()\r\n",
        "        for pep in leaderboard:\r\n",
        "            if Mass(pep) == parent_mass:\r\n",
        "                if CyclopeptideScore(pep, spectrum) > CyclopeptideScore(leader_pep, spectrum):\r\n",
        "                    leader_pep = pep\r\n",
        "            elif Mass(pep) > parent_mass:\r\n",
        "                to_remove.add(pep)\r\n",
        "\r\n",
        "        for i in to_remove:\r\n",
        "            leaderboard.remove(i)\r\n",
        "\r\n",
        "        leaderboard = Trim(leaderboard, spectrum, n)\r\n",
        "\r\n",
        "    return leader_pep"
      ],
      "execution_count": 10,
      "outputs": []
    },
    {
      "cell_type": "markdown",
      "metadata": {
        "id": "nALreObfAPAl"
      },
      "source": [
        "### Test Cases"
      ]
    },
    {
      "cell_type": "code",
      "metadata": {
        "id": "KlAmQKZr3b-4"
      },
      "source": [
        "# Create a function for test suite\r\n",
        "def TestSuite(function, cases):\r\n",
        "    print(\"*\"*50)\r\n",
        "    print(\"TEST SUITE\\n\")\r\n",
        "    passed = 0\r\n",
        "    for i, case in enumerate(cases):\r\n",
        "        m, n, spectrum, answer = case\r\n",
        "        result = function(m, n, spectrum)\r\n",
        "        if result == answer:\r\n",
        "            print(\"- Test Case {} Passed. Expected: {}, Actual: {}\"\r\n",
        "                  .format(i+1, answer, result))\r\n",
        "            passed += 1\r\n",
        "        else:\r\n",
        "            print(\"- Test Case {} Failed. Expected: {}, Actual: {}\"\r\n",
        "                  .format(i+1, answer, result))\r\n",
        "    print(\"\\n{} out of {} passed.\".format(passed, len(cases)), end=\" \")\r\n",
        "    print(\"END OF TEST SUITE.\")\r\n",
        "    print(\"*\"*50)"
      ],
      "execution_count": 15,
      "outputs": []
    },
    {
      "cell_type": "code",
      "metadata": {
        "colab": {
          "base_uri": "https://localhost:8080/"
        },
        "id": "KAAHvfgs-u1W",
        "outputId": "c8026648-b166-4989-ed64-796a24c2e1ca"
      },
      "source": [
        "# Create test cases to pass into test suite\r\n",
        "case1 = (20, 60, [57, 57, 71, 99, 129, 137, 170, 186, 194, 208, 228, 265, 285, 299, 307, 323, 356, 364, 394, 422, 493], \"99-71-137-57-72-57\")\r\n",
        "\r\n",
        "cases = [case1]\r\n",
        "\r\n",
        "TestSuite(ConvCyclopeptideSequencing, cases)"
      ],
      "execution_count": 16,
      "outputs": [
        {
          "output_type": "stream",
          "text": [
            "**************************************************\n",
            "TEST SUITE\n",
            "\n",
            "- Test Case 1 Passed. Expected: 99-71-137-57-72-57, Actual: 99-71-137-57-72-57\n",
            "\n",
            "1 out of 1 passed. END OF TEST SUITE.\n",
            "**************************************************\n"
          ],
          "name": "stdout"
        }
      ]
    },
    {
      "cell_type": "markdown",
      "metadata": {
        "id": "MqjsUbnAH2oy"
      },
      "source": [
        "### Stepik Coding Exercise"
      ]
    },
    {
      "cell_type": "code",
      "metadata": {
        "colab": {
          "base_uri": "https://localhost:8080/"
        },
        "id": "JM06bCf-p6Ju",
        "outputId": "0cf6b8b3-12db-483f-8ff6-f4e076fed16a"
      },
      "source": [
        "string = \"0 97 99 101 101 113 113 115 128 129 137 147 147 156 186 200 202 230 236 241 242 244 253 260 262 265 269 301 301 331 333 337 343 364 366 375 378 389 397 400 430 430 438 444 448 448 465 477 490 494 504 513 534 543 545 561 566 567 578 586 591 595 605 631 633 641 679 680 690 690 692 695 699 701 706 708 730 734 778 791 805 805 808 808 814 827 827 831 835 837 848 877 892 921 932 934 938 942 942 955 961 961 964 964 978 991 1035 1039 1061 1063 1068 1070 1074 1077 1079 1079 1089 1090 1128 1136 1138 1164 1174 1178 1183 1191 1202 1203 1208 1224 1226 1235 1256 1265 1275 1279 1292 1304 1321 1321 1325 1331 1339 1339 1369 1372 1380 1391 1394 1403 1405 1426 1432 1436 1438 1468 1468 1500 1504 1507 1509 1516 1525 1527 1528 1533 1539 1567 1569 1583 1613 1622 1622 1632 1640 1641 1654 1656 1656 1668 1668 1670 1672 1769\"\r\n",
        "\r\n",
        "ret = string.replace(\" \", \", \")\r\n",
        "print(ret)"
      ],
      "execution_count": 17,
      "outputs": [
        {
          "output_type": "stream",
          "text": [
            "0, 97, 99, 101, 101, 113, 113, 115, 128, 129, 137, 147, 147, 156, 186, 200, 202, 230, 236, 241, 242, 244, 253, 260, 262, 265, 269, 301, 301, 331, 333, 337, 343, 364, 366, 375, 378, 389, 397, 400, 430, 430, 438, 444, 448, 448, 465, 477, 490, 494, 504, 513, 534, 543, 545, 561, 566, 567, 578, 586, 591, 595, 605, 631, 633, 641, 679, 680, 690, 690, 692, 695, 699, 701, 706, 708, 730, 734, 778, 791, 805, 805, 808, 808, 814, 827, 827, 831, 835, 837, 848, 877, 892, 921, 932, 934, 938, 942, 942, 955, 961, 961, 964, 964, 978, 991, 1035, 1039, 1061, 1063, 1068, 1070, 1074, 1077, 1079, 1079, 1089, 1090, 1128, 1136, 1138, 1164, 1174, 1178, 1183, 1191, 1202, 1203, 1208, 1224, 1226, 1235, 1256, 1265, 1275, 1279, 1292, 1304, 1321, 1321, 1325, 1331, 1339, 1339, 1369, 1372, 1380, 1391, 1394, 1403, 1405, 1426, 1432, 1436, 1438, 1468, 1468, 1500, 1504, 1507, 1509, 1516, 1525, 1527, 1528, 1533, 1539, 1567, 1569, 1583, 1613, 1622, 1622, 1632, 1640, 1641, 1654, 1656, 1656, 1668, 1668, 1670, 1672, 1769\n"
          ],
          "name": "stdout"
        }
      ]
    },
    {
      "cell_type": "code",
      "metadata": {
        "colab": {
          "base_uri": "https://localhost:8080/"
        },
        "id": "jzAoC2G2rfrz",
        "outputId": "a8253a83-2fa7-4bdf-9969-2ef6b3dc8fb3"
      },
      "source": [
        "spectrum = [0, 97, 99, 101, 101, 113, 113, 115, 128, 129, 137, 147, 147, 156, 186, 200, 202, 230, 236, 241, 242, 244, 253, 260, 262, 265, 269, 301, 301, 331, 333, 337, 343, 364, 366, 375, 378, 389, 397, 400, 430, 430, 438, 444, 448, 448, 465, 477, 490, 494, 504, 513, 534, 543, 545, 561, 566, 567, 578, 586, 591, 595, 605, 631, 633, 641, 679, 680, 690, 690, 692, 695, 699, 701, 706, 708, 730, 734, 778, 791, 805, 805, 808, 808, 814, 827, 827, 831, 835, 837, 848, 877, 892, 921, 932, 934, 938, 942, 942, 955, 961, 961, 964, 964, 978, 991, 1035, 1039, 1061, 1063, 1068, 1070, 1074, 1077, 1079, 1079, 1089, 1090, 1128, 1136, 1138, 1164, 1174, 1178, 1183, 1191, 1202, 1203, 1208, 1224, 1226, 1235, 1256, 1265, 1275, 1279, 1292, 1304, 1321, 1321, 1325, 1331, 1339, 1339, 1369, 1372, 1380, 1391, 1394, 1403, 1405, 1426, 1432, 1436, 1438, 1468, 1468, 1500, 1504, 1507, 1509, 1516, 1525, 1527, 1528, 1533, 1539, 1567, 1569, 1583, 1613, 1622, 1622, 1632, 1640, 1641, 1654, 1656, 1656, 1668, 1668, 1670, 1672, 1769]\r\n",
        "\r\n",
        "print(ConvCyclopeptideSequencing(18, 346, spectrum))"
      ],
      "execution_count": 18,
      "outputs": [
        {
          "output_type": "stream",
          "text": [
            "99-137-128-113-156-97-147-186-115-147-113-129-101-101\n"
          ],
          "name": "stdout"
        }
      ]
    }
  ]
}