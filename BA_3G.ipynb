{
  "nbformat": 4,
  "nbformat_minor": 0,
  "metadata": {
    "colab": {
      "name": "BA_3G.ipynb",
      "provenance": [],
      "collapsed_sections": [],
      "toc_visible": true,
      "authorship_tag": "ABX9TyPH2ZkRNo7fiKsiidro7npx",
      "include_colab_link": true
    },
    "kernelspec": {
      "name": "python3",
      "display_name": "Python 3"
    }
  },
  "cells": [
    {
      "cell_type": "markdown",
      "metadata": {
        "id": "view-in-github",
        "colab_type": "text"
      },
      "source": [
        "<a href=\"https://colab.research.google.com/github/byunsy/bioinformatics-algorithms-py/blob/main/BA_3G.ipynb\" target=\"_parent\"><img src=\"https://colab.research.google.com/assets/colab-badge.svg\" alt=\"Open In Colab\"/></a>"
      ]
    },
    {
      "cell_type": "markdown",
      "metadata": {
        "id": "hAArkvw4eGFu"
      },
      "source": [
        "# Eulerian Path Problem"
      ]
    },
    {
      "cell_type": "markdown",
      "metadata": {
        "id": "4zUHgL9TAIHr"
      },
      "source": [
        "### Function"
      ]
    },
    {
      "cell_type": "code",
      "metadata": {
        "id": "eZSeUuPgYwWW"
      },
      "source": [
        "import random\r\n",
        "import copy"
      ],
      "execution_count": 1,
      "outputs": []
    },
    {
      "cell_type": "code",
      "metadata": {
        "id": "S3W9KXvVYyyT"
      },
      "source": [
        "def SearchCycle(graph, start_node):\r\n",
        "    cycle = [start_node] # start cycle\r\n",
        "    avail_nodes = []     # nodes in the current cycle that have unused edges\r\n",
        "    unused = copy.deepcopy(graph) # unused edges \r\n",
        "  \r\n",
        "    node = start_node\r\n",
        "    while unused[node] != []:\r\n",
        "\r\n",
        "        # randomly select the next node to explore\r\n",
        "        next = unused[node][random.randint(0, len(unused[node])-1)] \r\n",
        "        unused[node].remove(next)  # remove from graph dict value\r\n",
        "        cycle.append(next)         # add to cycle\r\n",
        "        node = next\r\n",
        "\r\n",
        "        # if dead end\r\n",
        "        if node not in unused:\r\n",
        "            unused[node] = []\r\n",
        "            break\r\n",
        "\r\n",
        "    for i in unused:\r\n",
        "        if unused[i] != []:\r\n",
        "            avail_nodes.append(i) # find nodes with unused edges\r\n",
        "\r\n",
        "    return cycle, avail_nodes"
      ],
      "execution_count": 2,
      "outputs": []
    },
    {
      "cell_type": "code",
      "metadata": {
        "id": "vRMOa8qeY0DW"
      },
      "source": [
        "def EulerianPath(graph):\r\n",
        "\r\n",
        "    # Initialize variables\r\n",
        "    cycle = []\r\n",
        "    unexp_edges = [0] \r\n",
        "    start_node = 0\r\n",
        "\r\n",
        "    while unexp_edges != []:\r\n",
        "\r\n",
        "        cycle, unexp_edges = SearchCycle(graph, start_node)\r\n",
        "\r\n",
        "        # If there exist any unexplored edges,\r\n",
        "        # then select a new start_node from unexp_edges\r\n",
        "        if unexp_edges:\r\n",
        "            start_node = unexp_edges[0] \r\n",
        "\r\n",
        "    return cycle"
      ],
      "execution_count": 3,
      "outputs": []
    },
    {
      "cell_type": "code",
      "metadata": {
        "colab": {
          "base_uri": "https://localhost:8080/"
        },
        "id": "hSS17cxQY2cC",
        "outputId": "55c66aaa-6e75-48b0-e9d3-e335250abdbc"
      },
      "source": [
        "import time\r\n",
        "\r\n",
        "graph = {\r\n",
        "    0: [2],\r\n",
        "    1: [3],\r\n",
        "    2: [1],\r\n",
        "    3: [0,4],\r\n",
        "    6: [3,7],\r\n",
        "    7: [8],\r\n",
        "    8: [9],\r\n",
        "    9: [6]\r\n",
        "}\r\n",
        "\r\n",
        "avg = 0\r\n",
        "ret = []\r\n",
        "\r\n",
        "for i in range(5000):\r\n",
        "    start = time.time()\r\n",
        "    ret = EulerianPath(graph)\r\n",
        "    end = time.time()\r\n",
        "    avg += (end - start)\r\n",
        "\r\n",
        "print(ret)\r\n",
        "print(avg/5000)"
      ],
      "execution_count": 8,
      "outputs": [
        {
          "output_type": "stream",
          "text": [
            "[6, 7, 8, 9, 6, 3, 0, 2, 1, 3, 4]\n",
            "0.00048645339012145996\n"
          ],
          "name": "stdout"
        }
      ]
    },
    {
      "cell_type": "markdown",
      "metadata": {
        "id": "nALreObfAPAl"
      },
      "source": [
        "### Test Cases"
      ]
    },
    {
      "cell_type": "code",
      "metadata": {
        "id": "KlAmQKZr3b-4"
      },
      "source": [
        "# Create a function for test suite\r\n",
        "def TestSuite(function, cases):\r\n",
        "    print(\"*\"*50)\r\n",
        "    print(\"TEST SUITE\\n\")\r\n",
        "    passed = 0\r\n",
        "    for i, case in enumerate(cases):\r\n",
        "        graph, answer = case\r\n",
        "        result = function(graph)\r\n",
        "        if result == answer:\r\n",
        "            print(\"- Test Case {} Passed. Expected: {}, Actual: {}\"\r\n",
        "                  .format(i+1, answer, result))\r\n",
        "            passed += 1\r\n",
        "        else:\r\n",
        "            print(\"- Test Case {} Failed. Expected: {}, Actual: {}\"\r\n",
        "                  .format(i+1, answer, result))\r\n",
        "    print(\"\\n{} out of {} passed.\".format(passed, len(cases)), end=\" \")\r\n",
        "    print(\"END OF TEST SUITE.\")\r\n",
        "    print(\"*\"*50)"
      ],
      "execution_count": 4,
      "outputs": []
    },
    {
      "cell_type": "code",
      "metadata": {
        "colab": {
          "base_uri": "https://localhost:8080/"
        },
        "id": "KAAHvfgs-u1W",
        "outputId": "f18856a7-dd26-4058-a713-5b8961e6d72d"
      },
      "source": [
        "# Create test cases to pass into test suite\r\n",
        "case1 = ({0: [2], 1: [3], 2: [1], 3: [0,4], 6: [3,7], 7: [8], 8: [9], 9: [6]}, [6, 7, 8, 9, 6, 3, 0, 2, 1, 3, 4])\r\n",
        "\r\n",
        "cases = [case1]\r\n",
        "\r\n",
        "TestSuite(EulerianPath, cases)"
      ],
      "execution_count": 6,
      "outputs": [
        {
          "output_type": "stream",
          "text": [
            "**************************************************\n",
            "TEST SUITE\n",
            "\n",
            "- Test Case 1 Passed. Expected: [6, 7, 8, 9, 6, 3, 0, 2, 1, 3, 4], Actual: [6, 7, 8, 9, 6, 3, 0, 2, 1, 3, 4]\n",
            "\n",
            "1 out of 1 passed. END OF TEST SUITE.\n",
            "**************************************************\n"
          ],
          "name": "stdout"
        }
      ]
    }
  ]
}