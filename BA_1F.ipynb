{
  "nbformat": 4,
  "nbformat_minor": 0,
  "metadata": {
    "colab": {
      "name": "BA_1F.ipynb",
      "provenance": [],
      "collapsed_sections": [],
      "toc_visible": true,
      "authorship_tag": "ABX9TyO8O6Y2zD/fNW37RRVTJd2F",
      "include_colab_link": true
    },
    "kernelspec": {
      "name": "python3",
      "display_name": "Python 3"
    }
  },
  "cells": [
    {
      "cell_type": "markdown",
      "metadata": {
        "id": "view-in-github",
        "colab_type": "text"
      },
      "source": [
        "<a href=\"https://colab.research.google.com/github/byunsy/bioinformatics-algorithms-py/blob/main/BA_1F.ipynb\" target=\"_parent\"><img src=\"https://colab.research.google.com/assets/colab-badge.svg\" alt=\"Open In Colab\"/></a>"
      ]
    },
    {
      "cell_type": "markdown",
      "metadata": {
        "id": "hAArkvw4eGFu"
      },
      "source": [
        "# Minimum Skew Problem"
      ]
    },
    {
      "cell_type": "markdown",
      "metadata": {
        "id": "4zUHgL9TAIHr"
      },
      "source": [
        "### Function"
      ]
    },
    {
      "cell_type": "code",
      "metadata": {
        "id": "9FIVVYxBWhou"
      },
      "source": [
        "def MinimumSkew(genome):\r\n",
        "    skew = 0\r\n",
        "    min  = 0\r\n",
        "    min_indices = []\r\n",
        "\r\n",
        "    for i, base in enumerate(genome):\r\n",
        "\r\n",
        "        # update skew value based on base-nucleotides\r\n",
        "        if base == \"G\":\r\n",
        "            skew += 1\r\n",
        "        elif base == \"C\":\r\n",
        "            skew -= 1\r\n",
        "\r\n",
        "        # if new minimum, update min and create new min_indices\r\n",
        "        if skew < min:\r\n",
        "            min = skew\r\n",
        "            min_indices = [i+1]\r\n",
        "        elif skew == min:\r\n",
        "            min_indices.append(i+1) # append to min_indices if skew value is min \r\n",
        "\r\n",
        "    return min_indices"
      ],
      "execution_count": 2,
      "outputs": []
    },
    {
      "cell_type": "markdown",
      "metadata": {
        "id": "nALreObfAPAl"
      },
      "source": [
        "### Test Cases"
      ]
    },
    {
      "cell_type": "code",
      "metadata": {
        "id": "KlAmQKZr3b-4"
      },
      "source": [
        "# Create a function for test suite\r\n",
        "def TestSuite(function, cases):\r\n",
        "    print(\"*\"*50)\r\n",
        "    print(\"TEST SUITE\\n\")\r\n",
        "    passed = 0\r\n",
        "    for i, case in enumerate(cases):\r\n",
        "        genome, answer = case\r\n",
        "        result = function(genome)\r\n",
        "        if sorted(result) == sorted(answer):\r\n",
        "            print(\"- Test Case {} Passed. Expected: {}, Actual: {}\"\r\n",
        "                  .format(i+1, answer, result))\r\n",
        "            passed += 1\r\n",
        "        else:\r\n",
        "            print(\"- Test Case {} Failed. Expected: {}, Actual: {}\"\r\n",
        "                  .format(i+1, answer, result))\r\n",
        "    print(\"\\n{} out of {} passed.\".format(passed, len(cases)), end=\" \")\r\n",
        "    print(\"END OF TEST SUITE.\")\r\n",
        "    print(\"*\"*50)"
      ],
      "execution_count": 3,
      "outputs": []
    },
    {
      "cell_type": "code",
      "metadata": {
        "colab": {
          "base_uri": "https://localhost:8080/"
        },
        "id": "KAAHvfgs-u1W",
        "outputId": "31012270-1370-4922-f2ce-1c6dd34c7de1"
      },
      "source": [
        "# Create test cases to pass into test suite\r\n",
        "case1 = (\"CCTATCGGTGGATTAGCATGTCCCTGTACGTTTCGCCGCGAACTAGTTCACACGGCTTGATGGCAAATGGTTTTTCCGGCGACCGTAATCGTCCACCGAG\", [53, 97])\r\n",
        "case2 = (\"TAAAGACTGCCGAGAGGCCAACACGAGTGCTAGAACGAGGGGCGTAAACGCGGGTCCGAT\", [11, 24])\r\n",
        "case3 = (\"ACCG\", [3])\r\n",
        "case4 = (\"ACCC\", [4])\r\n",
        "case5 = (\"CCGGGT\", [2])\r\n",
        "case6 = (\"CCGGCCGG\", [2, 6])\r\n",
        "\r\n",
        "cases = [case1, case2, case3, case4, case5, case6]\r\n",
        "\r\n",
        "TestSuite(MinimumSkew, cases)"
      ],
      "execution_count": 5,
      "outputs": [
        {
          "output_type": "stream",
          "text": [
            "**************************************************\n",
            "TEST SUITE\n",
            "\n",
            "- Test Case 1 Passed. Expected: [53, 97], Actual: [53, 97]\n",
            "- Test Case 2 Passed. Expected: [11, 24], Actual: [11, 24]\n",
            "- Test Case 3 Passed. Expected: [3], Actual: [3]\n",
            "- Test Case 4 Passed. Expected: [4], Actual: [4]\n",
            "- Test Case 5 Passed. Expected: [2], Actual: [2]\n",
            "- Test Case 6 Passed. Expected: [2, 6], Actual: [2, 6]\n",
            "\n",
            "6 out of 6 passed. END OF TEST SUITE.\n",
            "**************************************************\n"
          ],
          "name": "stdout"
        }
      ]
    }
  ]
}