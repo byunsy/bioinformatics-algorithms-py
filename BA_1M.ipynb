{
  "nbformat": 4,
  "nbformat_minor": 0,
  "metadata": {
    "colab": {
      "name": "BA_1M.ipynb",
      "provenance": [],
      "collapsed_sections": [],
      "toc_visible": true,
      "authorship_tag": "ABX9TyMsYKM+vOjOO86cMYGW/gsw",
      "include_colab_link": true
    },
    "kernelspec": {
      "name": "python3",
      "display_name": "Python 3"
    }
  },
  "cells": [
    {
      "cell_type": "markdown",
      "metadata": {
        "id": "view-in-github",
        "colab_type": "text"
      },
      "source": [
        "<a href=\"https://colab.research.google.com/github/byunsy/bioinformatics-algorithms-py/blob/main/BA_1M.ipynb\" target=\"_parent\"><img src=\"https://colab.research.google.com/assets/colab-badge.svg\" alt=\"Open In Colab\"/></a>"
      ]
    },
    {
      "cell_type": "markdown",
      "metadata": {
        "id": "hAArkvw4eGFu"
      },
      "source": [
        "# Number to Pattern Problem"
      ]
    },
    {
      "cell_type": "markdown",
      "metadata": {
        "id": "4zUHgL9TAIHr"
      },
      "source": [
        "### Function"
      ]
    },
    {
      "cell_type": "code",
      "metadata": {
        "id": "htyzjc-QJ_RH"
      },
      "source": [
        "def NumberToPattern(index, k):\r\n",
        "    symbol_num = \"ACGT\"\r\n",
        "    if k == 1:\r\n",
        "        return symbol_num[index]\r\n",
        "\r\n",
        "    prefix_index = index // 4\r\n",
        "    remainder = index % 4\r\n",
        "\r\n",
        "    symbol = symbol_num[remainder]\r\n",
        "    prefix_pattern = NumberToPattern(prefix_index, k-1)\r\n",
        "\r\n",
        "    return prefix_pattern + symbol"
      ],
      "execution_count": 9,
      "outputs": []
    },
    {
      "cell_type": "markdown",
      "metadata": {
        "id": "nALreObfAPAl"
      },
      "source": [
        "### Test Cases"
      ]
    },
    {
      "cell_type": "code",
      "metadata": {
        "id": "KlAmQKZr3b-4"
      },
      "source": [
        "# Create a function for test suite\r\n",
        "def TestSuite(function, cases):\r\n",
        "    print(\"*\"*50)\r\n",
        "    print(\"TEST SUITE\\n\")\r\n",
        "    passed = 0\r\n",
        "    for i, case in enumerate(cases):\r\n",
        "        index, k, answer = case\r\n",
        "        result = function(index, k)\r\n",
        "        if result == answer:\r\n",
        "            print(\"- Test Case {} Passed. Expected: {}, Actual: {}\"\r\n",
        "                  .format(i+1, answer, result))\r\n",
        "            passed += 1\r\n",
        "        else:\r\n",
        "            print(\"- Test Case {} Failed. Expected: {}, Actual: {}\"\r\n",
        "                  .format(i+1, answer, result))\r\n",
        "    print(\"\\n{} out of {} passed.\".format(passed, len(cases)), end=\" \")\r\n",
        "    print(\"END OF TEST SUITE.\")\r\n",
        "    print(\"*\"*50)"
      ],
      "execution_count": 15,
      "outputs": []
    },
    {
      "cell_type": "code",
      "metadata": {
        "colab": {
          "base_uri": "https://localhost:8080/"
        },
        "id": "KAAHvfgs-u1W",
        "outputId": "368b4d46-b131-4b38-e6bb-56dfc025c7b2"
      },
      "source": [
        "# Create test cases to pass into test suite\r\n",
        "case1 = (45, 4, \"AGTC\")\r\n",
        "case2 = (5353, 7, \"CCATGGC\")\r\n",
        "case3 = (44, 3, \"GTA\")\r\n",
        "case4 = (11, 3, \"AGT\")\r\n",
        "\r\n",
        "cases = [case1, case2, case3, case4]\r\n",
        "\r\n",
        "TestSuite(NumberToPattern, cases)"
      ],
      "execution_count": 17,
      "outputs": [
        {
          "output_type": "stream",
          "text": [
            "**************************************************\n",
            "TEST SUITE\n",
            "\n",
            "- Test Case 1 Passed. Expected: AGTC, Actual: AGTC\n",
            "- Test Case 2 Passed. Expected: CCATGGC, Actual: CCATGGC\n",
            "- Test Case 3 Passed. Expected: GTA, Actual: GTA\n",
            "- Test Case 4 Passed. Expected: AGT, Actual: AGT\n",
            "\n",
            "4 out of 4 passed. END OF TEST SUITE.\n",
            "**************************************************\n"
          ],
          "name": "stdout"
        }
      ]
    }
  ]
}