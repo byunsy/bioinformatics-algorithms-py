{
  "nbformat": 4,
  "nbformat_minor": 0,
  "metadata": {
    "colab": {
      "name": "BA_3I.ipynb",
      "provenance": [],
      "collapsed_sections": [],
      "toc_visible": true,
      "authorship_tag": "ABX9TyOgaTzLSL1zqNiY2dmNPyVM",
      "include_colab_link": true
    },
    "kernelspec": {
      "name": "python3",
      "display_name": "Python 3"
    }
  },
  "cells": [
    {
      "cell_type": "markdown",
      "metadata": {
        "id": "view-in-github",
        "colab_type": "text"
      },
      "source": [
        "<a href=\"https://colab.research.google.com/github/byunsy/bioinformatics-algorithms-py/blob/main/BA_3I.ipynb\" target=\"_parent\"><img src=\"https://colab.research.google.com/assets/colab-badge.svg\" alt=\"Open In Colab\"/></a>"
      ]
    },
    {
      "cell_type": "markdown",
      "metadata": {
        "id": "hAArkvw4eGFu"
      },
      "source": [
        "# k-Universal Circular String Problem"
      ]
    },
    {
      "cell_type": "markdown",
      "metadata": {
        "id": "4zUHgL9TAIHr"
      },
      "source": [
        "### Function"
      ]
    },
    {
      "cell_type": "code",
      "metadata": {
        "id": "eZSeUuPgYwWW"
      },
      "source": [
        "import random\r\n",
        "import copy"
      ],
      "execution_count": 36,
      "outputs": []
    },
    {
      "cell_type": "code",
      "metadata": {
        "id": "IuUUo8Mg1xiP"
      },
      "source": [
        "def prefix(string):\r\n",
        "    # return string[:len(string)-1]\r\n",
        "    return string[:-1]\r\n",
        "\r\n",
        "def suffix(string):\r\n",
        "    return string[1:]"
      ],
      "execution_count": 37,
      "outputs": []
    },
    {
      "cell_type": "code",
      "metadata": {
        "id": "c4W-0xxlkqQi"
      },
      "source": [
        "def BinaryStrings(k):\r\n",
        "\r\n",
        "    binary_set = []\r\n",
        "\r\n",
        "    f = \"#0\" + str(k+2) + \"b\"\r\n",
        "    for i in range(2**k):\r\n",
        "        bi_kmer = format(i, f)[2:]\r\n",
        "        binary_set.append(bi_kmer)\r\n",
        "        \r\n",
        "    return binary_set"
      ],
      "execution_count": 29,
      "outputs": []
    },
    {
      "cell_type": "code",
      "metadata": {
        "colab": {
          "base_uri": "https://localhost:8080/"
        },
        "id": "y9Jui4uFmQ1L",
        "outputId": "68f68a30-5816-4d8b-fe0f-47c0c25ed524"
      },
      "source": [
        "print(BinaryStrings(3))"
      ],
      "execution_count": 34,
      "outputs": [
        {
          "output_type": "stream",
          "text": [
            "['000', '001', '010', '011', '100', '101', '110', '111']\n"
          ],
          "name": "stdout"
        }
      ]
    },
    {
      "cell_type": "code",
      "metadata": {
        "id": "zCtkOw4z1zKl"
      },
      "source": [
        "def DeBruijn(patterns):\r\n",
        "    \r\n",
        "    graph = {}\r\n",
        "    for kmer in sorted(patterns):\r\n",
        "        if prefix(kmer) not in graph:\r\n",
        "            graph[prefix(kmer)] = [suffix(kmer)]\r\n",
        "        else:\r\n",
        "            graph[prefix(kmer)].append(suffix(kmer))\r\n",
        "\r\n",
        "    return graph"
      ],
      "execution_count": 38,
      "outputs": []
    },
    {
      "cell_type": "code",
      "metadata": {
        "id": "S3W9KXvVYyyT"
      },
      "source": [
        "def SearchCycle(graph, start_node):\r\n",
        "    cycle = [start_node] # start cycle\r\n",
        "    avail_nodes = []     # nodes in the current cycle that have unused edges\r\n",
        "    unused = copy.deepcopy(graph) # unused edges \r\n",
        "  \r\n",
        "    node = start_node\r\n",
        "    while unused[node] != []:\r\n",
        "\r\n",
        "        # randomly select the next node to explore\r\n",
        "        next = unused[node][random.randint(0, len(unused[node])-1)] \r\n",
        "        unused[node].remove(next)  # remove from graph dict value\r\n",
        "        cycle.append(next)         # add to cycle\r\n",
        "        node = next\r\n",
        "\r\n",
        "        # if dead end\r\n",
        "        if node not in unused:\r\n",
        "            unused[node] = []\r\n",
        "            break\r\n",
        "\r\n",
        "    for i in unused:\r\n",
        "        if unused[i] != []:\r\n",
        "            avail_nodes.append(i) # find nodes with unused edges\r\n",
        "\r\n",
        "    return cycle, avail_nodes"
      ],
      "execution_count": 39,
      "outputs": []
    },
    {
      "cell_type": "code",
      "metadata": {
        "id": "vRMOa8qeY0DW"
      },
      "source": [
        "def EulerianPath(graph):\r\n",
        "\r\n",
        "    # Initialize variables\r\n",
        "    cycle = []\r\n",
        "    unexp_edges = [0] \r\n",
        "    start_node = list(graph.keys())[0] # first key in graph\r\n",
        "\r\n",
        "    while unexp_edges != []:\r\n",
        "\r\n",
        "        cycle, unexp_edges = SearchCycle(graph, start_node)\r\n",
        "\r\n",
        "        # If there exist any unexplored edges,\r\n",
        "        # then select a new start_node from unexp_edges\r\n",
        "        if unexp_edges:\r\n",
        "            start_node = unexp_edges[0] \r\n",
        "\r\n",
        "    return cycle"
      ],
      "execution_count": 40,
      "outputs": []
    },
    {
      "cell_type": "code",
      "metadata": {
        "id": "pV4mzAJCv4vk"
      },
      "source": [
        "def kUniveralCircle(k):\r\n",
        "    patterns = BinaryStrings(k)\r\n",
        "    db_graph = DeBruijn(patterns)\r\n",
        "    path = EulerianPath(db_graph)\r\n",
        "\r\n",
        "    text = path[0]\r\n",
        "    for i in range(1, len(path)):\r\n",
        "        text += path[i][-1]\r\n",
        "\r\n",
        "    return text[:-k+1] # slice because it is a \"circular\" string\r\n"
      ],
      "execution_count": 66,
      "outputs": []
    },
    {
      "cell_type": "markdown",
      "metadata": {
        "id": "nALreObfAPAl"
      },
      "source": [
        "### Test Cases"
      ]
    },
    {
      "cell_type": "code",
      "metadata": {
        "colab": {
          "base_uri": "https://localhost:8080/"
        },
        "id": "uk8X2BGEwaFi",
        "outputId": "b042010d-5f03-4275-b44c-55638949b1f0"
      },
      "source": [
        "print(kUniveralCircle(3))\r\n",
        "print(kUniveralCircle(4))\r\n",
        "print(kUniveralCircle(5))"
      ],
      "execution_count": 81,
      "outputs": [
        {
          "output_type": "stream",
          "text": [
            "01011100\n",
            "0100111101011000\n",
            "00100110101111101100010100000111\n"
          ],
          "name": "stdout"
        }
      ]
    },
    {
      "cell_type": "code",
      "metadata": {
        "id": "KlAmQKZr3b-4"
      },
      "source": [
        "# Create a function for test suite\r\n",
        "def TestSuite(function, cases):\r\n",
        "    print(\"*\"*50)\r\n",
        "    print(\"TEST SUITE\\n\")\r\n",
        "    passed = 0\r\n",
        "    for i, case in enumerate(cases):\r\n",
        "        k, pattern, answer = case\r\n",
        "        result = function(k, pattern)\r\n",
        "        if result == answer:\r\n",
        "            print(\"- Test Case {} Passed. Expected: {}, Actual: {}\"\r\n",
        "                  .format(i+1, answer, result))\r\n",
        "            passed += 1\r\n",
        "        else:\r\n",
        "            print(\"- Test Case {} Failed. Expected: {}, Actual: {}\"\r\n",
        "                  .format(i+1, answer, result))\r\n",
        "    print(\"\\n{} out of {} passed.\".format(passed, len(cases)), end=\" \")\r\n",
        "    print(\"END OF TEST SUITE.\")\r\n",
        "    print(\"*\"*50)"
      ],
      "execution_count": null,
      "outputs": []
    },
    {
      "cell_type": "code",
      "metadata": {
        "id": "KAAHvfgs-u1W"
      },
      "source": [
        "# Create test cases to pass into test suite\r\n",
        "case1 = ()\r\n",
        "\r\n",
        "cases = [case1]\r\n",
        "\r\n",
        "TestSuite(kUniveralCircle, cases)"
      ],
      "execution_count": null,
      "outputs": []
    }
  ]
}