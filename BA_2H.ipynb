{
  "nbformat": 4,
  "nbformat_minor": 0,
  "metadata": {
    "colab": {
      "name": "BA_2H.ipynb",
      "provenance": [],
      "collapsed_sections": [],
      "toc_visible": true,
      "authorship_tag": "ABX9TyNRh/sTEVqfXYpiFrwUYGfD",
      "include_colab_link": true
    },
    "kernelspec": {
      "name": "python3",
      "display_name": "Python 3"
    }
  },
  "cells": [
    {
      "cell_type": "markdown",
      "metadata": {
        "id": "view-in-github",
        "colab_type": "text"
      },
      "source": [
        "<a href=\"https://colab.research.google.com/github/byunsy/bioinformatics-algorithms-py/blob/main/BA_2H.ipynb\" target=\"_parent\"><img src=\"https://colab.research.google.com/assets/colab-badge.svg\" alt=\"Open In Colab\"/></a>"
      ]
    },
    {
      "cell_type": "markdown",
      "metadata": {
        "id": "hAArkvw4eGFu"
      },
      "source": [
        "# Distance Between Pattern and Strings Problem"
      ]
    },
    {
      "cell_type": "markdown",
      "metadata": {
        "id": "4zUHgL9TAIHr"
      },
      "source": [
        "### Function"
      ]
    },
    {
      "cell_type": "code",
      "metadata": {
        "id": "v-W9s0A38C27"
      },
      "source": [
        "def HammingDistance(str1, str2):\r\n",
        "    if len(str1) != len(str2):\r\n",
        "        raise Exception(\"Error: Two strings must be of equal length.\")\r\n",
        "\r\n",
        "    mismatch = 0\r\n",
        "    for i in range(len(str1)):\r\n",
        "        if str1[i] != str2[i]:\r\n",
        "            mismatch += 1\r\n",
        "    return mismatch"
      ],
      "execution_count": 3,
      "outputs": []
    },
    {
      "cell_type": "code",
      "metadata": {
        "id": "Xh5tVWkPpFYN"
      },
      "source": [
        "import math\r\n",
        "\r\n",
        "def DistancePatternString(pattern, dna):\r\n",
        "    k = len(pattern)\r\n",
        "    distance = 0\r\n",
        "    for text in dna:\r\n",
        "        h_distance = math.inf\r\n",
        "        bound = len(text) - k + 1\r\n",
        "        for i in range(bound):\r\n",
        "            kmer = text[i:i+k]\r\n",
        "            if HammingDistance(pattern, kmer) < h_distance:\r\n",
        "                h_distance = HammingDistance(pattern, kmer)\r\n",
        "        distance += h_distance\r\n",
        "\r\n",
        "    return distance"
      ],
      "execution_count": 4,
      "outputs": []
    },
    {
      "cell_type": "markdown",
      "metadata": {
        "id": "nALreObfAPAl"
      },
      "source": [
        "### Test Cases"
      ]
    },
    {
      "cell_type": "code",
      "metadata": {
        "id": "KlAmQKZr3b-4"
      },
      "source": [
        "# Create a function for test suite\r\n",
        "def TestSuite(function, cases):\r\n",
        "    print(\"*\"*50)\r\n",
        "    print(\"TEST SUITE\\n\")\r\n",
        "    passed = 0\r\n",
        "    for i, case in enumerate(cases):\r\n",
        "        pattern, dna, answer = case\r\n",
        "        result = function(pattern, dna)\r\n",
        "        if result == answer:\r\n",
        "            print(\"- Test Case {} Passed. Expected: {}, Actual: {}\"\r\n",
        "                  .format(i+1, answer, result))\r\n",
        "            passed += 1\r\n",
        "        else:\r\n",
        "            print(\"- Test Case {} Failed. Expected: {}, Actual: {}\"\r\n",
        "                  .format(i+1, answer, result))\r\n",
        "    print(\"\\n{} out of {} passed.\".format(passed, len(cases)), end=\" \")\r\n",
        "    print(\"END OF TEST SUITE.\")\r\n",
        "    print(\"*\"*50)"
      ],
      "execution_count": 10,
      "outputs": []
    },
    {
      "cell_type": "code",
      "metadata": {
        "colab": {
          "base_uri": "https://localhost:8080/"
        },
        "id": "KAAHvfgs-u1W",
        "outputId": "a24a5dfe-eb82-40cf-ee6c-e3846dd242f0"
      },
      "source": [
        "# Create test cases to pass into test suite\r\n",
        "case1 = (\"AAA\", [\"TTACCTTAAC\", \"GATATCTGTC\", \"ACGGCGTTCG\", \"CCCTAAAGAG\", \"CGTCAGAGGT\"], 5)\r\n",
        "case2 = (\"TAA\", [\"TTTATTT\", \"CCTACAC\", \"GGTAGAG\"], 3)\r\n",
        "case3 = (\"AAA\", [\"AAACT\", \"AAAC\", \"AAAG\"], 0)\r\n",
        "case4 = (\"AAA\", [\"TTTTAAA\", \"CCCCAAA\", \"GGGGAAA\"], 0)\r\n",
        "case5 = (\"AAA\", [\"AAATTTT\", \"AAACCCC\", \"AAAGGGG\"], 0)\r\n",
        "\r\n",
        "cases = [case1, case2, case3, case4, case5]\r\n",
        "\r\n",
        "TestSuite(DistancePatternString, cases)"
      ],
      "execution_count": 11,
      "outputs": [
        {
          "output_type": "stream",
          "text": [
            "**************************************************\n",
            "TEST SUITE\n",
            "\n",
            "- Test Case 1 Passed. Expected: 5, Actual: 5\n",
            "- Test Case 2 Passed. Expected: 3, Actual: 3\n",
            "- Test Case 3 Passed. Expected: 0, Actual: 0\n",
            "- Test Case 4 Passed. Expected: 0, Actual: 0\n",
            "- Test Case 5 Passed. Expected: 0, Actual: 0\n",
            "\n",
            "5 out of 5 passed. END OF TEST SUITE.\n",
            "**************************************************\n"
          ],
          "name": "stdout"
        }
      ]
    }
  ]
}