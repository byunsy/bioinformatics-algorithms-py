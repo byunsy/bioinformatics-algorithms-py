{
  "nbformat": 4,
  "nbformat_minor": 0,
  "metadata": {
    "colab": {
      "name": "BA_4E.ipynb",
      "provenance": [],
      "collapsed_sections": [],
      "toc_visible": true,
      "authorship_tag": "ABX9TyN7EJZT5vqLKQ1qJvv3U0Mi",
      "include_colab_link": true
    },
    "kernelspec": {
      "name": "python3",
      "display_name": "Python 3"
    }
  },
  "cells": [
    {
      "cell_type": "markdown",
      "metadata": {
        "id": "view-in-github",
        "colab_type": "text"
      },
      "source": [
        "<a href=\"https://colab.research.google.com/github/byunsy/bioinformatics-algorithms-py/blob/main/BA_4E.ipynb\" target=\"_parent\"><img src=\"https://colab.research.google.com/assets/colab-badge.svg\" alt=\"Open In Colab\"/></a>"
      ]
    },
    {
      "cell_type": "markdown",
      "metadata": {
        "id": "hAArkvw4eGFu"
      },
      "source": [
        "# Cyclopeptide Sequencing Problem"
      ]
    },
    {
      "cell_type": "markdown",
      "metadata": {
        "id": "4zUHgL9TAIHr"
      },
      "source": [
        "### Function"
      ]
    },
    {
      "cell_type": "code",
      "metadata": {
        "id": "V9snOW9O5x4K"
      },
      "source": [
        "def Expand(pep):\r\n",
        "\r\n",
        "    amino_acid = ['G','A','S','P','V','T','C','I','L','N','D','K','Q','E','M','H','F','R','Y','W']\r\n",
        "    new_pep = set()\r\n",
        "\r\n",
        "    for i in pep:\r\n",
        "        for amino in amino_acid:\r\n",
        "            new_pep.add(i+amino)\r\n",
        "\r\n",
        "    return new_pep"
      ],
      "execution_count": 10,
      "outputs": []
    },
    {
      "cell_type": "code",
      "metadata": {
        "id": "k2vkzzA87qqm"
      },
      "source": [
        "def Mass(pep, amino_acid_mass):\r\n",
        "\r\n",
        "    mass = 0\r\n",
        "    for i in pep:\r\n",
        "        mass += amino_acid_mass[i]\r\n",
        "\r\n",
        "    return mass"
      ],
      "execution_count": 2,
      "outputs": []
    },
    {
      "cell_type": "code",
      "metadata": {
        "id": "7yyg6pOW_31z"
      },
      "source": [
        "def LinearSpectrum(peptide, amino_acid_mass):\r\n",
        "    \r\n",
        "    prefix_mass = [0]\r\n",
        "    for amino in peptide:\r\n",
        "        prefix_mass.append(prefix_mass[-1] + amino_acid_mass[amino])\r\n",
        "\r\n",
        "    linear_spectrum = [0]\r\n",
        "    for i in range(len(peptide)):\r\n",
        "        j = i + 1\r\n",
        "        while j <= len(peptide):\r\n",
        "            linear_spectrum.append(prefix_mass[j]-prefix_mass[i])\r\n",
        "            j += 1\r\n",
        "    \r\n",
        "    return sorted(linear_spectrum)"
      ],
      "execution_count": 3,
      "outputs": []
    },
    {
      "cell_type": "code",
      "metadata": {
        "id": "LVFmyHPz9Nhs"
      },
      "source": [
        "def CyclicSpectrum(peptide, amino_acid_mass):\r\n",
        "    \r\n",
        "    prefix_mass = [0]\r\n",
        "    for amino in peptide:\r\n",
        "        prefix_mass.append(prefix_mass[-1] + amino_acid_mass[amino])\r\n",
        "\r\n",
        "    peptide_mass = prefix_mass[len(peptide)]\r\n",
        "    cyclic_spectrum = [0]\r\n",
        "    for i in range(len(peptide)):\r\n",
        "        j = i + 1\r\n",
        "        while j <= len(peptide):\r\n",
        "            cyclic_spectrum.append(prefix_mass[j]-prefix_mass[i])\r\n",
        "            if i > 0 and j < len(peptide):\r\n",
        "                cyclic_spectrum.append(peptide_mass - (prefix_mass[j]-prefix_mass[i]))\r\n",
        "            j += 1\r\n",
        "    \r\n",
        "    return sorted(cyclic_spectrum)"
      ],
      "execution_count": 4,
      "outputs": []
    },
    {
      "cell_type": "code",
      "metadata": {
        "id": "sq40lvxd_fdk"
      },
      "source": [
        "from collections import Counter\r\n",
        "\r\n",
        "def Consistent(lin_spectrum, cyc_spectrum):\r\n",
        "\r\n",
        "    lin_counter = Counter(lin_spectrum) \r\n",
        "    cyc_counter = Counter(cyc_spectrum)\r\n",
        "    \r\n",
        "    for i in lin_spectrum:\r\n",
        "        if i not in cyc_spectrum:\r\n",
        "            return False\r\n",
        "        elif lin_counter[i] > cyc_counter[i]:\r\n",
        "            return False\r\n",
        "\r\n",
        "    return True "
      ],
      "execution_count": 5,
      "outputs": []
    },
    {
      "cell_type": "code",
      "metadata": {
        "id": "a-2rFsLlHLV7"
      },
      "source": [
        "def DisplayPepMass(pep):\r\n",
        "\r\n",
        "    string = \"\"\r\n",
        "    for amino in pep:\r\n",
        "        string += str(Mass(amino, amino_acid_mass)) + \"-\"\r\n",
        "\r\n",
        "    return string[:-1]"
      ],
      "execution_count": 18,
      "outputs": []
    },
    {
      "cell_type": "code",
      "metadata": {
        "id": "sV2L7gBvIg0b"
      },
      "source": [
        "amino_acid_mass = {\r\n",
        "    'G' : 57, 'A' : 71, 'S' : 87, 'P' : 97, 'V' : 99, 'T' : 101, 'C' : 103, 'I' : 113, 'L' : 113, 'N' : 114,\r\n",
        "    'D' : 115, 'K' : 128, 'Q' : 128, 'E' : 129, 'M' : 131, 'H' : 137, 'F' : 147, 'R' : 156, 'Y' : 163, 'W' : 186 \r\n",
        "}\r\n",
        "\r\n",
        "def CyclopeptideSequencing(spectrum):\r\n",
        "\r\n",
        "    parent_mass = spectrum[-1]\r\n",
        "    peptides ={\"\"}\r\n",
        "    ret_peptides = set()\r\n",
        "\r\n",
        "    while len(peptides) != 0:\r\n",
        "        peptides = Expand(peptides)\r\n",
        "\r\n",
        "        to_remove = set()\r\n",
        "        for pep in peptides:\r\n",
        "            if Mass(pep, amino_acid_mass) == parent_mass:\r\n",
        "                if CyclicSpectrum(pep, amino_acid_mass) == spectrum:\r\n",
        "                    ret_peptides.add(DisplayPepMass(pep))\r\n",
        "                to_remove.add(pep)\r\n",
        "\r\n",
        "            elif not Consistent(LinearSpectrum(pep, amino_acid_mass), spectrum):\r\n",
        "                to_remove.add(pep)\r\n",
        "        \r\n",
        "        for i in to_remove:\r\n",
        "            peptides.remove(i)\r\n",
        "\r\n",
        "    return sorted(ret_peptides)"
      ],
      "execution_count": 32,
      "outputs": []
    },
    {
      "cell_type": "markdown",
      "metadata": {
        "id": "nALreObfAPAl"
      },
      "source": [
        "### Test Cases"
      ]
    },
    {
      "cell_type": "code",
      "metadata": {
        "id": "KlAmQKZr3b-4"
      },
      "source": [
        "# Create a function for test suite\r\n",
        "def TestSuite(function, cases):\r\n",
        "    print(\"*\"*50)\r\n",
        "    print(\"TEST SUITE\\n\")\r\n",
        "    passed = 0\r\n",
        "    for i, case in enumerate(cases):\r\n",
        "        spectrum, answer = case\r\n",
        "        result = function(spectrum)\r\n",
        "        if sorted(result) == sorted(answer):\r\n",
        "            print(\"- Test Case {} Passed. Expected: {}, Actual: {}\"\r\n",
        "                  .format(i+1, answer, result))\r\n",
        "            passed += 1\r\n",
        "        else:\r\n",
        "            print(\"- Test Case {} Failed. Expected: {}, Actual: {}\"\r\n",
        "                  .format(i+1, answer, result))\r\n",
        "    print(\"\\n{} out of {} passed.\".format(passed, len(cases)), end=\" \")\r\n",
        "    print(\"END OF TEST SUITE.\")\r\n",
        "    print(\"*\"*50)"
      ],
      "execution_count": 35,
      "outputs": []
    },
    {
      "cell_type": "code",
      "metadata": {
        "colab": {
          "base_uri": "https://localhost:8080/"
        },
        "id": "KAAHvfgs-u1W",
        "outputId": "0a43d58e-a340-4e80-862f-1ca96a5b91ce"
      },
      "source": [
        "# Create test cases to pass into test suite\r\n",
        "case1 = ([0, 113, 128, 186, 241, 299, 314, 427], \r\n",
        "         ['186-128-113', '186-113-128', '128-186-113', '128-113-186', '113-186-128', '113-128-186'])\r\n",
        "\r\n",
        "case2 = ([0, 71, 97, 99, 103, 113, 113, 114, 115, 131, 137, 196, 200, 202, 208, 214, 226, 227, 228, 240, 245, 299, 311, 311, 316, 327, 337, 339, 340, 341, 358, 408, 414, 424, 429, 436, 440, 442, 453, 455, 471, 507, 527, 537, 539, 542, 551, 554, 556, 566, 586, 622, 638, 640, 651, 653, 657, 664, 669, 679, 685, 735, 752, 753, 754, 756, 766, 777, 782, 782, 794, 848, 853, 865, 866, 867, 879, 885, 891, 893, 897, 956, 962, 978, 979, 980, 980, 990, 994, 996, 1022, 1093], \r\n",
        "         ['103-137-71-131-114-113-113-115-99-97', '103-97-99-115-113-113-114-131-71-137', '113-113-114-131-71-137-103-97-99-115', '113-113-115-99-97-103-137-71-131-114', '113-114-131-71-137-103-97-99-115-113', '113-115-99-97-103-137-71-131-114-113', '114-113-113-115-99-97-103-137-71-131', '114-131-71-137-103-97-99-115-113-113', '115-113-113-114-131-71-137-103-97-99', '115-99-97-103-137-71-131-114-113-113', '131-114-113-113-115-99-97-103-137-71', '131-71-137-103-97-99-115-113-113-114', '137-103-97-99-115-113-113-114-131-71', '137-71-131-114-113-113-115-99-97-103', '71-131-114-113-113-115-99-97-103-137', '71-137-103-97-99-115-113-113-114-131', '97-103-137-71-131-114-113-113-115-99', '97-99-115-113-113-114-131-71-137-103', '99-115-113-113-114-131-71-137-103-97', '99-97-103-137-71-131-114-113-113-115'])\r\n",
        "\r\n",
        "cases = [case1, case2]\r\n",
        "\r\n",
        "TestSuite(CyclopeptideSequencing, cases)"
      ],
      "execution_count": 39,
      "outputs": [
        {
          "output_type": "stream",
          "text": [
            "**************************************************\n",
            "TEST SUITE\n",
            "\n",
            "- Test Case 1 Passed. Expected: ['186-128-113', '186-113-128', '128-186-113', '128-113-186', '113-186-128', '113-128-186'], Actual: ['113-128-186', '113-186-128', '128-113-186', '128-186-113', '186-113-128', '186-128-113']\n",
            "- Test Case 2 Passed. Expected: ['103-137-71-131-114-113-113-115-99-97', '103-97-99-115-113-113-114-131-71-137', '113-113-114-131-71-137-103-97-99-115', '113-113-115-99-97-103-137-71-131-114', '113-114-131-71-137-103-97-99-115-113', '113-115-99-97-103-137-71-131-114-113', '114-113-113-115-99-97-103-137-71-131', '114-131-71-137-103-97-99-115-113-113', '115-113-113-114-131-71-137-103-97-99', '115-99-97-103-137-71-131-114-113-113', '131-114-113-113-115-99-97-103-137-71', '131-71-137-103-97-99-115-113-113-114', '137-103-97-99-115-113-113-114-131-71', '137-71-131-114-113-113-115-99-97-103', '71-131-114-113-113-115-99-97-103-137', '71-137-103-97-99-115-113-113-114-131', '97-103-137-71-131-114-113-113-115-99', '97-99-115-113-113-114-131-71-137-103', '99-115-113-113-114-131-71-137-103-97', '99-97-103-137-71-131-114-113-113-115'], Actual: ['103-137-71-131-114-113-113-115-99-97', '103-97-99-115-113-113-114-131-71-137', '113-113-114-131-71-137-103-97-99-115', '113-113-115-99-97-103-137-71-131-114', '113-114-131-71-137-103-97-99-115-113', '113-115-99-97-103-137-71-131-114-113', '114-113-113-115-99-97-103-137-71-131', '114-131-71-137-103-97-99-115-113-113', '115-113-113-114-131-71-137-103-97-99', '115-99-97-103-137-71-131-114-113-113', '131-114-113-113-115-99-97-103-137-71', '131-71-137-103-97-99-115-113-113-114', '137-103-97-99-115-113-113-114-131-71', '137-71-131-114-113-113-115-99-97-103', '71-131-114-113-113-115-99-97-103-137', '71-137-103-97-99-115-113-113-114-131', '97-103-137-71-131-114-113-113-115-99', '97-99-115-113-113-114-131-71-137-103', '99-115-113-113-114-131-71-137-103-97', '99-97-103-137-71-131-114-113-113-115']\n",
            "\n",
            "2 out of 2 passed. END OF TEST SUITE.\n",
            "**************************************************\n"
          ],
          "name": "stdout"
        }
      ]
    },
    {
      "cell_type": "markdown",
      "metadata": {
        "id": "MqjsUbnAH2oy"
      },
      "source": [
        "### Stepik Coding Exercise"
      ]
    }
  ]
}