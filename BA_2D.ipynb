{
  "nbformat": 4,
  "nbformat_minor": 0,
  "metadata": {
    "colab": {
      "name": "BA_2D.ipynb",
      "provenance": [],
      "collapsed_sections": [],
      "toc_visible": true,
      "authorship_tag": "ABX9TyMRrDrT8Ms7TAH9HDkqiLYV",
      "include_colab_link": true
    },
    "kernelspec": {
      "name": "python3",
      "display_name": "Python 3"
    }
  },
  "cells": [
    {
      "cell_type": "markdown",
      "metadata": {
        "id": "view-in-github",
        "colab_type": "text"
      },
      "source": [
        "<a href=\"https://colab.research.google.com/github/byunsy/bioinformatics-algorithms-py/blob/main/BA_2D.ipynb\" target=\"_parent\"><img src=\"https://colab.research.google.com/assets/colab-badge.svg\" alt=\"Open In Colab\"/></a>"
      ]
    },
    {
      "cell_type": "markdown",
      "metadata": {
        "id": "hAArkvw4eGFu"
      },
      "source": [
        "# Greedy Motif Search Problem"
      ]
    },
    {
      "cell_type": "markdown",
      "metadata": {
        "id": "4zUHgL9TAIHr"
      },
      "source": [
        "### Function"
      ]
    },
    {
      "cell_type": "code",
      "metadata": {
        "id": "gor1V7C3ssxD"
      },
      "source": [
        "def ProfileMostProbable(text, k, profile):\r\n",
        "\r\n",
        "    bound = len(text) - k + 1\r\n",
        "    bases = \"ACGT\"\r\n",
        "    max_prob = 0\r\n",
        "    most_prob_kmer = text[0:k]\r\n",
        "\r\n",
        "    for i in range(bound):\r\n",
        "        kmer = text[i:i+k]\r\n",
        "        prob = 1\r\n",
        "        for j, nucleotide in enumerate(kmer):\r\n",
        "            index = bases.index(nucleotide)\r\n",
        "            prob *= profile[index][j]\r\n",
        "        if prob > max_prob:\r\n",
        "            max_prob = prob\r\n",
        "            most_prob_kmer = kmer\r\n",
        "\r\n",
        "    return most_prob_kmer"
      ],
      "execution_count": 1,
      "outputs": []
    },
    {
      "cell_type": "code",
      "metadata": {
        "id": "ORBD2XGYCGco"
      },
      "source": [
        "def CountMotif(motifs, k):\r\n",
        "    bases = \"ACGT\"\r\n",
        "    profile = [[0]*k, [0]*k, [0]*k, [0]*k]\r\n",
        "    for string in motifs:\r\n",
        "        for i, nucleotide in enumerate(string):\r\n",
        "            index = bases.index(nucleotide)\r\n",
        "            profile[index][i] += 1\r\n",
        "\r\n",
        "    return profile"
      ],
      "execution_count": 2,
      "outputs": []
    },
    {
      "cell_type": "code",
      "metadata": {
        "id": "qeuVf_A0UgoS"
      },
      "source": [
        "def ProfileMotif(motifs, k):\r\n",
        "    counted = CountMotif(motifs, k)\r\n",
        "    \r\n",
        "    return [[i/len(motifs) for i in lst] for lst in counted]"
      ],
      "execution_count": 3,
      "outputs": []
    },
    {
      "cell_type": "code",
      "metadata": {
        "id": "gMRrREP4Uhge"
      },
      "source": [
        "def ScoreMotif(motifs):\r\n",
        "    score = 0\r\n",
        "    for i in range(len(motifs[0])):\r\n",
        "        i_bases = [string[i] for string in motifs]\r\n",
        "        max_count = max(i_bases.count('A'), i_bases.count('C'),\r\n",
        "                        i_bases.count('G'), i_bases.count('T'))\r\n",
        "        score += (len(i_bases) - max_count)\r\n",
        "\r\n",
        "    return score"
      ],
      "execution_count": 4,
      "outputs": []
    },
    {
      "cell_type": "code",
      "metadata": {
        "id": "oR3xkUEXoGGh"
      },
      "source": [
        "def GreedyMotifSearch(dna, k, t):\r\n",
        "    best_motifs = [string[:k] for string in dna]\r\n",
        "    bound = len(dna[0]) - k + 1\r\n",
        "    for i in range(bound):\r\n",
        "        motifs = []\r\n",
        "        motifs.append(dna[0][i:i+k])\r\n",
        "        for j in range(1, t):\r\n",
        "            profile = ProfileMotif(motifs, k)\r\n",
        "            kmer = ProfileMostProbable(dna[j], k, profile)\r\n",
        "            motifs.append(kmer)\r\n",
        "        if ScoreMotif(motifs) < ScoreMotif(best_motifs):\r\n",
        "            best_motifs = motifs\r\n",
        "            \r\n",
        "    return best_motifs"
      ],
      "execution_count": 5,
      "outputs": []
    },
    {
      "cell_type": "markdown",
      "metadata": {
        "id": "nALreObfAPAl"
      },
      "source": [
        "### Test Cases"
      ]
    },
    {
      "cell_type": "code",
      "metadata": {
        "id": "KlAmQKZr3b-4"
      },
      "source": [
        "# Create a function for test suite\r\n",
        "def TestSuite(function, cases):\r\n",
        "    print(\"*\"*50)\r\n",
        "    print(\"TEST SUITE\\n\")\r\n",
        "    passed = 0\r\n",
        "    for i, case in enumerate(cases):\r\n",
        "        dna, k, t, answer = case\r\n",
        "        result = function(dna, k, t)\r\n",
        "        if result == answer:\r\n",
        "            print(\"- Test Case {} Passed. Expected: {}, Actual: {}\"\r\n",
        "                  .format(i+1, answer, result))\r\n",
        "            passed += 1\r\n",
        "        else:\r\n",
        "            print(\"- Test Case {} Failed. Expected: {}, Actual: {}\"\r\n",
        "                  .format(i+1, answer, result))\r\n",
        "    print(\"\\n{} out of {} passed.\".format(passed, len(cases)), end=\" \")\r\n",
        "    print(\"END OF TEST SUITE.\")\r\n",
        "    print(\"*\"*50)"
      ],
      "execution_count": 6,
      "outputs": []
    },
    {
      "cell_type": "code",
      "metadata": {
        "colab": {
          "base_uri": "https://localhost:8080/"
        },
        "id": "KAAHvfgs-u1W",
        "outputId": "fc7e5e4a-cd16-4baf-bca0-bd8f8233d10a"
      },
      "source": [
        "# Create test cases to pass into test suite\r\n",
        "case1 = ([\"GGCGTTCAGGCA\", \"AAGAATCAGTCA\", \"CAAGGAGTTCGC\", \"CACGTCAATCAC\", \"CAATAATATTCG\"], 3, 5, [\"CAG\",\"CAG\",\"CAA\",\"CAA\",\"CAA\"])\r\n",
        "\r\n",
        "case2 = ([\"GCCCAA\",\"GGCCTG\",\"AACCTA\",\"TTCCTT\"], 3, 4, [\"GCC\",\"GCC\",\"AAC\",\"TTC\"])\r\n",
        "\r\n",
        "case3 = ([\"GAGGCGCACATCATTATCGATAACGATTCGCCGCATTGCC\",\r\n",
        "          \"TCATCGAATCCGATAACTGACACCTGCTCTGGCACCGCTC\",\r\n",
        "          \"TCGGCGGTATAGCCAGAAAGCGTAGTGCCAATAATTTCCT\",\r\n",
        "          \"GAGTCGTGGTGAAGTGTGGGTTATGGGGAAAGGCAGACTG\",\r\n",
        "          \"GACGGCAACTACGGTTACAACGCAGCAACCGAAGAATATT\",\r\n",
        "          \"TCTGTTGTTGCTAACACCGTTAAAGGCGGCGACGGCAACT\",\r\n",
        "          \"AAGCGGCCAACGTAGGCGCGGCTTGGCATCTCGGTGTGTG\",\r\n",
        "          \"AATTGAAAGGCGCATCTTACTCTTTTCGCTTTCAAAAAAA\"], 5, 8, [\"GAGGC\",\"TCATC\",\"TCGGC\",\"GAGTC\",\"GCAGC\",\"GCGGC\",\"GCGGC\",\"GCATC\"])\r\n",
        "\r\n",
        "case4 = ([\"GCAGGTTAATACCGCGGATCAGCTGAGAAACCGGAATGTGCGT\",\r\n",
        "          \"CCTGCATGCCCGGTTTGAGGAACATCAGCGAAGAACTGTGCGT\",\r\n",
        "          \"GCGCCAGTAACCCGTGCCAGTCAGGTTAATGGCAGTAACATTT\",\r\n",
        "          \"AACCCGTGCCAGTCAGGTTAATGGCAGTAACATTTATGCCTTC\",\r\n",
        "          \"ATGCCTTCCGCGCCAATTGTTCGTATCGTCGCCACTTCGAGTG\"], 6, 5, [\"GTGCGT\",\"GTGCGT\",\"GCGCCA\",\"GTGCCA\",\"GCGCCA\"])\r\n",
        "\r\n",
        "case5 = ([\"GACCTACGGTTACAACGCAGCAACCGAAGAATATTGGCAA\",\r\n",
        "          \"TCATTATCGATAACGATTCGCCGGAGGCCATTGCCGCACA\",\r\n",
        "          \"GGAGTCTGGTGAAGTGTGGGTTATGGGGCAGACTGGGAAA\",\r\n",
        "          \"GAATCCGATAACTGACACCTGCTCTGGCACCGCTCTCATC\",\r\n",
        "          \"AAGCGCGTAGGCGCGGCTTGGCATCTCGGTGTGTGGCCAA\",\r\n",
        "          \"AATTGAAAGGCGCATCTTACTCTTTTCGCTTAAAATCAAA\",\r\n",
        "          \"GGTATAGCCAGAAAGCGTAGTTAATTTCGGCTCCTGCCAA\",\r\n",
        "          \"TCTGTTGTTGCTAACACCGTTAAAGGCGGCGACGGCAACT\"], 5, 8, [\"GCAGC\",\"TCATT\",\"GGAGT\",\"TCATC\",\"GCATC\",\"GCATC\",\"GGTAT\",\"GCAAC\"])\r\n",
        "\r\n",
        "cases = [case1, case2, case3, case4, case5]\r\n",
        "\r\n",
        "TestSuite(GreedyMotifSearch, cases)"
      ],
      "execution_count": 7,
      "outputs": [
        {
          "output_type": "stream",
          "text": [
            "**************************************************\n",
            "TEST SUITE\n",
            "\n",
            "- Test Case 1 Passed. Expected: ['CAG', 'CAG', 'CAA', 'CAA', 'CAA'], Actual: ['CAG', 'CAG', 'CAA', 'CAA', 'CAA']\n",
            "- Test Case 2 Passed. Expected: ['GCC', 'GCC', 'AAC', 'TTC'], Actual: ['GCC', 'GCC', 'AAC', 'TTC']\n",
            "- Test Case 3 Passed. Expected: ['GAGGC', 'TCATC', 'TCGGC', 'GAGTC', 'GCAGC', 'GCGGC', 'GCGGC', 'GCATC'], Actual: ['GAGGC', 'TCATC', 'TCGGC', 'GAGTC', 'GCAGC', 'GCGGC', 'GCGGC', 'GCATC']\n",
            "- Test Case 4 Passed. Expected: ['GTGCGT', 'GTGCGT', 'GCGCCA', 'GTGCCA', 'GCGCCA'], Actual: ['GTGCGT', 'GTGCGT', 'GCGCCA', 'GTGCCA', 'GCGCCA']\n",
            "- Test Case 5 Passed. Expected: ['GCAGC', 'TCATT', 'GGAGT', 'TCATC', 'GCATC', 'GCATC', 'GGTAT', 'GCAAC'], Actual: ['GCAGC', 'TCATT', 'GGAGT', 'TCATC', 'GCATC', 'GCATC', 'GGTAT', 'GCAAC']\n",
            "\n",
            "5 out of 5 passed. END OF TEST SUITE.\n",
            "**************************************************\n"
          ],
          "name": "stdout"
        }
      ]
    }
  ]
}