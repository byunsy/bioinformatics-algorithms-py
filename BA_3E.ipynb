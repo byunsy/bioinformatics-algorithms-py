{
  "nbformat": 4,
  "nbformat_minor": 0,
  "metadata": {
    "colab": {
      "name": "BA_3E.ipynb",
      "provenance": [],
      "collapsed_sections": [],
      "toc_visible": true,
      "authorship_tag": "ABX9TyOtuCxULAUggzdrkeFjA+1K",
      "include_colab_link": true
    },
    "kernelspec": {
      "name": "python3",
      "display_name": "Python 3"
    }
  },
  "cells": [
    {
      "cell_type": "markdown",
      "metadata": {
        "id": "view-in-github",
        "colab_type": "text"
      },
      "source": [
        "<a href=\"https://colab.research.google.com/github/byunsy/bioinformatics-algorithms-py/blob/main/BA_3E.ipynb\" target=\"_parent\"><img src=\"https://colab.research.google.com/assets/colab-badge.svg\" alt=\"Open In Colab\"/></a>"
      ]
    },
    {
      "cell_type": "markdown",
      "metadata": {
        "id": "hAArkvw4eGFu"
      },
      "source": [
        "# De Bruijn Graph from K-mers Problem"
      ]
    },
    {
      "cell_type": "markdown",
      "metadata": {
        "id": "4zUHgL9TAIHr"
      },
      "source": [
        "### Function"
      ]
    },
    {
      "cell_type": "code",
      "metadata": {
        "id": "6FwdPq8UlxR5"
      },
      "source": [
        "def prefix(string):\r\n",
        "    # return string[:len(string)-1]\r\n",
        "    return string[:-1]\r\n",
        "\r\n",
        "def suffix(string):\r\n",
        "    return string[1:]"
      ],
      "execution_count": 1,
      "outputs": []
    },
    {
      "cell_type": "code",
      "metadata": {
        "id": "ROW5LPrzxmKW"
      },
      "source": [
        "def DeBruijn(patterns):\r\n",
        "    \r\n",
        "    graph = {}\r\n",
        "    for kmer in sorted(patterns):\r\n",
        "        if prefix(kmer) not in graph:\r\n",
        "            graph[prefix(kmer)] = [suffix(kmer)]\r\n",
        "        else:\r\n",
        "            graph[prefix(kmer)].append(suffix(kmer))\r\n",
        "\r\n",
        "    return graph"
      ],
      "execution_count": 13,
      "outputs": []
    },
    {
      "cell_type": "code",
      "metadata": {
        "id": "-m6eScpIr0CI"
      },
      "source": [
        "def DisplayBruijn(patterns):\r\n",
        "\r\n",
        "    graph = DeBruijn(patterns)\r\n",
        "\r\n",
        "    # Print the key and values lexicographically \r\n",
        "    for node in graph:\r\n",
        "        if graph[node] != []:\r\n",
        "            neighbor = \"\"\r\n",
        "            for n in graph[node]:\r\n",
        "                neighbor += n + \",\"\r\n",
        "            print(\"{} -> {}\".format(node, neighbor[:-1]))"
      ],
      "execution_count": 39,
      "outputs": []
    },
    {
      "cell_type": "markdown",
      "metadata": {
        "id": "nALreObfAPAl"
      },
      "source": [
        "### Test Cases"
      ]
    },
    {
      "cell_type": "code",
      "metadata": {
        "id": "lzzj7KQ98wRn"
      },
      "source": [
        "def DisplayBruijn2(patterns):\r\n",
        "\r\n",
        "    graph = DeBruijn(patterns)\r\n",
        "\r\n",
        "    result = \"\"\r\n",
        "    # Print the key and values lexicographically \r\n",
        "    for node in graph:\r\n",
        "        if graph[node] != []:\r\n",
        "            neighbor = \"\"\r\n",
        "            for n in graph[node]:\r\n",
        "                neighbor += n + \",\"\r\n",
        "            result += \"{} -> {}\".format(node, neighbor[:-1]) + \", \"\r\n",
        "\r\n",
        "    return result[:-2]"
      ],
      "execution_count": 41,
      "outputs": []
    },
    {
      "cell_type": "code",
      "metadata": {
        "id": "KlAmQKZr3b-4"
      },
      "source": [
        "# Create a function for test suite\r\n",
        "def TestSuite(function, cases):\r\n",
        "    print(\"*\"*50)\r\n",
        "    print(\"TEST SUITE\\n\")\r\n",
        "    passed = 0\r\n",
        "    for i, case in enumerate(cases):\r\n",
        "        patterns, answer = case\r\n",
        "        result = function(patterns)\r\n",
        "        if result == answer:\r\n",
        "            print(\"- Test Case {} Passed. Expected: {}, Actual: {}\"\r\n",
        "                  .format(i+1, answer, result))\r\n",
        "            passed += 1\r\n",
        "        else:\r\n",
        "            print(\"- Test Case {} Failed. Expected: {}, Actual: {}\"\r\n",
        "                  .format(i+1, answer, result))\r\n",
        "    print(\"\\n{} out of {} passed.\".format(passed, len(cases)), end=\" \")\r\n",
        "    print(\"END OF TEST SUITE.\")\r\n",
        "    print(\"*\"*50)"
      ],
      "execution_count": 48,
      "outputs": []
    },
    {
      "cell_type": "code",
      "metadata": {
        "colab": {
          "base_uri": "https://localhost:8080/"
        },
        "id": "KAAHvfgs-u1W",
        "outputId": "e404c29a-ac94-4fd7-9d54-5e72d4967eb8"
      },
      "source": [
        "# Create test cases to pass into test suite\r\n",
        "case1 = ([\"GAGG\",\"CAGG\",\"GGGG\",\"GGGA\",\"CAGG\",\"AGGG\",\"GGAG\"], \"AGG -> GGG, CAG -> AGG,AGG, GAG -> AGG, GGA -> GAG, GGG -> GGA,GGG\")\r\n",
        "\r\n",
        "cases = [case1]\r\n",
        "\r\n",
        "TestSuite(DisplayBruijn2, cases)"
      ],
      "execution_count": 49,
      "outputs": [
        {
          "output_type": "stream",
          "text": [
            "**************************************************\n",
            "TEST SUITE\n",
            "\n",
            "- Test Case 1 Passed. Expected: AGG -> GGG, CAG -> AGG,AGG, GAG -> AGG, GGA -> GAG, GGG -> GGA,GGG, Actual: AGG -> GGG, CAG -> AGG,AGG, GAG -> AGG, GGA -> GAG, GGG -> GGA,GGG\n",
            "\n",
            "1 out of 1 passed. END OF TEST SUITE.\n",
            "**************************************************\n"
          ],
          "name": "stdout"
        }
      ]
    }
  ]
}