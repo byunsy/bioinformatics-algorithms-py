{
  "nbformat": 4,
  "nbformat_minor": 0,
  "metadata": {
    "colab": {
      "name": "BA_3A.ipynb",
      "provenance": [],
      "collapsed_sections": [],
      "toc_visible": true,
      "authorship_tag": "ABX9TyMaQRlzY2rDWYuFt3cCKRLb",
      "include_colab_link": true
    },
    "kernelspec": {
      "name": "python3",
      "display_name": "Python 3"
    }
  },
  "cells": [
    {
      "cell_type": "markdown",
      "metadata": {
        "id": "view-in-github",
        "colab_type": "text"
      },
      "source": [
        "<a href=\"https://colab.research.google.com/github/byunsy/bioinformatics-algorithms-py/blob/main/BA_3A.ipynb\" target=\"_parent\"><img src=\"https://colab.research.google.com/assets/colab-badge.svg\" alt=\"Open In Colab\"/></a>"
      ]
    },
    {
      "cell_type": "markdown",
      "metadata": {
        "id": "hAArkvw4eGFu"
      },
      "source": [
        "# String Composition Problem"
      ]
    },
    {
      "cell_type": "markdown",
      "metadata": {
        "id": "4zUHgL9TAIHr"
      },
      "source": [
        "### Function"
      ]
    },
    {
      "cell_type": "code",
      "metadata": {
        "id": "n6WLJMvnkspA"
      },
      "source": [
        "def StringCompose(text, k):\r\n",
        "    \r\n",
        "    kmers = []\r\n",
        "    bound = len(text) - k + 1\r\n",
        "    for i in range(bound):\r\n",
        "        kmers.append(text[i:i+k])\r\n",
        "    \r\n",
        "    return sorted(kmers)"
      ],
      "execution_count": 1,
      "outputs": []
    },
    {
      "cell_type": "markdown",
      "metadata": {
        "id": "nALreObfAPAl"
      },
      "source": [
        "### Test Cases"
      ]
    },
    {
      "cell_type": "code",
      "metadata": {
        "id": "KlAmQKZr3b-4"
      },
      "source": [
        "# Create a function for test suite\r\n",
        "def TestSuite(function, cases):\r\n",
        "    print(\"*\"*50)\r\n",
        "    print(\"TEST SUITE\\n\")\r\n",
        "    passed = 0\r\n",
        "    for i, case in enumerate(cases):\r\n",
        "        k, text, answer = case\r\n",
        "        result = function(text, k)\r\n",
        "        if sorted(result) == sorted(answer):\r\n",
        "            print(\"- Test Case {} Passed. Expected: {}, Actual: {}\"\r\n",
        "                  .format(i+1, answer, result))\r\n",
        "            passed += 1\r\n",
        "        else:\r\n",
        "            print(\"- Test Case {} Failed. Expected: {}, Actual: {}\"\r\n",
        "                  .format(i+1, answer, result))\r\n",
        "    print(\"\\n{} out of {} passed.\".format(passed, len(cases)), end=\" \")\r\n",
        "    print(\"END OF TEST SUITE.\")\r\n",
        "    print(\"*\"*50)"
      ],
      "execution_count": 3,
      "outputs": []
    },
    {
      "cell_type": "code",
      "metadata": {
        "colab": {
          "base_uri": "https://localhost:8080/"
        },
        "id": "KAAHvfgs-u1W",
        "outputId": "9c1c1edf-cd26-4cbe-e16c-52e732fd9d58"
      },
      "source": [
        "# Create test cases to pass into test suite\r\n",
        "case1 = (5, \"CAATCCAAC\", ['AATCC', 'ATCCA', 'CAATC', 'CCAAC', 'TCCAA'])\r\n",
        "case2 = (3, \"TATGGGGTGC\", ['ATG', 'GGG', 'GGG', 'GGT', 'GTG', 'TAT', 'TGC', 'TGG'])\r\n",
        "\r\n",
        "cases = [case1, case2]\r\n",
        "\r\n",
        "TestSuite(StringCompose, cases)"
      ],
      "execution_count": 4,
      "outputs": [
        {
          "output_type": "stream",
          "text": [
            "**************************************************\n",
            "TEST SUITE\n",
            "\n",
            "- Test Case 1 Passed. Expected: ['AATCC', 'ATCCA', 'CAATC', 'CCAAC', 'TCCAA'], Actual: ['AATCC', 'ATCCA', 'CAATC', 'CCAAC', 'TCCAA']\n",
            "- Test Case 2 Passed. Expected: ['ATG', 'GGG', 'GGG', 'GGT', 'GTG', 'TAT', 'TGC', 'TGG'], Actual: ['ATG', 'GGG', 'GGG', 'GGT', 'GTG', 'TAT', 'TGC', 'TGG']\n",
            "\n",
            "2 out of 2 passed. END OF TEST SUITE.\n",
            "**************************************************\n"
          ],
          "name": "stdout"
        }
      ]
    },
    {
      "cell_type": "markdown",
      "metadata": {
        "id": "NN6L22Uq61XY"
      },
      "source": [
        "# String Composition Inverse Problem\r\n"
      ]
    },
    {
      "cell_type": "markdown",
      "metadata": {
        "id": "J10eeOnF68R3"
      },
      "source": [
        "### Function"
      ]
    },
    {
      "cell_type": "code",
      "metadata": {
        "id": "MfSUQEVeM1rX"
      },
      "source": [
        "def prefix(string):\r\n",
        "    # return string[:len(string)-1]\r\n",
        "    return string[:-1]\r\n",
        "\r\n",
        "def suffix(string):\r\n",
        "    return string[1:]"
      ],
      "execution_count": 8,
      "outputs": []
    },
    {
      "cell_type": "code",
      "metadata": {
        "id": "nRCWZ9mxHhF_"
      },
      "source": [
        "def StringComposeInv(kmers):\r\n",
        "\r\n",
        "    composition = []\r\n",
        "\r\n",
        "    # Find the first kmer in kmers \r\n",
        "    # Use recursion to keep finding the first kmer in reduced list\r\n",
        "    count = 0\r\n",
        "    for i in range(len(kmers)):\r\n",
        "        for cmp in kmers[:i]+kmers[i+1:]:\r\n",
        "            if prefix(kmers[i]) == suffix(cmp):\r\n",
        "                count += 1\r\n",
        "        if count == 0:\r\n",
        "            composition.append(kmers[i])\r\n",
        "            composition += StringComposeInv(kmers[:i]+kmers[i+1:])\r\n",
        "        count = 0\r\n",
        "\r\n",
        "    return composition\r\n",
        "\r\n",
        "def JoinKmers(composition):\r\n",
        "\r\n",
        "    final_string = \"\"\r\n",
        "\r\n",
        "    for i, kmer in enumerate(composition):\r\n",
        "        if i == 0:\r\n",
        "            final_string += kmer\r\n",
        "        else:\r\n",
        "            final_string += kmer[-1]\r\n",
        "            \r\n",
        "    return final_string"
      ],
      "execution_count": 39,
      "outputs": []
    },
    {
      "cell_type": "code",
      "metadata": {
        "colab": {
          "base_uri": "https://localhost:8080/"
        },
        "id": "5frE9UeKX4qh",
        "outputId": "40879c03-1ebf-441d-8a82-100a3ce54f68"
      },
      "source": [
        "# TEST CASE 1\r\n",
        "print(\"TEST CASE 1\")\r\n",
        "kmers = ['AAT', 'ATG', 'GTT', 'TAA', 'TGT']\r\n",
        "print(\"Input kmers:\", kmers)\r\n",
        "\r\n",
        "comp = StringComposeInv(kmers)\r\n",
        "print(\"Composition:\", comp)\r\n",
        "\r\n",
        "result = JoinKmers(comp)\r\n",
        "print(\"Reconstructed String:\", result)\r\n",
        "print()"
      ],
      "execution_count": 46,
      "outputs": [
        {
          "output_type": "stream",
          "text": [
            "TEST CASE 1\n",
            "Input kmers: ['AAT', 'ATG', 'GTT', 'TAA', 'TGT']\n",
            "Composition: ['TAA', 'AAT', 'ATG', 'TGT', 'GTT']\n",
            "Reconstructed String: TAATGTT\n",
            "\n"
          ],
          "name": "stdout"
        }
      ]
    }
  ]
}