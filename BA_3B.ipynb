{
  "nbformat": 4,
  "nbformat_minor": 0,
  "metadata": {
    "colab": {
      "name": "BA_3B.ipynb",
      "provenance": [],
      "collapsed_sections": [],
      "toc_visible": true,
      "authorship_tag": "ABX9TyPimEoSDxOP+ONzDkqcUo1J",
      "include_colab_link": true
    },
    "kernelspec": {
      "name": "python3",
      "display_name": "Python 3"
    }
  },
  "cells": [
    {
      "cell_type": "markdown",
      "metadata": {
        "id": "view-in-github",
        "colab_type": "text"
      },
      "source": [
        "<a href=\"https://colab.research.google.com/github/byunsy/bioinformatics-algorithms-py/blob/main/BA_3B.ipynb\" target=\"_parent\"><img src=\"https://colab.research.google.com/assets/colab-badge.svg\" alt=\"Open In Colab\"/></a>"
      ]
    },
    {
      "cell_type": "markdown",
      "metadata": {
        "id": "hAArkvw4eGFu"
      },
      "source": [
        "# String Spelled by a Genome Path Problem"
      ]
    },
    {
      "cell_type": "markdown",
      "metadata": {
        "id": "4zUHgL9TAIHr"
      },
      "source": [
        "### Function"
      ]
    },
    {
      "cell_type": "code",
      "metadata": {
        "id": "n6WLJMvnkspA"
      },
      "source": [
        "def GenomePath(composition):\r\n",
        "\r\n",
        "    final_string = \"\"\r\n",
        "\r\n",
        "    for i, kmer in enumerate(composition):\r\n",
        "        if i == 0:\r\n",
        "            final_string += kmer\r\n",
        "        else:\r\n",
        "            final_string += kmer[-1]\r\n",
        "            \r\n",
        "    return final_string"
      ],
      "execution_count": null,
      "outputs": []
    },
    {
      "cell_type": "markdown",
      "metadata": {
        "id": "nALreObfAPAl"
      },
      "source": [
        "### Test Cases"
      ]
    },
    {
      "cell_type": "code",
      "metadata": {
        "id": "KlAmQKZr3b-4"
      },
      "source": [
        "# Create a function for test suite\r\n",
        "def TestSuite(function, cases):\r\n",
        "    print(\"*\"*50)\r\n",
        "    print(\"TEST SUITE\\n\")\r\n",
        "    passed = 0\r\n",
        "    for i, case in enumerate(cases):\r\n",
        "        composition, answer = case\r\n",
        "        result = function(composition)\r\n",
        "        if sorted(result) == sorted(answer):\r\n",
        "            print(\"- Test Case {} Passed. Expected: {}, Actual: {}\"\r\n",
        "                  .format(i+1, answer, result))\r\n",
        "            passed += 1\r\n",
        "        else:\r\n",
        "            print(\"- Test Case {} Failed. Expected: {}, Actual: {}\"\r\n",
        "                  .format(i+1, answer, result))\r\n",
        "    print(\"\\n{} out of {} passed.\".format(passed, len(cases)), end=\" \")\r\n",
        "    print(\"END OF TEST SUITE.\")\r\n",
        "    print(\"*\"*50)"
      ],
      "execution_count": null,
      "outputs": []
    },
    {
      "cell_type": "code",
      "metadata": {
        "colab": {
          "base_uri": "https://localhost:8080/"
        },
        "id": "KAAHvfgs-u1W",
        "outputId": "b7e3c345-39b2-4fd4-c134-26a37896b9df"
      },
      "source": [
        "# Create test cases to pass into test suite\r\n",
        "case1 = ([\"ACCGA\",\"CCGAA\",\"CGAAG\",\"GAAGC\",\"AAGCT\"], \"ACCGAAGCT\")\r\n",
        "case2 = ([\"TGCAT\",\"GCATA\",\"CATAG\",\"ATAGC\",\"TAGCC\"], \"TGCATAGCC\")\r\n",
        "case3 = ([\"AAAAA\",\"AAAAA\",\"AAAAA\",\"AAAAA\",\"AAAAA\"], \"AAAAAAAAA\")\r\n",
        "\r\n",
        "cases = [case1, case2, case3]\r\n",
        "\r\n",
        "TestSuite(GenomePath, cases)"
      ],
      "execution_count": null,
      "outputs": [
        {
          "output_type": "stream",
          "text": [
            "**************************************************\n",
            "TEST SUITE\n",
            "\n",
            "- Test Case 1 Passed. Expected: ACCGAAGCT, Actual: ACCGAAGCT\n",
            "- Test Case 2 Passed. Expected: TGCATAGCC, Actual: TGCATAGCC\n",
            "- Test Case 3 Passed. Expected: AAAAAAAAA, Actual: AAAAAAAAA\n",
            "\n",
            "3 out of 3 passed. END OF TEST SUITE.\n",
            "**************************************************\n"
          ],
          "name": "stdout"
        }
      ]
    }
  ]
}