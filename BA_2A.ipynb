{
  "nbformat": 4,
  "nbformat_minor": 0,
  "metadata": {
    "colab": {
      "name": "BA_2A.ipynb",
      "provenance": [],
      "collapsed_sections": [],
      "toc_visible": true,
      "authorship_tag": "ABX9TyNpfypfITPF32On/PYGd/vO",
      "include_colab_link": true
    },
    "kernelspec": {
      "name": "python3",
      "display_name": "Python 3"
    }
  },
  "cells": [
    {
      "cell_type": "markdown",
      "metadata": {
        "id": "view-in-github",
        "colab_type": "text"
      },
      "source": [
        "<a href=\"https://colab.research.google.com/github/byunsy/bioinformatics-algorithms-py/blob/main/BA_2A.ipynb\" target=\"_parent\"><img src=\"https://colab.research.google.com/assets/colab-badge.svg\" alt=\"Open In Colab\"/></a>"
      ]
    },
    {
      "cell_type": "markdown",
      "metadata": {
        "id": "hAArkvw4eGFu"
      },
      "source": [
        "# Implanted Motif Problem"
      ]
    },
    {
      "cell_type": "markdown",
      "metadata": {
        "id": "4zUHgL9TAIHr"
      },
      "source": [
        "### Function"
      ]
    },
    {
      "cell_type": "code",
      "metadata": {
        "id": "v-W9s0A38C27"
      },
      "source": [
        "def HammingDistance(str1, str2):\r\n",
        "    if len(str1) != len(str2):\r\n",
        "        raise Exception(\"Error: Two strings must be of equal length.\")\r\n",
        "\r\n",
        "    mismatch = 0\r\n",
        "    for i in range(len(str1)):\r\n",
        "        if str1[i] != str2[i]:\r\n",
        "            mismatch += 1\r\n",
        "    return mismatch"
      ],
      "execution_count": null,
      "outputs": []
    },
    {
      "cell_type": "code",
      "metadata": {
        "id": "htyzjc-QJ_RH"
      },
      "source": [
        "def Neighbors(pattern, d):\r\n",
        "    if d == 0:\r\n",
        "        return [pattern]\r\n",
        "    if len(pattern) == 1:\r\n",
        "        return ['A', 'C', 'G', 'T']\r\n",
        "\r\n",
        "    first  = pattern[0]\r\n",
        "    suffix = pattern[1:]\r\n",
        "    nucleotides = ['A', 'C', 'G', 'T']\r\n",
        "    neighborhood = []\r\n",
        "    suffix_neighbors = Neighbors(suffix, d)\r\n",
        "\r\n",
        "    for text in suffix_neighbors:\r\n",
        "        if HammingDistance(suffix, text) < d:\r\n",
        "            for base in nucleotides:\r\n",
        "                neighborhood.append(base+text)\r\n",
        "        else:\r\n",
        "            neighborhood.append(first+text)\r\n",
        "\r\n",
        "    return neighborhood"
      ],
      "execution_count": null,
      "outputs": []
    },
    {
      "cell_type": "code",
      "metadata": {
        "id": "xuccUZBK1HjG"
      },
      "source": [
        "def ApproxPatternCount(pattern, text, d):\r\n",
        "    count = 0\r\n",
        "    bound = len(text) - len(pattern) + 1\r\n",
        "    for i in range(bound):\r\n",
        "        pattern2 = text[i:i+len(pattern)] \r\n",
        "        if HammingDistance(pattern, pattern2) <= d:\r\n",
        "            count += 1\r\n",
        "    return count"
      ],
      "execution_count": null,
      "outputs": []
    },
    {
      "cell_type": "code",
      "metadata": {
        "id": "n6WLJMvnkspA"
      },
      "source": [
        "def MotifEnumeration(dna, k, d):\r\n",
        "    motifs = []\r\n",
        "    bound = len(dna[0]) - k + 1\r\n",
        "\r\n",
        "    for string in dna:\r\n",
        "        for i in range(bound):\r\n",
        "            pattern = string[i:i+k]\r\n",
        "            neighborhood = Neighbors(pattern, d)\r\n",
        "            # For each neighbor, check if it appears in all strings in dna\r\n",
        "            # count = len(dna) means appears in all strings\r\n",
        "            for neighbor in neighborhood:\r\n",
        "                count = 0\r\n",
        "                for s in dna:\r\n",
        "                    if ApproxPatternCount(neighbor, s, d) > 0:\r\n",
        "                        count += 1\r\n",
        "                if count == len(dna):\r\n",
        "                    motifs.append(neighbor)\r\n",
        "\r\n",
        "    return list(set(motifs))"
      ],
      "execution_count": null,
      "outputs": []
    },
    {
      "cell_type": "markdown",
      "metadata": {
        "id": "nALreObfAPAl"
      },
      "source": [
        "### Test Cases"
      ]
    },
    {
      "cell_type": "code",
      "metadata": {
        "id": "KlAmQKZr3b-4"
      },
      "source": [
        "# Create a function for test suite\r\n",
        "def TestSuite(function, cases):\r\n",
        "    print(\"*\"*50)\r\n",
        "    print(\"TEST SUITE\\n\")\r\n",
        "    passed = 0\r\n",
        "    for i, case in enumerate(cases):\r\n",
        "        k, d, dna, answer = case\r\n",
        "        result = function(dna, k, d)\r\n",
        "        if sorted(result) == sorted(answer):\r\n",
        "            print(\"- Test Case {} Passed. Expected: {}, Actual: {}\"\r\n",
        "                  .format(i+1, answer, result))\r\n",
        "            passed += 1\r\n",
        "        else:\r\n",
        "            print(\"- Test Case {} Failed. Expected: {}, Actual: {}\"\r\n",
        "                  .format(i+1, answer, result))\r\n",
        "    print(\"\\n{} out of {} passed.\".format(passed, len(cases)), end=\" \")\r\n",
        "    print(\"END OF TEST SUITE.\")\r\n",
        "    print(\"*\"*50)"
      ],
      "execution_count": null,
      "outputs": []
    },
    {
      "cell_type": "code",
      "metadata": {
        "colab": {
          "base_uri": "https://localhost:8080/"
        },
        "id": "KAAHvfgs-u1W",
        "outputId": "4c045816-2e30-497b-c6c8-8ba2fbaeee9a"
      },
      "source": [
        "# Create test cases to pass into test suite\r\n",
        "case1 = (3, 1, [\"ATTTGGC\", \"TGCCTTA\", \"CGGTATC\", \"GAAAATT\"], [\"ATA\", \"ATT\", \"GTT\", \"TTT\"])\r\n",
        "case2 = (3, 0, [\"ACGT\", \"ACGT\", \"ACGT\"], [\"ACG\", \"CGT\"])\r\n",
        "case3 = (3, 1, [\"AAAAA\", \"AAAAA\", \"AAAAA\"], [\"AAA\", \"AAC\", \"AAG\", \"AAT\", \"ACA\", \"AGA\", \"ATA\", \"CAA\", \"GAA\", \"TAA\"]) \r\n",
        "case4 = (3, 3, [\"AAAAA\", \"AAAAA\", \"AAAAA\"], [\"AAA\", \"AAC\", \"AAG\", \"AAT\", \"ACA\", \"ACC\", \"ACG\", \"ACT\", \"AGA\", \"AGC\", \"AGG\", \"AGT\", \"ATA\", \"ATC\", \"ATG\", \"ATT\", \"CAA\", \"CAC\", \"CAG\", \"CAT\", \"CCA\", \"CCC\", \"CCG\", \"CCT\", \"CGA\", \"CGC\", \"CGG\", \"CGT\", \"CTA\", \"CTC\", \"CTG\", \"CTT\", \"GAA\", \"GAC\", \"GAG\", \"GAT\", \"GCA\", \"GCC\", \"GCG\", \"GCT\", \"GGA\", \"GGC\", \"GGG\", \"GGT\", \"GTA\", \"GTC\", \"GTG\", \"GTT\", \"TAA\", \"TAC\", \"TAG\", \"TAT\", \"TCA\", \"TCC\", \"TCG\", \"TCT\", \"TGA\", \"TGC\", \"TGG\", \"TGT\", \"TTA\", \"TTC\", \"TTG\", \"TTT\"]) \r\n",
        "case5 = (3, 0, [\"AAAAA\", \"AAAAA\", \"AACAA\"], [])\r\n",
        "case6 = (3, 0, [\"AACAA\", \"AAAAA\", \"AAAAA\"], [])\r\n",
        "\r\n",
        "cases = [case1, case2, case3, case4, case5, case6]\r\n",
        "\r\n",
        "TestSuite(MotifEnumeration, cases)"
      ],
      "execution_count": null,
      "outputs": [
        {
          "output_type": "stream",
          "text": [
            "**************************************************\n",
            "TEST SUITE\n",
            "\n",
            "- Test Case 1 Passed. Expected: ['ATA', 'ATT', 'GTT', 'TTT'], Actual: ['TTT', 'ATA', 'ATT', 'GTT']\n",
            "- Test Case 2 Passed. Expected: ['ACG', 'CGT'], Actual: ['ACG', 'CGT']\n",
            "- Test Case 3 Passed. Expected: ['AAA', 'AAC', 'AAG', 'AAT', 'ACA', 'AGA', 'ATA', 'CAA', 'GAA', 'TAA'], Actual: ['CAA', 'GAA', 'AAG', 'ACA', 'TAA', 'AAT', 'AAA', 'ATA', 'AGA', 'AAC']\n",
            "- Test Case 4 Passed. Expected: ['AAA', 'AAC', 'AAG', 'AAT', 'ACA', 'ACC', 'ACG', 'ACT', 'AGA', 'AGC', 'AGG', 'AGT', 'ATA', 'ATC', 'ATG', 'ATT', 'CAA', 'CAC', 'CAG', 'CAT', 'CCA', 'CCC', 'CCG', 'CCT', 'CGA', 'CGC', 'CGG', 'CGT', 'CTA', 'CTC', 'CTG', 'CTT', 'GAA', 'GAC', 'GAG', 'GAT', 'GCA', 'GCC', 'GCG', 'GCT', 'GGA', 'GGC', 'GGG', 'GGT', 'GTA', 'GTC', 'GTG', 'GTT', 'TAA', 'TAC', 'TAG', 'TAT', 'TCA', 'TCC', 'TCG', 'TCT', 'TGA', 'TGC', 'TGG', 'TGT', 'TTA', 'TTC', 'TTG', 'TTT'], Actual: ['CAG', 'CGA', 'TCC', 'TTT', 'CAT', 'AGC', 'TAT', 'AAA', 'TAG', 'CTG', 'ACG', 'CCT', 'TTC', 'AGA', 'TCG', 'AAC', 'GTA', 'AAG', 'TGT', 'CGG', 'CTT', 'ACA', 'CCA', 'CTC', 'ATG', 'ATC', 'TGG', 'GTT', 'ATT', 'GCT', 'TAC', 'TCA', 'CCG', 'GAA', 'GCA', 'CAC', 'GGC', 'TAA', 'GTG', 'CGT', 'GGA', 'GTC', 'GGG', 'GCC', 'GAC', 'CCC', 'TTG', 'GAT', 'CAA', 'TTA', 'ACC', 'AGT', 'TGC', 'AGG', 'CTA', 'GAG', 'AAT', 'ATA', 'TGA', 'TCT', 'GGT', 'GCG', 'ACT', 'CGC']\n",
            "- Test Case 5 Passed. Expected: [], Actual: []\n",
            "- Test Case 6 Passed. Expected: [], Actual: []\n",
            "\n",
            "6 out of 6 passed. END OF TEST SUITE.\n",
            "**************************************************\n"
          ],
          "name": "stdout"
        }
      ]
    }
  ]
}