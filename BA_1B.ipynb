{
  "nbformat": 4,
  "nbformat_minor": 0,
  "metadata": {
    "colab": {
      "name": "BA_1B.ipynb",
      "provenance": [],
      "collapsed_sections": [],
      "toc_visible": true,
      "authorship_tag": "ABX9TyMN3A7otaOlK6wZC+v+0SKf",
      "include_colab_link": true
    },
    "kernelspec": {
      "name": "python3",
      "display_name": "Python 3"
    }
  },
  "cells": [
    {
      "cell_type": "markdown",
      "metadata": {
        "id": "view-in-github",
        "colab_type": "text"
      },
      "source": [
        "<a href=\"https://colab.research.google.com/github/byunsy/bioinformatics-algorithms-py/blob/main/BA_1B.ipynb\" target=\"_parent\"><img src=\"https://colab.research.google.com/assets/colab-badge.svg\" alt=\"Open In Colab\"/></a>"
      ]
    },
    {
      "cell_type": "markdown",
      "metadata": {
        "id": "hAArkvw4eGFu"
      },
      "source": [
        "# Frequent Words Problem"
      ]
    },
    {
      "cell_type": "markdown",
      "metadata": {
        "id": "4zUHgL9TAIHr"
      },
      "source": [
        "### Function"
      ]
    },
    {
      "cell_type": "code",
      "metadata": {
        "id": "9FIVVYxBWhou"
      },
      "source": [
        "def FrequentWords(text, k):\r\n",
        "    # Get bound index\r\n",
        "    bound = len(text) - k + 1\r\n",
        "\r\n",
        "    # Generate frequency array\r\n",
        "    cnt_dict = {}\r\n",
        "    for i in range(bound):\r\n",
        "        kmer = text[i:i+k]\r\n",
        "        if kmer in cnt_dict:\r\n",
        "            cnt_dict[kmer] += 1\r\n",
        "        else:\r\n",
        "            cnt_dict[kmer] = 1\r\n",
        "\r\n",
        "    # Sort the dictionary by ascending order of values -- returns list\r\n",
        "    sort_dict = sorted(cnt_dict.items(), key=lambda x:x[1], reverse=True)\r\n",
        "\r\n",
        "    # Get the highest frequency\r\n",
        "    _, max_value = sort_dict[0]\r\n",
        "\r\n",
        "    # Get a list of kmers with the highest frequency\r\n",
        "    result = sorted([k for k,v in sort_dict if v == max_value])\r\n",
        "    return result"
      ],
      "execution_count": null,
      "outputs": []
    },
    {
      "cell_type": "markdown",
      "metadata": {
        "id": "nALreObfAPAl"
      },
      "source": [
        "### Test Cases"
      ]
    },
    {
      "cell_type": "code",
      "metadata": {
        "id": "KlAmQKZr3b-4"
      },
      "source": [
        "# Create a function for test suite\r\n",
        "def TestSuite(function, cases):\r\n",
        "    print(\"*\"*50)\r\n",
        "    print(\"TEST SUITE\\n\")\r\n",
        "    passed = 0\r\n",
        "    for i, case in enumerate(cases):\r\n",
        "        text, pattern, answer = case\r\n",
        "        result = function(text, pattern)\r\n",
        "        if result == answer:\r\n",
        "            print(\"- Test Case {} Passed. Expected: {}, Actual: {}\"\r\n",
        "                  .format(i+1, answer, result))\r\n",
        "            passed += 1\r\n",
        "        else:\r\n",
        "            print(\"- Test Case {} Failed. Expected: {}, Actual: {}\"\r\n",
        "                  .format(i+1, answer, result))\r\n",
        "    print(\"\\n{} out of {} passed.\".format(passed, len(cases)), end=\" \")\r\n",
        "    print(\"END OF TEST SUITE.\")\r\n",
        "    print(\"*\"*50)"
      ],
      "execution_count": null,
      "outputs": []
    },
    {
      "cell_type": "code",
      "metadata": {
        "colab": {
          "base_uri": "https://localhost:8080/"
        },
        "id": "KAAHvfgs-u1W",
        "outputId": "553f0810-2891-4647-c0f9-5eb38fe01f57"
      },
      "source": [
        "# Create test cases to pass into test suite\r\n",
        "case1 = (\"ACGTTGCATGTCGCATGATGCATGAGAGCT\", 4, [\"CATG\", \"GCAT\"])\r\n",
        "case2 = (\"TGGTAGCGACGTTGGTCCCGCCGCTTGAGAATCTGGATGAACATAAGCTCCCACTTGGCTTATTCAGAGAACTGGTCAACACTTGTCTCTCCCAGCCAGGTCTGACCACCGGGCAACTTTTAGAGCACTATCGTGGTACAAATAATGCTGCCAC\", 3, [\"TGG\"])\r\n",
        "case3 = (\"CAGTGGCAGATGACATTTTGCTGGTCGACTGGTTACAACAACGCCTGGGGCTTTTGAGCAACGAGACTTTTCAATGTTGCACCGTTTGCTGCATGATATTGAAAACAATATCACCAAATAAATAACGCCTTAGTAAGTAGCTTTT\", 4, [\"TTTT\"])\r\n",
        "case4 = (\"ATACAATTACAGTCTGGAACCGGATGAACTGGCCGCAGGTTAACAACAGAGTTGCCAGGCACTGCCGCTGACCAGCAACAACAACAATGACTTTGACGCGAAGGGGATGGCATGAGCGAACTGATCGTCAGCCGTCAGCAACGAGTATTGTTGCTGACCCTTAACAATCCCGCCGCACGTAATGCGCTAACTAATGCCCTGCTG\", 5, [\"AACAA\"])\r\n",
        "case5 = (\"CCAGCGGGGGTTGATGCTCTGGGGGTCACAAGATTGCATTTTTATGGGGTTGCAAAAATGTTTTTTACGGCAGATTCATTTAAAATGCCCACTGGCTGGAGACATAGCCCGGATGCGCGTCTTTTACAACGTATTGCGGGGTAAAATCGTAGATGTTTTAAAATAGGCGTAAC\", 5, [\"AAAAT\", \"GGGGT\", \"TTTTA\"])\r\n",
        "case6 = (\"CGGAAGCGAGATTCGCGTGGCGTGATTCCGGCGGGCGTGGAGAAGCGAGATTCATTCAAGCCGGGAGGCGTGGCGTGGCGTGGCGTGCGGATTCAAGCCGGCGGGCGTGATTCGAGCGGCGGATTCGAGATTCCGGGCGTGCGGGCGTGAAGCGCGTGGAGGAGGCGTGGCGTGCGGGAGGAGAAGCGAGAAGCCGGATTCAAGCAAGCATTCCGGCGGGAGATTCGCGTGGAGGCGTGGAGGCGTGGAGGCGTGCGGCGGGAGATTCAAGCCGGATTCGCGTGGAGAAGCGAGAAGCGCGTGCGGAAGCGAGGAGGAGAAGCATTCGCGTGATTCCGGGAGATTCAAGCATTCGCGTGCGGCGGGAGATTCAAGCGAGGAGGCGTGAAGCAAGCAAGCAAGCGCGTGGCGTGCGGCGGGAGAAGCAAGCGCGTGATTCGAGCGGGCGTGCGGAAGCGAGCGG\", 12, [\"CGGCGGGAGATT\", \"CGGGAGATTCAA\", \"CGTGCGGCGGGA\", \"CGTGGAGGCGTG\", \"CGTGGCGTGCGG\", \"GCGTGCGGCGGG\", \"GCGTGGAGGCGT\", \"GCGTGGCGTGCG\", \"GGAGAAGCGAGA\", \"GGAGATTCAAGC\", \"GGCGGGAGATTC\", \"GGGAGATTCAAG\", \"GTGCGGCGGGAG\", \"TGCGGCGGGAGA\"])\r\n",
        "\r\n",
        "cases = [case1, case2, case3, case4, case5, case6]\r\n",
        "\r\n",
        "TestSuite(FrequentWords, cases)"
      ],
      "execution_count": null,
      "outputs": [
        {
          "output_type": "stream",
          "text": [
            "**************************************************\n",
            "TEST SUITE\n",
            "\n",
            "- Test Case 1 Passed. Expected: ['CATG', 'GCAT'], Actual: ['CATG', 'GCAT']\n",
            "- Test Case 2 Passed. Expected: ['TGG'], Actual: ['TGG']\n",
            "- Test Case 3 Passed. Expected: ['TTTT'], Actual: ['TTTT']\n",
            "- Test Case 4 Passed. Expected: ['AACAA'], Actual: ['AACAA']\n",
            "- Test Case 5 Passed. Expected: ['AAAAT', 'GGGGT', 'TTTTA'], Actual: ['AAAAT', 'GGGGT', 'TTTTA']\n",
            "- Test Case 6 Passed. Expected: ['CGGCGGGAGATT', 'CGGGAGATTCAA', 'CGTGCGGCGGGA', 'CGTGGAGGCGTG', 'CGTGGCGTGCGG', 'GCGTGCGGCGGG', 'GCGTGGAGGCGT', 'GCGTGGCGTGCG', 'GGAGAAGCGAGA', 'GGAGATTCAAGC', 'GGCGGGAGATTC', 'GGGAGATTCAAG', 'GTGCGGCGGGAG', 'TGCGGCGGGAGA'], Actual: ['CGGCGGGAGATT', 'CGGGAGATTCAA', 'CGTGCGGCGGGA', 'CGTGGAGGCGTG', 'CGTGGCGTGCGG', 'GCGTGCGGCGGG', 'GCGTGGAGGCGT', 'GCGTGGCGTGCG', 'GGAGAAGCGAGA', 'GGAGATTCAAGC', 'GGCGGGAGATTC', 'GGGAGATTCAAG', 'GTGCGGCGGGAG', 'TGCGGCGGGAGA']\n",
            "\n",
            "6 out of 6 passed. END OF TEST SUITE.\n",
            "**************************************************\n"
          ],
          "name": "stdout"
        }
      ]
    }
  ]
}