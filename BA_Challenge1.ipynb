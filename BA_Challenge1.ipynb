{
  "nbformat": 4,
  "nbformat_minor": 0,
  "metadata": {
    "colab": {
      "name": "BA_Challenge.ipynb",
      "provenance": [],
      "collapsed_sections": [],
      "toc_visible": true,
      "authorship_tag": "ABX9TyNKrrlHm0SmqGHEmNkoAiLz",
      "include_colab_link": true
    },
    "kernelspec": {
      "name": "python3",
      "display_name": "Python 3"
    }
  },
  "cells": [
    {
      "cell_type": "markdown",
      "metadata": {
        "id": "view-in-github",
        "colab_type": "text"
      },
      "source": [
        "<a href=\"https://colab.research.google.com/github/byunsy/bioinformatics-algorithms-py/blob/main/BA_Challenge1.ipynb\" target=\"_parent\"><img src=\"https://colab.research.google.com/assets/colab-badge.svg\" alt=\"Open In Colab\"/></a>"
      ]
    },
    {
      "cell_type": "markdown",
      "metadata": {
        "id": "hAArkvw4eGFu"
      },
      "source": [
        "# Salmonella enterica Problem"
      ]
    },
    {
      "cell_type": "markdown",
      "metadata": {
        "id": "4zUHgL9TAIHr"
      },
      "source": [
        "### Function"
      ]
    },
    {
      "cell_type": "code",
      "metadata": {
        "id": "WyFvAcv6uA1l"
      },
      "source": [
        "def MinimumSkew(genome):\r\n",
        "    skew = 0\r\n",
        "    min  = 0\r\n",
        "    min_indices = []\r\n",
        "\r\n",
        "    for i, base in enumerate(genome):\r\n",
        "\r\n",
        "        # update skew value based on base-nucleotides\r\n",
        "        if base == \"G\":\r\n",
        "            skew += 1\r\n",
        "        elif base == \"C\":\r\n",
        "            skew -= 1\r\n",
        "\r\n",
        "        # if new minimum, update min and create new min_indices\r\n",
        "        if skew < min:\r\n",
        "            min = skew\r\n",
        "            min_indices = [i+1]\r\n",
        "        elif skew == min:\r\n",
        "            min_indices.append(i+1) # append to min_indices if skew value is min \r\n",
        "\r\n",
        "    return min_indices"
      ],
      "execution_count": 10,
      "outputs": []
    },
    {
      "cell_type": "code",
      "metadata": {
        "id": "fRCC0IPbGMej"
      },
      "source": [
        "def ReverseComplement(pattern):\r\n",
        "    comp = \"\"\r\n",
        "    \r\n",
        "    # Get complement\r\n",
        "    for char in pattern:\r\n",
        "        if char == 'A':\r\n",
        "            comp += 'T'\r\n",
        "        elif char == 'T':\r\n",
        "            comp += 'A'\r\n",
        "        elif char == 'G':\r\n",
        "            comp += 'C'\r\n",
        "        elif char == 'C':\r\n",
        "            comp += 'G'\r\n",
        "\r\n",
        "    # Reverse it and return\r\n",
        "    return comp[::-1]"
      ],
      "execution_count": 1,
      "outputs": []
    },
    {
      "cell_type": "code",
      "metadata": {
        "id": "_TdXsR9NYMnO"
      },
      "source": [
        "def HammingDistance(str1, str2):\r\n",
        "    if len(str1) != len(str2):\r\n",
        "        raise Exception(\"Error: Two strings must be of equal length.\")\r\n",
        "\r\n",
        "    mismatch = 0\r\n",
        "    for i in range(len(str1)):\r\n",
        "        if str1[i] != str2[i]:\r\n",
        "            mismatch += 1\r\n",
        "    return mismatch"
      ],
      "execution_count": 2,
      "outputs": []
    },
    {
      "cell_type": "code",
      "metadata": {
        "id": "uWYlJhc-Yppy"
      },
      "source": [
        "def ApproxPatternCount(pattern, text, d):\r\n",
        "    count = 0\r\n",
        "    bound = len(text) - len(pattern) + 1\r\n",
        "    for i in range(bound):\r\n",
        "        pattern2 = text[i:i+len(pattern)] \r\n",
        "        if HammingDistance(pattern, pattern2) <= d:\r\n",
        "            count += 1\r\n",
        "    return count"
      ],
      "execution_count": 3,
      "outputs": []
    },
    {
      "cell_type": "code",
      "metadata": {
        "id": "qmDEe0KiYOEu"
      },
      "source": [
        "def Neighbors(pattern, d):\r\n",
        "    if d == 0:\r\n",
        "        return [pattern]\r\n",
        "    if len(pattern) == 1:\r\n",
        "        return ['A', 'C', 'G', 'T']\r\n",
        "\r\n",
        "    first  = pattern[0]\r\n",
        "    suffix = pattern[1:]\r\n",
        "    nucleotides = ['A', 'C', 'G', 'T']\r\n",
        "    neighborhood = []\r\n",
        "    suffix_neighbors = Neighbors(suffix, d)\r\n",
        "\r\n",
        "    for text in suffix_neighbors:\r\n",
        "        if HammingDistance(suffix, text) < d:\r\n",
        "            for base in nucleotides:\r\n",
        "                neighborhood.append(base+text)\r\n",
        "        else:\r\n",
        "            neighborhood.append(first+text)\r\n",
        "\r\n",
        "    return neighborhood"
      ],
      "execution_count": 4,
      "outputs": []
    },
    {
      "cell_type": "code",
      "metadata": {
        "id": "Nd99nTKoWSKD"
      },
      "source": [
        "def PatternToNumber(pattern):\r\n",
        "    if pattern == \"\":\r\n",
        "        return 0\r\n",
        "    \r\n",
        "    prefix = pattern[:-1]\r\n",
        "    symbol = pattern[-1]\r\n",
        "    symbol_num = {\"A\": 0, \"C\": 1, \"G\": 2, \"T\": 3}\r\n",
        "\r\n",
        "    return 4 * PatternToNumber(prefix) + symbol_num[symbol]"
      ],
      "execution_count": 5,
      "outputs": []
    },
    {
      "cell_type": "code",
      "metadata": {
        "id": "UBffKp5GWQjQ"
      },
      "source": [
        "def NumberToPattern(index, k):\r\n",
        "    symbol_num = \"ACGT\"\r\n",
        "    if k == 1:\r\n",
        "        return symbol_num[index]\r\n",
        "\r\n",
        "    prefix_index = index // 4\r\n",
        "    remainder = index % 4\r\n",
        "\r\n",
        "    symbol = symbol_num[remainder]\r\n",
        "    prefix_pattern = NumberToPattern(prefix_index, k-1)\r\n",
        "\r\n",
        "    return prefix_pattern + symbol"
      ],
      "execution_count": 6,
      "outputs": []
    },
    {
      "cell_type": "code",
      "metadata": {
        "id": "9Xc1TpYKpc4X"
      },
      "source": [
        "def ComputingFrequencies(text, k):\r\n",
        "\r\n",
        "    # initialize array (length = 4**k) elements to zero \r\n",
        "    frequency_array = [0]*(4**k)\r\n",
        "\r\n",
        "    bound = len(text) - k + 1\r\n",
        "    for i in range(bound):\r\n",
        "        pattern = text[i:i+k]\r\n",
        "        j = PatternToNumber(pattern)\r\n",
        "        frequency_array[j] += 1\r\n",
        "\r\n",
        "    return frequency_array"
      ],
      "execution_count": 7,
      "outputs": []
    },
    {
      "cell_type": "code",
      "metadata": {
        "id": "sK2ZymX6t0P5"
      },
      "source": [
        "def FreqWordsMismatch(text, k, d):\r\n",
        "    \r\n",
        "    frequent_patterns = []\r\n",
        "    frequency_array = [0]*(4**k)\r\n",
        "    close_array = [0]*(4**k)\r\n",
        "\r\n",
        "    bound = len(text) - k + 1\r\n",
        "    for i in range(bound):\r\n",
        "        # Get neighbors (kmers with upto d mismatches)\r\n",
        "        neighborhood = Neighbors(text[i:i+k], d)\r\n",
        "\r\n",
        "        # Mark the patterns that are neighbors as 1 (close = True)\r\n",
        "        for pattern in neighborhood:\r\n",
        "            index = PatternToNumber(pattern)\r\n",
        "            close_array[index] = 1\r\n",
        "\r\n",
        "    # For those marked as True, count the num of occurences of pattern with \r\n",
        "    # at most d mismatches\r\n",
        "    for i in range(4**k):\r\n",
        "        if close_array[i] == 1:\r\n",
        "            pattern = NumberToPattern(i, k)\r\n",
        "            frequency_array[i] = ApproxPatternCount(pattern, text, d)\r\n",
        "    \r\n",
        "    # Find the pattern that has the highest occurrence (max of frequency_array)\r\n",
        "    max_count = max(frequency_array)\r\n",
        "    for i in range(4**k):\r\n",
        "        if frequency_array[i] == max_count:\r\n",
        "            pattern = NumberToPattern(i, k)\r\n",
        "            frequent_patterns.append(pattern)\r\n",
        "    \r\n",
        "    return frequent_patterns"
      ],
      "execution_count": 8,
      "outputs": []
    },
    {
      "cell_type": "code",
      "metadata": {
        "id": "htyzjc-QJ_RH"
      },
      "source": [
        "def FreqWordsMismatchRC(text, k, d):\r\n",
        "    \r\n",
        "    frequent_patterns = []\r\n",
        "    frequency_array = [0]*(4**k)\r\n",
        "    close_array = [0]*(4**k)\r\n",
        "\r\n",
        "    bound = len(text) - k + 1\r\n",
        "    for i in range(bound):\r\n",
        "        # Get neighbors (kmers with upto d mismatches)\r\n",
        "        neighborhood = Neighbors(text[i:i+k], d)\r\n",
        "\r\n",
        "        # Mark the patterns that are neighbors as 1 (close = True)\r\n",
        "        for pattern in neighborhood:\r\n",
        "            index = PatternToNumber(pattern)\r\n",
        "            close_array[index] = 1\r\n",
        "\r\n",
        "            # Also for its reverse complement\r\n",
        "            rc_pattern = ReverseComplement(pattern)\r\n",
        "            rc_index = PatternToNumber(rc_pattern)\r\n",
        "            close_array[rc_index] = 1\r\n",
        "\r\n",
        "    # For those marked as True, count the num of occurences of pattern and\r\n",
        "    # rc_pattern in text with at most d mismatches\r\n",
        "    for i in range(4**k):\r\n",
        "        if close_array[i] == 1:\r\n",
        "            pattern = NumberToPattern(i, k)\r\n",
        "            rc_pattern = ReverseComplement(pattern)\r\n",
        "            frequency_array[i] = (ApproxPatternCount(pattern, text, d) +\r\n",
        "                                  ApproxPatternCount(rc_pattern, text, d))\r\n",
        "    \r\n",
        "    # Find the pattern that has the highest occurrence (max of frequency_array)\r\n",
        "    max_count = max(frequency_array)\r\n",
        "    for i in range(4**k):\r\n",
        "        if frequency_array[i] == max_count:\r\n",
        "            pattern = NumberToPattern(i, k)\r\n",
        "            frequent_patterns.append(pattern)\r\n",
        "    \r\n",
        "    return frequent_patterns, max_count"
      ],
      "execution_count": 35,
      "outputs": []
    },
    {
      "cell_type": "markdown",
      "metadata": {
        "id": "XotW6_aQq1Kf"
      },
      "source": [
        "### Stepik Coding Exercise"
      ]
    },
    {
      "cell_type": "code",
      "metadata": {
        "colab": {
          "resources": {
            "http://localhost:8080/nbextensions/google.colab/files.js": {
              "data": "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",
              "ok": true,
              "headers": [
                [
                  "content-type",
                  "application/javascript"
                ]
              ],
              "status": 200,
              "status_text": ""
            }
          },
          "base_uri": "https://localhost:8080/",
          "height": 72
        },
        "id": "VGX9BqCHq09-",
        "outputId": "d3b872ac-0837-4b17-8a7b-09e69a26cb5a"
      },
      "source": [
        "from google.colab import files\r\n",
        "uploaded = files.upload()"
      ],
      "execution_count": 11,
      "outputs": [
        {
          "output_type": "display_data",
          "data": {
            "text/html": [
              "\n",
              "     <input type=\"file\" id=\"files-f5bc5098-b3ca-47c2-a009-a7bb4ab000ed\" name=\"files[]\" multiple disabled\n",
              "        style=\"border:none\" />\n",
              "     <output id=\"result-f5bc5098-b3ca-47c2-a009-a7bb4ab000ed\">\n",
              "      Upload widget is only available when the cell has been executed in the\n",
              "      current browser session. Please rerun this cell to enable.\n",
              "      </output>\n",
              "      <script src=\"/nbextensions/google.colab/files.js\"></script> "
            ],
            "text/plain": [
              "<IPython.core.display.HTML object>"
            ]
          },
          "metadata": {
            "tags": []
          }
        },
        {
          "output_type": "stream",
          "text": [
            "Saving Salmonella_enterica.txt to Salmonella_enterica.txt\n"
          ],
          "name": "stdout"
        }
      ]
    },
    {
      "cell_type": "code",
      "metadata": {
        "colab": {
          "base_uri": "https://localhost:8080/"
        },
        "id": "7ML5YUnNuOWs",
        "outputId": "f6d96f76-b179-44fc-d323-3a28ccdd8568"
      },
      "source": [
        "with open('/content/Salmonella_enterica.txt', \"r\") as f:\r\n",
        "    contents = f.readlines()\r\n",
        "\r\n",
        "    genome = \"\"\r\n",
        "    for i in range(1, len(contents)):\r\n",
        "        genome += contents[i]\r\n",
        "\r\n",
        "    genome_long = genome.replace('\\n', '')\r\n",
        "\r\n",
        "    print(MinimumSkew(genome_long))"
      ],
      "execution_count": 28,
      "outputs": [
        {
          "output_type": "stream",
          "text": [
            "[3764856, 3764858]\n"
          ],
          "name": "stdout"
        }
      ]
    },
    {
      "cell_type": "code",
      "metadata": {
        "colab": {
          "base_uri": "https://localhost:8080/"
        },
        "id": "XxcoQ-msxyN8",
        "outputId": "fab1f963-fefe-4268-ec58-50c0139abf52"
      },
      "source": [
        "minskew = 3764856\r\n",
        "window = 1000\r\n",
        "\r\n",
        "start, count  = FreqWordsMismatchRC(genome_long[minskew:minskew+window], 9, 1)\r\n",
        "center, count = FreqWordsMismatchRC(genome_long[minskew-(window//2):minskew+(window//2)], 9, 1)\r\n",
        "end, count    = FreqWordsMismatchRC(genome_long[minskew-window:minskew], 9, 1)\r\n",
        "\r\n",
        "print(start, count)\r\n",
        "print(center, count)\r\n",
        "print(end, count)"
      ],
      "execution_count": 37,
      "outputs": [
        {
          "output_type": "stream",
          "text": [
            "['CCAGGATCC', 'GGATCCTGG'] 4\n",
            "['TGTGGATAA', 'TTATCCACA'] 4\n",
            "['AAAACCGAT', 'AAAATCTGG', 'AAACAATTG', 'AACACGATC', 'AACCAGATC', 'AAGCCGATC', 'ACGGCGCCG', 'ACTAATCAA', 'AGCTGATAA', 'AGTTGTTTG', 'ATCAATTGA', 'ATCGGTTTT', 'ATTATCAGC', 'CAAACAACT', 'CAATTGTTT', 'CAGATCGTC', 'CCAAACAAC', 'CCAGATTTT', 'CCCAAACAA', 'CCGGCGCCG', 'CGGCGCCGA', 'CGGCGCCGC', 'CGGCGCCGG', 'CGGCGCCGT', 'GACGATCTG', 'GATCGGCTT', 'GATCGTGTT', 'GATCTGGTT', 'GCCAATCAA', 'GCGGCGCCG', 'GCTGATAAT', 'GCTTCTTTA', 'GGCTGAAAA', 'GGTGGAAAA', 'GTTAAAAAA', 'GTTGTTTGG', 'TAAAGAAGC', 'TCAATTGAT', 'TCGGCGCCG', 'TTATCAGCT', 'TTGATTAGT', 'TTGATTGGC', 'TTGTTTGGG', 'TTTTCAGCC', 'TTTTCCACC', 'TTTTTTAAC'] 4\n"
          ],
          "name": "stdout"
        }
      ]
    }
  ]
}