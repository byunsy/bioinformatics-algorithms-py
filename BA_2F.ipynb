{
  "nbformat": 4,
  "nbformat_minor": 0,
  "metadata": {
    "colab": {
      "name": "BA_2F.ipynb",
      "provenance": [],
      "collapsed_sections": [],
      "toc_visible": true,
      "authorship_tag": "ABX9TyM1LnU52HRgNWYjRvwPDUNR",
      "include_colab_link": true
    },
    "kernelspec": {
      "name": "python3",
      "display_name": "Python 3"
    }
  },
  "cells": [
    {
      "cell_type": "markdown",
      "metadata": {
        "id": "view-in-github",
        "colab_type": "text"
      },
      "source": [
        "<a href=\"https://colab.research.google.com/github/byunsy/bioinformatics-algorithms-py/blob/main/BA_2F.ipynb\" target=\"_parent\"><img src=\"https://colab.research.google.com/assets/colab-badge.svg\" alt=\"Open In Colab\"/></a>"
      ]
    },
    {
      "cell_type": "markdown",
      "metadata": {
        "id": "hAArkvw4eGFu"
      },
      "source": [
        "# Randomized Motif Search Problem"
      ]
    },
    {
      "cell_type": "markdown",
      "metadata": {
        "id": "4zUHgL9TAIHr"
      },
      "source": [
        "### Function"
      ]
    },
    {
      "cell_type": "code",
      "metadata": {
        "id": "gor1V7C3ssxD"
      },
      "source": [
        "def ProfileMostProbable(text, k, profile):\r\n",
        "\r\n",
        "    bound = len(text) - k + 1\r\n",
        "    bases = \"ACGT\"\r\n",
        "    max_prob = 0\r\n",
        "    most_prob_kmer = text[0:k]\r\n",
        "\r\n",
        "    for i in range(bound):\r\n",
        "        kmer = text[i:i+k]\r\n",
        "        prob = 1\r\n",
        "        for j, nucleotide in enumerate(kmer):\r\n",
        "            index = bases.index(nucleotide)\r\n",
        "            prob *= profile[index][j]\r\n",
        "        if prob > max_prob:\r\n",
        "            max_prob = prob\r\n",
        "            most_prob_kmer = kmer\r\n",
        "\r\n",
        "    return most_prob_kmer"
      ],
      "execution_count": 1,
      "outputs": []
    },
    {
      "cell_type": "code",
      "metadata": {
        "id": "ORBD2XGYCGco"
      },
      "source": [
        "def CountMotifPseudo(motifs, k):\r\n",
        "    bases = \"ACGT\"\r\n",
        "    profile = [[1]*k, [1]*k, [1]*k, [1]*k]\r\n",
        "    for string in motifs:\r\n",
        "        for i, nucleotide in enumerate(string):\r\n",
        "            index = bases.index(nucleotide)\r\n",
        "            profile[index][i] += 1\r\n",
        "\r\n",
        "    return profile"
      ],
      "execution_count": 2,
      "outputs": []
    },
    {
      "cell_type": "code",
      "metadata": {
        "id": "qeuVf_A0UgoS"
      },
      "source": [
        "def ProfileMotifPseudo(motifs, k):\r\n",
        "    counted = CountMotifPseudo(motifs, k)\r\n",
        "    \r\n",
        "    column_sum = 0\r\n",
        "    for nums in counted:\r\n",
        "        column_sum += nums[0]\r\n",
        "    \r\n",
        "    return [[i/column_sum for i in lst] for lst in counted]"
      ],
      "execution_count": 3,
      "outputs": []
    },
    {
      "cell_type": "code",
      "metadata": {
        "id": "gMRrREP4Uhge"
      },
      "source": [
        "def ScoreMotif(motifs):\r\n",
        "    score = 0\r\n",
        "    for i in range(len(motifs[0])):\r\n",
        "        i_bases = [string[i] for string in motifs]\r\n",
        "        max_count = max(i_bases.count('A'), i_bases.count('C'),\r\n",
        "                        i_bases.count('G'), i_bases.count('T'))\r\n",
        "        score += (len(i_bases) - max_count)\r\n",
        "\r\n",
        "    return score"
      ],
      "execution_count": 4,
      "outputs": []
    },
    {
      "cell_type": "code",
      "metadata": {
        "id": "muC2_iWsznBc"
      },
      "source": [
        "import random\r\n",
        "\r\n",
        "def RandomizedMotifSearch(dna, k, t):\r\n",
        "    motifs = []\r\n",
        "    for i in range(t):\r\n",
        "        rand_num = random.randint(0, len(dna[0])-k)\r\n",
        "        motifs.append(dna[i][rand_num:rand_num+k])\r\n",
        "    best_motifs = motifs\r\n",
        "    while True:\r\n",
        "        profile = ProfileMotifPseudo(motifs, k)\r\n",
        "        motifs = [ProfileMostProbable(text, k, profile) for text in dna]\r\n",
        "        if ScoreMotif(motifs) < ScoreMotif(best_motifs):\r\n",
        "            best_motifs = motifs\r\n",
        "        else:\r\n",
        "            return best_motifs"
      ],
      "execution_count": 5,
      "outputs": []
    },
    {
      "cell_type": "markdown",
      "metadata": {
        "id": "nALreObfAPAl"
      },
      "source": [
        "### Test Cases"
      ]
    },
    {
      "cell_type": "code",
      "metadata": {
        "id": "KlAmQKZr3b-4"
      },
      "source": [
        "# Create a function for test suite\r\n",
        "def TestSuite(function, cases):\r\n",
        "    print(\"*\"*50)\r\n",
        "    print(\"TEST SUITE\\n\")\r\n",
        "    passed = 0\r\n",
        "    for i, case in enumerate(cases):\r\n",
        "        dna, k, t, answer = case\r\n",
        "\r\n",
        "        # An alteration for this specific function only\r\n",
        "        best = function(dna, k, t)\r\n",
        "        for j in range(5000):\r\n",
        "            result = function(dna, k, t)\r\n",
        "            if ScoreMotif(result) < ScoreMotif(best):\r\n",
        "                best = result \r\n",
        "\r\n",
        "        if best == answer:\r\n",
        "            print(\"- Test Case {} Passed. Expected: {}, Actual: {}\"\r\n",
        "                  .format(i+1, answer, best))\r\n",
        "            passed += 1\r\n",
        "        else:\r\n",
        "            print(\"- Test Case {} Failed. Expected: {}, Actual: {}\"\r\n",
        "                  .format(i+1, answer, result))\r\n",
        "    print(\"\\n{} out of {} passed.\".format(passed, len(cases)), end=\" \")\r\n",
        "    print(\"END OF TEST SUITE.\")\r\n",
        "    print(\"*\"*50)"
      ],
      "execution_count": 8,
      "outputs": []
    },
    {
      "cell_type": "code",
      "metadata": {
        "colab": {
          "base_uri": "https://localhost:8080/"
        },
        "id": "KAAHvfgs-u1W",
        "outputId": "2bc360c7-823b-4287-8a45-8ec9cc1db8ab"
      },
      "source": [
        "# Create test cases to pass into test suite\r\n",
        "case1 = ([\"CGCCCCTCTCGGGGGTGTTCAGTAAACGGCCA\",\r\n",
        "          \"GGGCGAGGTATGTGTAAGTGCCAAGGTGCCAG\",\r\n",
        "          \"TAGTACCGAGACCGAAAGAAGTATACAGGCGT\",\r\n",
        "          \"TAGATCAAGTTTCAGGTGCACGTCGGTGAACC\",\r\n",
        "          \"AATCCACCAGCTCCACGTGCAATGTTGGCCTA\"], 8, 5, ['TCTCGGGG', 'CCAAGGTG', 'TACAGGCG', 'TTCAGGTG', 'TCCACGTG'])\r\n",
        "\r\n",
        "case2 = ([\"AATTGGCACATCATTATCGATAACGATTCGCCGCATTGCC\",\r\n",
        "          \"GGTTAACATCGAATAACTGACACCTGCTCTGGCACCGCTC\",\r\n",
        "          \"AATTGGCGGCGGTATAGCCAGATAGTGCCAATAATTTCCT\",\r\n",
        "          \"GGTTAATGGTGAAGTGTGGGTTATGGGGAAAGGCAGACTG\",\r\n",
        "          \"AATTGGACGGCAACTACGGTTACAACGCAGCAAGAATATT\",\r\n",
        "          \"GGTTAACTGTTGTTGCTAACACCGTTAAGCGACGGCAACT\",\r\n",
        "          \"AATTGGCCAACGTAGGCGCGGCTTGGCATCTCGGTGTGTG\",\r\n",
        "          \"GGTTAAAAGGCGCATCTTACTCTTTTCGCTTTCAAAAAAA\"], 6, 8, \r\n",
        "         [\"CGATAA\",\"GGTTAA\",\"GGTATA\",\"GGTTAA\",\"GGTTAC\",\"GGTTAA\",\"GGCCAA\",\"GGTTAA\"])\r\n",
        "\r\n",
        "case3 = ([\"GCACATCATTAAACGATTCGCCGCATTGCCTCGATTAACC\",\r\n",
        "          \"TCATAACTGACACCTGCTCTGGCACCGCTCATCCAAGGCC\",\r\n",
        "          \"AAGCGGGTATAGCCAGATAGTGCCAATAATTTCCTTAACC\",\r\n",
        "          \"AGTCGGTGGTGAAGTGTGGGTTATGGGGAAAGGCAAGGCC\",\r\n",
        "          \"AACCGGACGGCAACTACGGTTACAACGCAGCAAGTTAACC\",\r\n",
        "          \"AGGCGTCTGTTGTTGCTAACACCGTTAAGCGACGAAGGCC\",\r\n",
        "          \"AAGCTTCCAACATCGTCTTGGCATCTCGGTGTGTTTAACC\",\r\n",
        "          \"AATTGAACATCTTACTCTTTTCGCTTTCAAAAAAAAGGCC\"], 6, 8, \r\n",
        "         [\"TTAACC\",\"ATAACT\",\"TTAACC\",\"TGAAGT\",\"TTAACC\",\"TTAAGC\",\"TTAACC\",\"TGAACA\"])\r\n",
        "\r\n",
        "cases = [case1, case2, case3]\r\n",
        "\r\n",
        "TestSuite(RandomizedMotifSearch, cases)"
      ],
      "execution_count": 11,
      "outputs": [
        {
          "output_type": "stream",
          "text": [
            "**************************************************\n",
            "TEST SUITE\n",
            "\n",
            "- Test Case 1 Passed. Expected: ['TCTCGGGG', 'CCAAGGTG', 'TACAGGCG', 'TTCAGGTG', 'TCCACGTG'], Actual: ['TCTCGGGG', 'CCAAGGTG', 'TACAGGCG', 'TTCAGGTG', 'TCCACGTG']\n",
            "- Test Case 2 Passed. Expected: ['CGATAA', 'GGTTAA', 'GGTATA', 'GGTTAA', 'GGTTAC', 'GGTTAA', 'GGCCAA', 'GGTTAA'], Actual: ['CGATAA', 'GGTTAA', 'GGTATA', 'GGTTAA', 'GGTTAC', 'GGTTAA', 'GGCCAA', 'GGTTAA']\n",
            "- Test Case 3 Passed. Expected: ['TTAACC', 'ATAACT', 'TTAACC', 'TGAAGT', 'TTAACC', 'TTAAGC', 'TTAACC', 'TGAACA'], Actual: ['TTAACC', 'ATAACT', 'TTAACC', 'TGAAGT', 'TTAACC', 'TTAAGC', 'TTAACC', 'TGAACA']\n",
            "\n",
            "3 out of 3 passed. END OF TEST SUITE.\n",
            "**************************************************\n"
          ],
          "name": "stdout"
        }
      ]
    },
    {
      "cell_type": "markdown",
      "metadata": {
        "id": "uGqL8a4JLAV3"
      },
      "source": [
        "**Note**: It may take several attempts to get Test Case 3 passed. I'm guessing this is partly due to the stochastic nature of randomized algorithms."
      ]
    },
    {
      "cell_type": "code",
      "metadata": {
        "colab": {
          "base_uri": "https://localhost:8080/"
        },
        "id": "v-vxhxF7LfAf",
        "outputId": "cd781a95-2133-4796-cabf-96c48c3a55a2"
      },
      "source": [
        "# Create test cases to pass into test suite\r\n",
        "case1 = ([\"ACTTATATCTAGAGTAAAGCCCTGATTCCATTGACGCGATCCCTACCTCCATCATACTCCACAGGTTCTTCAATAGAACATGGGGAAAACTGAGGTACACCAGGTCTAACGGAGATTTCTGGCACTAACTACCCAAAATCGAGTGATTGAACTGACTTATATCTAGAGT\",\r\n",
        "          \"AAAGCCCTGATTCCATTGACGCGATCCCTACCTCCATCATACTCCACAGGTTCTTCAATAGAACATGGGGAAAACTGAGGTACACCAGGTCTAACGGAGATTTCTGGCACTAACTACCCAAAATCCTCTCGATCACCGACGAGTGATTGAACTGACTTATATCTAGAGT\",\r\n",
        "          \"CACTCCCGTCCGTCTGACGCCAGGTGCTCTACCCCGCTGATTGTCTGGTACATAGCAGCCTATAGATCACCGATGCAGAAACACTTCGAGGCAGCCGATTTCGCTTATCACAACGTGACGGAATTTGATAAACCACGTACTCTAATACCGTCACGGGCCCATCAACGAA\",\r\n",
        "          \"ACAAGAACTGGTGGGGAGACTATGACACTCTAGCGGTCGCATAAGGGCCGGAAACCAGGACAAATCGATAAGATGAAGCGGGGATATAAGCCTTATACTGCGACTGGTTCCTTATATTATTTAGCCCCGATTGATCACCGATTAAAATATTCTGCGGTTTTCGAGACGG\",\r\n",
        "          \"TAACCACACCTAAAATTTTTCTTGGTGAGATGGACCCCCGCCGTAAATATCAGGATTAAATGTACGGATACCCATGACCCTCCAGTCATCTACCTTCCCGTGGTGGTCGCTCAGCCTTGTGCAGACCGAACTAGCACCTGTCACATACAATGTTGCCCGCATAGATCGT\",\r\n",
        "          \"ATCCGACAGAGGCAGTGAATAAGGTTTCGTTTCCTCAGAGAGTAGAACTGCGTGTGACCTTGCCTTCACCGACATCCGTTTCCAATTGAGCTTTTCAGGACGTTTAGGTAACTGATTGTCATTGCAATTGTCCGGGGGATTTAGATGGCCGGGTACCTCTCGGACTATA\",\r\n",
        "          \"CCTTGTTGCCACCGATTCGCGAGCAACATCGGAGTGCTCTGATTCACGGCGATGCTCCACGAAGAGGACCGCGGCACGACACGCCCTGTACCTACGTTTCTGGATATCCTCCGGCGAGTTAATAGAGCAATACGACCTGGTCGTCGAGATCGTGTATCTAGCCCTACCT\",\r\n",
        "          \"ATAGGTTAACGAATCAGGAGAGTTAATTTTACCTAGCTAGAGCGGACGGTGCCTGGCTGTATTCGCGTTTGACTTTCGGGCTCGCTGATAACTTGTGATCACCTTTTACGCTTACTGGATCCAACGATGGATCAAAGTTGAGAATTTCTGTGCCTTGGGTGTGAGCTGT\",\r\n",
        "          \"CTGACGAAAGGACGGGCGGTGTACTTAGTTTGGGGTAAAATAGTTGGTATAATTCTGTGCGACAGACATTTGGTCAGGCCATACTGCCATATCGTGATGTAACTATCCACACTACGTCATAGGCCCTTGTGATCAATTAAACGTTCCTCATGCCAGGCTATCTGTTTAA\",\r\n",
        "          \"GGCTTCGCGTTTAAGGCTGGATTAAGTACTCCGCCTTGTGATCTGTGATCCTCCGACCTGTGATCAGCAAGATTGGAACCTAGGTAGGCGGCGGGTCTACGCTGGCCCACAATCGTGAGTCCCCCACTCCGTAGGTTGTGGAATTTATAGACCCGCAAGGGGCACCACT\",\r\n",
        "          \"AGGATGACACCCAGGATGAATCTGGATTAGGAACACCAACCCGACATATTTGTTACCGCTGCAGCATTTCGCTCTTGGACGCGTAACCCGAGATCCGTCTCGCGATCGTCACGGATCGGGATTATGCAGGCAATACCTTGTGATCACTCCGCGCTTGGTTTTGCTAGCG\",\r\n",
        "          \"ACATCTCTAGTCACTTTTATTGAGCAGGTGGGCGGATTCATGATCCGGCTCTGTCGTACGTCCAACCACGGTGACATGTTCGGAGCTGTCGCCGTGGAGCAGAGATACATCGGATCTATCAATTTTACTAAGAGCAACTAGCCACGACAAACTGTGATCACCGATTGGA\",\r\n",
        "          \"AATTTGCGTATCTCTAGGACTCCCTCATACAAATCAAAGCTTGGATGGGTAAGATGCCGCAGCAGCAGGTATCTCATATTGGCTATTAAGAGCCAGGCCCTATGGCCTTAGTATCACCGATCAGACGTCGCATGAGCGGGCCCGTTGTCCTATCTCTTTAGCTGCCGCA\",\r\n",
        "          \"GAAGTAAAGGGGTTCCACTGCGTAGAGCGTGCCCCTCTGGTGTGCCGTACTGTTATGGTGATACAGCTTCCTTATACCCCTCGTAAAGCGGCTAATGGTCCTAATGAATGCCCTTGTGAAATCCGAATCGCTTTACAATTGCGTTCGGCGGAATGCAGTCACCAGTGTT\",\r\n",
        "          \"TACACTACGCGTTATTTACTTTTACTGAGTCCTTGTCGCCACCGAACGAGGATTGTTCATTGTATCCGGAGATTAGGAGTTCGCATCGCTGACACAGCCAGTTCGTAGCAAATACCGCTGGCCCTGGGCACTCCAGATCAGAACTACTAGCCCTAAACTCTATGACACA\",\r\n",
        "          \"TTGGGTCTCGATCCCTCTATGTTAAGCTGTTCCGTGGAGAATCTCCTGGGTTTTATGATTTGAATGACGAGAATTGGGAAGTCGGGATGTTGTGATCACCGCCGTTCGCTTTCATAAATGAACCCCTTTTTTTCAGCAGACGGTGGCCTTTCCCTTTCATCATTATACA\",\r\n",
        "          \"TTTCAAGTTACTACCGCCCTCTAGCGATAGAACTGAGGCAAATCATACACCGTGATCACCGACCCATGGAGTTTGACTCAGATTTACACTTTTAGGGGAACATGTTTGTCGGTCAGAGGTGTCAATTATTAGCAGATATCCCCCAACGCAGCGAGAGAGCACGGAGTGA\",\r\n",
        "          \"GATCCATTACCCTACGATATGTATATAGCGCCCTAGTACGGCTTCTCCCTTGCAGACACGCAGGCGCTGTGCGCTATCGGCTTCCTCGGACATTCCTGGATATAAGTAACGGCGAACTGGCTATCACTACCGCCGCTCCTTAAGCCTTGGTTTCACCGACGATTGTCGT\",\r\n",
        "          \"TAGTAGATTATTACCTGTGGACCGTTAGCTTCAAGACCGAAACGTTGGTGATGCTACTTAAATGTCAAGAGTTGCGAAGTTGGGCGAAGCACATCCGTACTCCCAAGTGGACGATCGATAGATCCATGGAGTTTCCATCCATCTTAATCCGCCCTTTGCATCACCGACG\",\r\n",
        "          \"TACAAGGCACAAACGAGACCTGATCGAACGGTGCACGGTCGAGGCAGCGAGATAAATGTACATTGAGAGCACCTTGTGATTTACGACCTGCATCGAAGGTTTCTTGGCACCCACCTGTCGTCCGCCAGGGCAGAGCCGACATTATATGACGCTGATGTACGAAGCCCCT\"],\r\n",
        "         15, 20, [\"CATGGGGAAAACTGA\",\"CCTCTCGATCACCGA\",\"CCTATAGATCACCGA\",\"CCGATTGATCACCGA\",\"CCTTGTGCAGACCGA\",\"CCTTGCCTTCACCGA\",\"CCTTGTTGCCACCGA\",\r\n",
        "                  \"ACTTGTGATCACCTT\",\"CCTTGTGATCAATTA\",\"CCTTGTGATCTGTGA\",\"CCTTGTGATCACTCC\",\"AACTGTGATCACCGA\",\"CCTTAGTATCACCGA\",\"CCTTGTGAAATCCGA\",\r\n",
        "                  \"CCTTGTCGCCACCGA\",\"TGTTGTGATCACCGC\",\"CACCGTGATCACCGA\",\"CCTTGGTTTCACCGA\",\"CCTTTGCATCACCGA\",\"CCTTGTGATTTACGA\"])\r\n",
        "\r\n",
        "cases = [case1]\r\n",
        "\r\n",
        "TestSuite(RandomizedMotifSearch, cases)"
      ],
      "execution_count": 12,
      "outputs": [
        {
          "output_type": "stream",
          "text": [
            "**************************************************\n",
            "TEST SUITE\n",
            "\n",
            "- Test Case 1 Passed. Expected: ['CATGGGGAAAACTGA', 'CCTCTCGATCACCGA', 'CCTATAGATCACCGA', 'CCGATTGATCACCGA', 'CCTTGTGCAGACCGA', 'CCTTGCCTTCACCGA', 'CCTTGTTGCCACCGA', 'ACTTGTGATCACCTT', 'CCTTGTGATCAATTA', 'CCTTGTGATCTGTGA', 'CCTTGTGATCACTCC', 'AACTGTGATCACCGA', 'CCTTAGTATCACCGA', 'CCTTGTGAAATCCGA', 'CCTTGTCGCCACCGA', 'TGTTGTGATCACCGC', 'CACCGTGATCACCGA', 'CCTTGGTTTCACCGA', 'CCTTTGCATCACCGA', 'CCTTGTGATTTACGA'], Actual: ['CATGGGGAAAACTGA', 'CCTCTCGATCACCGA', 'CCTATAGATCACCGA', 'CCGATTGATCACCGA', 'CCTTGTGCAGACCGA', 'CCTTGCCTTCACCGA', 'CCTTGTTGCCACCGA', 'ACTTGTGATCACCTT', 'CCTTGTGATCAATTA', 'CCTTGTGATCTGTGA', 'CCTTGTGATCACTCC', 'AACTGTGATCACCGA', 'CCTTAGTATCACCGA', 'CCTTGTGAAATCCGA', 'CCTTGTCGCCACCGA', 'TGTTGTGATCACCGC', 'CACCGTGATCACCGA', 'CCTTGGTTTCACCGA', 'CCTTTGCATCACCGA', 'CCTTGTGATTTACGA']\n",
            "\n",
            "1 out of 1 passed. END OF TEST SUITE.\n",
            "**************************************************\n"
          ],
          "name": "stdout"
        }
      ]
    }
  ]
}