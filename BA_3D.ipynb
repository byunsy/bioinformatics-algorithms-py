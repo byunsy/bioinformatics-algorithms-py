{
  "nbformat": 4,
  "nbformat_minor": 0,
  "metadata": {
    "colab": {
      "name": "BA_3D.ipynb",
      "provenance": [],
      "collapsed_sections": [],
      "toc_visible": true,
      "authorship_tag": "ABX9TyP4k4EtA7jRry/kCldb7yVA",
      "include_colab_link": true
    },
    "kernelspec": {
      "name": "python3",
      "display_name": "Python 3"
    }
  },
  "cells": [
    {
      "cell_type": "markdown",
      "metadata": {
        "id": "view-in-github",
        "colab_type": "text"
      },
      "source": [
        "<a href=\"https://colab.research.google.com/github/byunsy/bioinformatics-algorithms-py/blob/main/BA_3D.ipynb\" target=\"_parent\"><img src=\"https://colab.research.google.com/assets/colab-badge.svg\" alt=\"Open In Colab\"/></a>"
      ]
    },
    {
      "cell_type": "markdown",
      "metadata": {
        "id": "hAArkvw4eGFu"
      },
      "source": [
        "# De Bruijn Graph from a String Problem"
      ]
    },
    {
      "cell_type": "markdown",
      "metadata": {
        "id": "4zUHgL9TAIHr"
      },
      "source": [
        "### Function"
      ]
    },
    {
      "cell_type": "code",
      "metadata": {
        "id": "6FwdPq8UlxR5"
      },
      "source": [
        "def prefix(string):\r\n",
        "    # return string[:len(string)-1]\r\n",
        "    return string[:-1]\r\n",
        "\r\n",
        "def suffix(string):\r\n",
        "    return string[1:]"
      ],
      "execution_count": 1,
      "outputs": []
    },
    {
      "cell_type": "code",
      "metadata": {
        "id": "EezPehsA24RE"
      },
      "source": [
        "def StringCompose(text, k):\r\n",
        "    \r\n",
        "    kmers = []\r\n",
        "    bound = len(text) - k + 1\r\n",
        "    for i in range(bound):\r\n",
        "        kmers.append(text[i:i+k])\r\n",
        "    \r\n",
        "    return sorted(kmers)"
      ],
      "execution_count": 2,
      "outputs": []
    },
    {
      "cell_type": "code",
      "metadata": {
        "id": "n6WLJMvnkspA"
      },
      "source": [
        "def DeBruijn(text, k):\r\n",
        "\r\n",
        "    # Make a list of kmers\r\n",
        "    patterns = StringCompose(text, k-1)\r\n",
        "\r\n",
        "    # Create empty graph\r\n",
        "    graph = {}\r\n",
        "\r\n",
        "    # First initialize a node for each kmer in patterns\r\n",
        "    for kmer in patterns:\r\n",
        "        graph[kmer] = []\r\n",
        "\r\n",
        "    # Compare suffix(pattern) and prefix(pattern')\r\n",
        "    for i in range(len(patterns)):\r\n",
        "        for j in patterns[:i]+patterns[i+1:]:\r\n",
        "            if suffix(patterns[i]) == prefix(j):\r\n",
        "                if j not in graph[patterns[i]]:\r\n",
        "                    graph[patterns[i]].append(j)\r\n",
        "            \r\n",
        "    return graph"
      ],
      "execution_count": 3,
      "outputs": []
    },
    {
      "cell_type": "code",
      "metadata": {
        "id": "-m6eScpIr0CI"
      },
      "source": [
        "def DisplayBruijn(graph):\r\n",
        "\r\n",
        "    # Get a sorted list of keys\r\n",
        "    sorted_keys = sorted(graph.keys())\r\n",
        "\r\n",
        "    # Print the key and values lexicographically \r\n",
        "    for node in sorted_keys:\r\n",
        "        if graph[node] != []:\r\n",
        "            for n in graph[node]:\r\n",
        "                print(\"{} -> {}\".format(node, neighbor[:-2]))"
      ],
      "execution_count": 4,
      "outputs": []
    },
    {
      "cell_type": "markdown",
      "metadata": {
        "id": "nALreObfAPAl"
      },
      "source": [
        "### Test Cases"
      ]
    },
    {
      "cell_type": "code",
      "metadata": {
        "id": "pM-INvOJFNEi"
      },
      "source": [
        "# Modified to use in TestSuite\r\n",
        "def DisplayBruijn2(text, k):\r\n",
        "\r\n",
        "    graph = DeBruijn(text, k)\r\n",
        "    \r\n",
        "    # Get a sorted list of keys\r\n",
        "    sorted_keys = sorted(graph.keys())\r\n",
        "\r\n",
        "    ret = \"\"\r\n",
        "\r\n",
        "    # Print the key and values lexicographically \r\n",
        "    for node in sorted_keys:\r\n",
        "        if graph[node] != []:\r\n",
        "            neighbor = \"\"\r\n",
        "            for n in graph[node]:\r\n",
        "                neighbor += n + \",\"\r\n",
        "            ret += \"{} -> {}\".format(node, neighbor[:-1])\r\n",
        "            ret += \", \"\r\n",
        "\r\n",
        "    return ret[:-2]"
      ],
      "execution_count": 5,
      "outputs": []
    },
    {
      "cell_type": "code",
      "metadata": {
        "id": "KlAmQKZr3b-4"
      },
      "source": [
        "# Create a function for test suite\r\n",
        "def TestSuite(function, cases):\r\n",
        "    print(\"*\"*50)\r\n",
        "    print(\"TEST SUITE\\n\")\r\n",
        "    passed = 0\r\n",
        "    for i, case in enumerate(cases):\r\n",
        "        k, text, answer = case\r\n",
        "        result = function(text, k)\r\n",
        "        if result == answer:\r\n",
        "            print(\"- Test Case {} Passed. Expected: {}, Actual: {}\"\r\n",
        "                  .format(i+1, answer, result))\r\n",
        "            passed += 1\r\n",
        "        else:\r\n",
        "            print(\"- Test Case {} Failed. Expected: {}, Actual: {}\"\r\n",
        "                  .format(i+1, answer, result))\r\n",
        "    print(\"\\n{} out of {} passed.\".format(passed, len(cases)), end=\" \")\r\n",
        "    print(\"END OF TEST SUITE.\")\r\n",
        "    print(\"*\"*50)"
      ],
      "execution_count": 6,
      "outputs": []
    },
    {
      "cell_type": "code",
      "metadata": {
        "colab": {
          "base_uri": "https://localhost:8080/"
        },
        "id": "KAAHvfgs-u1W",
        "outputId": "8ecefd0d-6a3d-47ca-d542-3ad6d07b49b8"
      },
      "source": [
        "# Create test cases to pass into test suite\r\n",
        "case1 = (4, \"AAGATTCTCTAC\", \"AAG -> AGA, AGA -> GAT, ATT -> TTC, CTA -> TAC, CTC -> TCT, GAT -> ATT, TCT -> CTA,CTC, TTC -> TCT\" )\r\n",
        "\r\n",
        "cases = [case1]\r\n",
        "\r\n",
        "TestSuite(DisplayBruijn2, cases)"
      ],
      "execution_count": 7,
      "outputs": [
        {
          "output_type": "stream",
          "text": [
            "**************************************************\n",
            "TEST SUITE\n",
            "\n",
            "- Test Case 1 Passed. Expected: AAG -> AGA, AGA -> GAT, ATT -> TTC, CTA -> TAC, CTC -> TCT, GAT -> ATT, TCT -> CTA,CTC, TTC -> TCT, Actual: AAG -> AGA, AGA -> GAT, ATT -> TTC, CTA -> TAC, CTC -> TCT, GAT -> ATT, TCT -> CTA,CTC, TTC -> TCT\n",
            "\n",
            "1 out of 1 passed. END OF TEST SUITE.\n",
            "**************************************************\n"
          ],
          "name": "stdout"
        }
      ]
    }
  ]
}