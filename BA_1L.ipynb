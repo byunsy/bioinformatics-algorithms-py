{
  "nbformat": 4,
  "nbformat_minor": 0,
  "metadata": {
    "colab": {
      "name": "BA_1L.ipynb",
      "provenance": [],
      "collapsed_sections": [],
      "toc_visible": true,
      "authorship_tag": "ABX9TyNBk+A8mrXVS7OkscXK1Unk",
      "include_colab_link": true
    },
    "kernelspec": {
      "name": "python3",
      "display_name": "Python 3"
    }
  },
  "cells": [
    {
      "cell_type": "markdown",
      "metadata": {
        "id": "view-in-github",
        "colab_type": "text"
      },
      "source": [
        "<a href=\"https://colab.research.google.com/github/byunsy/bioinformatics-algorithms-py/blob/main/BA_1L.ipynb\" target=\"_parent\"><img src=\"https://colab.research.google.com/assets/colab-badge.svg\" alt=\"Open In Colab\"/></a>"
      ]
    },
    {
      "cell_type": "markdown",
      "metadata": {
        "id": "hAArkvw4eGFu"
      },
      "source": [
        "# Pattern to Number Problem"
      ]
    },
    {
      "cell_type": "markdown",
      "metadata": {
        "id": "4zUHgL9TAIHr"
      },
      "source": [
        "### Function"
      ]
    },
    {
      "cell_type": "code",
      "metadata": {
        "id": "htyzjc-QJ_RH"
      },
      "source": [
        "def PatternToNumber(pattern):\r\n",
        "    if pattern == \"\":\r\n",
        "        return 0\r\n",
        "    \r\n",
        "    prefix = pattern[:-1]\r\n",
        "    symbol = pattern[-1]\r\n",
        "    symbol_num = {\"A\": 0, \"C\": 1, \"G\": 2, \"T\": 3}\r\n",
        "\r\n",
        "    return 4 * PatternToNumber(prefix) + symbol_num[symbol]"
      ],
      "execution_count": 30,
      "outputs": []
    },
    {
      "cell_type": "markdown",
      "metadata": {
        "id": "nALreObfAPAl"
      },
      "source": [
        "### Test Cases"
      ]
    },
    {
      "cell_type": "code",
      "metadata": {
        "id": "KlAmQKZr3b-4"
      },
      "source": [
        "# Create a function for test suite\r\n",
        "def TestSuite(function, cases):\r\n",
        "    print(\"*\"*50)\r\n",
        "    print(\"TEST SUITE\\n\")\r\n",
        "    passed = 0\r\n",
        "    for i, case in enumerate(cases):\r\n",
        "        pattern, answer = case\r\n",
        "        result = function(pattern)\r\n",
        "        if result == answer:\r\n",
        "            print(\"- Test Case {} Passed. Expected: {}, Actual: {}\"\r\n",
        "                  .format(i+1, answer, result))\r\n",
        "            passed += 1\r\n",
        "        else:\r\n",
        "            print(\"- Test Case {} Failed. Expected: {}, Actual: {}\"\r\n",
        "                  .format(i+1, answer, result))\r\n",
        "    print(\"\\n{} out of {} passed.\".format(passed, len(cases)), end=\" \")\r\n",
        "    print(\"END OF TEST SUITE.\")\r\n",
        "    print(\"*\"*50)"
      ],
      "execution_count": 40,
      "outputs": []
    },
    {
      "cell_type": "code",
      "metadata": {
        "colab": {
          "base_uri": "https://localhost:8080/"
        },
        "id": "KAAHvfgs-u1W",
        "outputId": "b45f613f-325f-4e97-a2af-d39e3b5999dc"
      },
      "source": [
        "# Create test cases to pass into test suite\r\n",
        "case1 = (\"AGT\", 11)\r\n",
        "case2 = (\"AAA\", 0)\r\n",
        "case3 = (\"TTT\", 63)\r\n",
        "case4 = (\"GTA\", 44)\r\n",
        "case5 = (\"CTTCTCACGTACAACAAAATC\", 2161555804173)\r\n",
        "\r\n",
        "cases = [case1, case2, case3, case4, case5]\r\n",
        "\r\n",
        "TestSuite(PatternToNumber, cases)"
      ],
      "execution_count": 42,
      "outputs": [
        {
          "output_type": "stream",
          "text": [
            "**************************************************\n",
            "TEST SUITE\n",
            "\n",
            "- Test Case 1 Passed. Expected: 11, Actual: 11\n",
            "- Test Case 2 Passed. Expected: 0, Actual: 0\n",
            "- Test Case 3 Passed. Expected: 63, Actual: 63\n",
            "- Test Case 4 Passed. Expected: 44, Actual: 44\n",
            "- Test Case 5 Passed. Expected: 2161555804173, Actual: 2161555804173\n",
            "\n",
            "5 out of 5 passed. END OF TEST SUITE.\n",
            "**************************************************\n"
          ],
          "name": "stdout"
        }
      ]
    }
  ]
}