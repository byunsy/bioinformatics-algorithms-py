{
  "nbformat": 4,
  "nbformat_minor": 0,
  "metadata": {
    "colab": {
      "name": "BA_1J.ipynb",
      "provenance": [],
      "collapsed_sections": [],
      "toc_visible": true,
      "authorship_tag": "ABX9TyPlI+5aIofkKKFeX7ET5Jr2",
      "include_colab_link": true
    },
    "kernelspec": {
      "name": "python3",
      "display_name": "Python 3"
    }
  },
  "cells": [
    {
      "cell_type": "markdown",
      "metadata": {
        "id": "view-in-github",
        "colab_type": "text"
      },
      "source": [
        "<a href=\"https://colab.research.google.com/github/byunsy/bioinformatics-algorithms-py/blob/main/BA_1J.ipynb\" target=\"_parent\"><img src=\"https://colab.research.google.com/assets/colab-badge.svg\" alt=\"Open In Colab\"/></a>"
      ]
    },
    {
      "cell_type": "markdown",
      "metadata": {
        "id": "hAArkvw4eGFu"
      },
      "source": [
        "# Frequent Words with Mismatches and Reverse Complements Problem"
      ]
    },
    {
      "cell_type": "markdown",
      "metadata": {
        "id": "4zUHgL9TAIHr"
      },
      "source": [
        "### Function"
      ]
    },
    {
      "cell_type": "code",
      "metadata": {
        "id": "fRCC0IPbGMej"
      },
      "source": [
        "def ReverseComplement(pattern):\r\n",
        "    comp = \"\"\r\n",
        "    \r\n",
        "    # Get complement\r\n",
        "    for char in pattern:\r\n",
        "        if char == 'A':\r\n",
        "            comp += 'T'\r\n",
        "        elif char == 'T':\r\n",
        "            comp += 'A'\r\n",
        "        elif char == 'G':\r\n",
        "            comp += 'C'\r\n",
        "        elif char == 'C':\r\n",
        "            comp += 'G'\r\n",
        "\r\n",
        "    # Reverse it and return\r\n",
        "    return comp[::-1]"
      ],
      "execution_count": 1,
      "outputs": []
    },
    {
      "cell_type": "code",
      "metadata": {
        "id": "_TdXsR9NYMnO"
      },
      "source": [
        "def HammingDistance(str1, str2):\r\n",
        "    if len(str1) != len(str2):\r\n",
        "        raise Exception(\"Error: Two strings must be of equal length.\")\r\n",
        "\r\n",
        "    mismatch = 0\r\n",
        "    for i in range(len(str1)):\r\n",
        "        if str1[i] != str2[i]:\r\n",
        "            mismatch += 1\r\n",
        "    return mismatch"
      ],
      "execution_count": 2,
      "outputs": []
    },
    {
      "cell_type": "code",
      "metadata": {
        "id": "uWYlJhc-Yppy"
      },
      "source": [
        "def ApproxPatternCount(pattern, text, d):\r\n",
        "    count = 0\r\n",
        "    bound = len(text) - len(pattern) + 1\r\n",
        "    for i in range(bound):\r\n",
        "        pattern2 = text[i:i+len(pattern)] \r\n",
        "        if HammingDistance(pattern, pattern2) <= d:\r\n",
        "            count += 1\r\n",
        "    return count"
      ],
      "execution_count": 3,
      "outputs": []
    },
    {
      "cell_type": "code",
      "metadata": {
        "id": "qmDEe0KiYOEu"
      },
      "source": [
        "def Neighbors(pattern, d):\r\n",
        "    if d == 0:\r\n",
        "        return [pattern]\r\n",
        "    if len(pattern) == 1:\r\n",
        "        return ['A', 'C', 'G', 'T']\r\n",
        "\r\n",
        "    first  = pattern[0]\r\n",
        "    suffix = pattern[1:]\r\n",
        "    nucleotides = ['A', 'C', 'G', 'T']\r\n",
        "    neighborhood = []\r\n",
        "    suffix_neighbors = Neighbors(suffix, d)\r\n",
        "\r\n",
        "    for text in suffix_neighbors:\r\n",
        "        if HammingDistance(suffix, text) < d:\r\n",
        "            for base in nucleotides:\r\n",
        "                neighborhood.append(base+text)\r\n",
        "        else:\r\n",
        "            neighborhood.append(first+text)\r\n",
        "\r\n",
        "    return neighborhood"
      ],
      "execution_count": 4,
      "outputs": []
    },
    {
      "cell_type": "code",
      "metadata": {
        "id": "Nd99nTKoWSKD"
      },
      "source": [
        "def PatternToNumber(pattern):\r\n",
        "    if pattern == \"\":\r\n",
        "        return 0\r\n",
        "    \r\n",
        "    prefix = pattern[:-1]\r\n",
        "    symbol = pattern[-1]\r\n",
        "    symbol_num = {\"A\": 0, \"C\": 1, \"G\": 2, \"T\": 3}\r\n",
        "\r\n",
        "    return 4 * PatternToNumber(prefix) + symbol_num[symbol]"
      ],
      "execution_count": 5,
      "outputs": []
    },
    {
      "cell_type": "code",
      "metadata": {
        "id": "UBffKp5GWQjQ"
      },
      "source": [
        "def NumberToPattern(index, k):\r\n",
        "    symbol_num = \"ACGT\"\r\n",
        "    if k == 1:\r\n",
        "        return symbol_num[index]\r\n",
        "\r\n",
        "    prefix_index = index // 4\r\n",
        "    remainder = index % 4\r\n",
        "\r\n",
        "    symbol = symbol_num[remainder]\r\n",
        "    prefix_pattern = NumberToPattern(prefix_index, k-1)\r\n",
        "\r\n",
        "    return prefix_pattern + symbol"
      ],
      "execution_count": 6,
      "outputs": []
    },
    {
      "cell_type": "code",
      "metadata": {
        "id": "9Xc1TpYKpc4X"
      },
      "source": [
        "def ComputingFrequencies(text, k):\r\n",
        "\r\n",
        "    # initialize array (length = 4**k) elements to zero \r\n",
        "    frequency_array = [0]*(4**k)\r\n",
        "\r\n",
        "    bound = len(text) - k + 1\r\n",
        "    for i in range(bound):\r\n",
        "        pattern = text[i:i+k]\r\n",
        "        j = PatternToNumber(pattern)\r\n",
        "        frequency_array[j] += 1\r\n",
        "\r\n",
        "    return frequency_array"
      ],
      "execution_count": 7,
      "outputs": []
    },
    {
      "cell_type": "code",
      "metadata": {
        "id": "htyzjc-QJ_RH"
      },
      "source": [
        "def FreqWordsMismatchRC(text, k, d):\r\n",
        "    \r\n",
        "    frequent_patterns = []\r\n",
        "    frequency_array = [0]*(4**k)\r\n",
        "    close_array = [0]*(4**k)\r\n",
        "\r\n",
        "    bound = len(text) - k + 1\r\n",
        "    for i in range(bound):\r\n",
        "        # Get neighbors (kmers with upto d mismatches)\r\n",
        "        neighborhood = Neighbors(text[i:i+k], d)\r\n",
        "\r\n",
        "        # Mark the patterns that are neighbors as 1 (close = True)\r\n",
        "        for pattern in neighborhood:\r\n",
        "            index = PatternToNumber(pattern)\r\n",
        "            close_array[index] = 1\r\n",
        "\r\n",
        "            # Also for its reverse complement\r\n",
        "            rc_pattern = ReverseComplement(pattern)\r\n",
        "            rc_index = PatternToNumber(rc_pattern)\r\n",
        "            close_array[rc_index] = 1\r\n",
        "\r\n",
        "    # For those marked as True, count the num of occurences of pattern and\r\n",
        "    # rc_pattern in text with at most d mismatches\r\n",
        "    for i in range(4**k):\r\n",
        "        if close_array[i] == 1:\r\n",
        "            pattern = NumberToPattern(i, k)\r\n",
        "            rc_pattern = ReverseComplement(pattern)\r\n",
        "            frequency_array[i] = (ApproxPatternCount(pattern, text, d) +\r\n",
        "                                  ApproxPatternCount(rc_pattern, text, d))\r\n",
        "    \r\n",
        "    # Find the pattern that has the highest occurrence (max of frequency_array)\r\n",
        "    max_count = max(frequency_array)\r\n",
        "    for i in range(4**k):\r\n",
        "        if frequency_array[i] == max_count:\r\n",
        "            pattern = NumberToPattern(i, k)\r\n",
        "            frequent_patterns.append(pattern)\r\n",
        "    \r\n",
        "    return frequent_patterns"
      ],
      "execution_count": 23,
      "outputs": []
    },
    {
      "cell_type": "markdown",
      "metadata": {
        "id": "nALreObfAPAl"
      },
      "source": [
        "### Test Cases"
      ]
    },
    {
      "cell_type": "code",
      "metadata": {
        "id": "KlAmQKZr3b-4"
      },
      "source": [
        "# Create a function for test suite\r\n",
        "def TestSuite(function, cases):\r\n",
        "    print(\"*\"*50)\r\n",
        "    print(\"TEST SUITE\\n\")\r\n",
        "    passed = 0\r\n",
        "    for i, case in enumerate(cases):\r\n",
        "        text, k, d, answer = case\r\n",
        "        result = function(text, k, d)\r\n",
        "        if sorted(result) == sorted(answer):\r\n",
        "            print(\"- Test Case {} Passed. Expected: {}, Actual: {}\"\r\n",
        "                  .format(i+1, answer, result))\r\n",
        "            passed += 1\r\n",
        "        else:\r\n",
        "            print(\"- Test Case {} Failed. Expected: {}, Actual: {}\"\r\n",
        "                  .format(i+1, answer, result))\r\n",
        "    print(\"\\n{} out of {} passed.\".format(passed, len(cases)), end=\" \")\r\n",
        "    print(\"END OF TEST SUITE.\")\r\n",
        "    print(\"*\"*50)"
      ],
      "execution_count": 19,
      "outputs": []
    },
    {
      "cell_type": "code",
      "metadata": {
        "colab": {
          "base_uri": "https://localhost:8080/"
        },
        "id": "KAAHvfgs-u1W",
        "outputId": "cb49b356-ca99-480f-c196-b7b65809f9c1"
      },
      "source": [
        "# Create test cases to pass into test suite\r\n",
        "case1 = (\"ACGTTGCATGTCGCATGATGCATGAGAGCT\", 4, 1, [\"ACAT\", \"ATGT\"])\r\n",
        "case2 = (\"AAAAAAAAAA\", 2, 1, [\"AT\", \"TA\"])\r\n",
        "case3 = (\"AGTCAGTC\", 4, 2, [\"AATT\", \"GGCC\"]) \r\n",
        "case4 = (\"AATTAATTGGTAGGTAGGTA\", 4, 0, [\"AATT\"])\r\n",
        "case5 = (\"ATA\", 3, 1, [\"AAA\", \"AAT\", \"ACA\", \"AGA\", \"ATA\", \"ATC\", \"ATG\", \"ATT\", \"CAT\", \"CTA\", \"GAT\", \"GTA\", \"TAA\", \"TAC\", \"TAG\", \"TAT\", \"TCT\", \"TGT\", \"TTA\", \"TTT\"])\r\n",
        "case6 = (\"AAT\", 3, 0, [\"AAT\", \"ATT\"])\r\n",
        "case7 = (\"TAGCG\", 2, 1, [\"CA\", \"CC\", \"GG\", \"TG\"])\r\n",
        "case8 = (\"CTTGCCGGCGCCGATTATACGATCGCGGCCGCTTGCCTTCTTTATAATGCATCGGCGCCGCGATCTTGCTATATACGTACGCTTCGCTTGCATCTTGCGCGCATTACGTACTTATCGATTACTTATCTTCGATGCCGGCCGGCATATGCCGCTTTAGCATCGATCGATCGTACTTTACGCGTATAGCCGCTTCGCTTGCCGTACGCGATGCTAGCATATGCTAGCGCTAATTACTTAT\", 9, 3,\r\n",
        "         [\"AGCGCCGCT\", \"AGCGGCGCT\"])\r\n",
        "\r\n",
        "cases = [case1, case2, case3, case4, case5, case6, case7, case8]\r\n",
        "\r\n",
        "TestSuite(FreqWordsMismatchRC, cases)"
      ],
      "execution_count": 22,
      "outputs": [
        {
          "output_type": "stream",
          "text": [
            "**************************************************\n",
            "TEST SUITE\n",
            "\n",
            "- Test Case 1 Passed. Expected: ['ACAT', 'ATGT'], Actual: ['ACAT', 'ATGT']\n",
            "- Test Case 2 Passed. Expected: ['AT', 'TA'], Actual: ['AT', 'TA']\n",
            "- Test Case 3 Passed. Expected: ['AATT', 'GGCC'], Actual: ['AATT', 'GGCC']\n",
            "- Test Case 4 Passed. Expected: ['AATT'], Actual: ['AATT']\n",
            "- Test Case 5 Passed. Expected: ['AAA', 'AAT', 'ACA', 'AGA', 'ATA', 'ATC', 'ATG', 'ATT', 'CAT', 'CTA', 'GAT', 'GTA', 'TAA', 'TAC', 'TAG', 'TAT', 'TCT', 'TGT', 'TTA', 'TTT'], Actual: ['AAA', 'AAT', 'ACA', 'AGA', 'ATA', 'ATC', 'ATG', 'ATT', 'CAT', 'CTA', 'GAT', 'GTA', 'TAA', 'TAC', 'TAG', 'TAT', 'TCT', 'TGT', 'TTA', 'TTT']\n",
            "- Test Case 6 Passed. Expected: ['AAT', 'ATT'], Actual: ['AAT', 'ATT']\n",
            "- Test Case 7 Passed. Expected: ['CA', 'CC', 'GG', 'TG'], Actual: ['CA', 'CC', 'GG', 'TG']\n",
            "- Test Case 8 Passed. Expected: ['AGCGCCGCT', 'AGCGGCGCT'], Actual: ['AGCGCCGCT', 'AGCGGCGCT']\n",
            "\n",
            "8 out of 8 passed. END OF TEST SUITE.\n",
            "**************************************************\n"
          ],
          "name": "stdout"
        }
      ]
    }
  ]
}