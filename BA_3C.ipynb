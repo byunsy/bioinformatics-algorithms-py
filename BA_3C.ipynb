{
  "nbformat": 4,
  "nbformat_minor": 0,
  "metadata": {
    "colab": {
      "name": "BA_3C.ipynb",
      "provenance": [],
      "collapsed_sections": [],
      "toc_visible": true,
      "authorship_tag": "ABX9TyMfyaJfBiPagrwIHCid0orp",
      "include_colab_link": true
    },
    "kernelspec": {
      "name": "python3",
      "display_name": "Python 3"
    }
  },
  "cells": [
    {
      "cell_type": "markdown",
      "metadata": {
        "id": "view-in-github",
        "colab_type": "text"
      },
      "source": [
        "<a href=\"https://colab.research.google.com/github/byunsy/bioinformatics-algorithms-py/blob/main/BA_3C.ipynb\" target=\"_parent\"><img src=\"https://colab.research.google.com/assets/colab-badge.svg\" alt=\"Open In Colab\"/></a>"
      ]
    },
    {
      "cell_type": "markdown",
      "metadata": {
        "id": "hAArkvw4eGFu"
      },
      "source": [
        "# Overlap Graph Problem"
      ]
    },
    {
      "cell_type": "markdown",
      "metadata": {
        "id": "4zUHgL9TAIHr"
      },
      "source": [
        "### Function"
      ]
    },
    {
      "cell_type": "code",
      "metadata": {
        "id": "6FwdPq8UlxR5"
      },
      "source": [
        "def prefix(string):\r\n",
        "    # return string[:len(string)-1]\r\n",
        "    return string[:-1]\r\n",
        "\r\n",
        "def suffix(string):\r\n",
        "    return string[1:]"
      ],
      "execution_count": 1,
      "outputs": []
    },
    {
      "cell_type": "code",
      "metadata": {
        "id": "n6WLJMvnkspA"
      },
      "source": [
        "def OverlapGraph(patterns):\r\n",
        "    # Create empty graph\r\n",
        "    graph = {}\r\n",
        "\r\n",
        "    # First initialize a node for each kmer in patterns\r\n",
        "    for kmer in patterns:\r\n",
        "        graph[kmer] = []\r\n",
        "\r\n",
        "    # Compare suffix(pattern) and prefix(pattern')\r\n",
        "    for i in range(len(patterns)):\r\n",
        "        for j in patterns[:i]+patterns[i+1:]:\r\n",
        "            if suffix(patterns[i]) == prefix(j):\r\n",
        "                graph[patterns[i]].append(j)\r\n",
        "            \r\n",
        "    return graph"
      ],
      "execution_count": 30,
      "outputs": []
    },
    {
      "cell_type": "code",
      "metadata": {
        "id": "-m6eScpIr0CI"
      },
      "source": [
        "def DisplayOverlapGraph(graph):\r\n",
        "\r\n",
        "    # Get a sorted list of keys\r\n",
        "    sorted_keys = sorted(graph.keys())\r\n",
        "\r\n",
        "    # Print the key and values lexicographically \r\n",
        "    for node in sorted_keys:\r\n",
        "        if graph[node] != []:\r\n",
        "            for n in graph[node]:\r\n",
        "                print(\"{} -> {}\".format(node, n))"
      ],
      "execution_count": 59,
      "outputs": []
    },
    {
      "cell_type": "markdown",
      "metadata": {
        "id": "nALreObfAPAl"
      },
      "source": [
        "### Test Cases"
      ]
    },
    {
      "cell_type": "code",
      "metadata": {
        "id": "9CwxckmLxxuC"
      },
      "source": [
        "### Modified some bits to use TestSuite\r\n",
        "\r\n",
        "def DisplayOverlapGraph2(patterns):\r\n",
        "\r\n",
        "    graph = OverlapGraph(patterns)\r\n",
        "\r\n",
        "    # Get a sorted list of keys\r\n",
        "    sorted_keys = sorted(graph.keys())\r\n",
        "\r\n",
        "    result = \"\"\r\n",
        "\r\n",
        "    # Print the key and values lexicographically \r\n",
        "    for node in sorted_keys:\r\n",
        "        if graph[node] != []:\r\n",
        "            for n in graph[node]:\r\n",
        "                result += \"{} -> {}\".format(node, n)\r\n",
        "                result += \", \"\r\n",
        "\r\n",
        "    return result[:-2]"
      ],
      "execution_count": 60,
      "outputs": []
    },
    {
      "cell_type": "code",
      "metadata": {
        "id": "KlAmQKZr3b-4"
      },
      "source": [
        "# Create a function for test suite\r\n",
        "def TestSuite(function, cases):\r\n",
        "    print(\"*\"*50)\r\n",
        "    print(\"TEST SUITE\\n\")\r\n",
        "    passed = 0\r\n",
        "    for i, case in enumerate(cases):\r\n",
        "        patterns, answer = case\r\n",
        "        result = function(patterns)\r\n",
        "        if result == answer:\r\n",
        "            print(\"- Test Case {} Passed. Expected: {}, Actual: {}\"\r\n",
        "                  .format(i+1, answer, result))\r\n",
        "            passed += 1\r\n",
        "        else:\r\n",
        "            print(\"- Test Case {} Failed. Expected: {}, Actual: {}\"\r\n",
        "                  .format(i+1, answer, result))\r\n",
        "    print(\"\\n{} out of {} passed.\".format(passed, len(cases)), end=\" \")\r\n",
        "    print(\"END OF TEST SUITE.\")\r\n",
        "    print(\"*\"*50)"
      ],
      "execution_count": 49,
      "outputs": []
    },
    {
      "cell_type": "code",
      "metadata": {
        "colab": {
          "base_uri": "https://localhost:8080/"
        },
        "id": "KAAHvfgs-u1W",
        "outputId": "25911984-93af-45e1-c198-7cc406ad95a7"
      },
      "source": [
        "# Create test cases to pass into test suite\r\n",
        "case1 = ([\"ATGCG\",\"GCATG\",\"CATGC\",\"AGGCA\",\"GGCAT\"], \"AGGCA -> GGCAT, CATGC -> ATGCG, GCATG -> CATGC, GGCAT -> GCATG\")\r\n",
        "case2 = ([\"ATGCG\",\"GCATG\",\"CATGC\",\"AGGCA\",\"GGCAT\", \"CATGG\"], \"AGGCA -> GGCAT, CATGC -> ATGCG, GCATG -> CATGC, GCATG -> CATGG, GGCAT -> GCATG\")\r\n",
        "\r\n",
        "cases = [case1, case2]\r\n",
        "\r\n",
        "TestSuite(DisplayOverlapGraph2, cases)"
      ],
      "execution_count": 63,
      "outputs": [
        {
          "output_type": "stream",
          "text": [
            "**************************************************\n",
            "TEST SUITE\n",
            "\n",
            "- Test Case 1 Passed. Expected: AGGCA -> GGCAT, CATGC -> ATGCG, GCATG -> CATGC, GGCAT -> GCATG, Actual: AGGCA -> GGCAT, CATGC -> ATGCG, GCATG -> CATGC, GGCAT -> GCATG\n",
            "- Test Case 2 Passed. Expected: AGGCA -> GGCAT, CATGC -> ATGCG, GCATG -> CATGC, GCATG -> CATGG, GGCAT -> GCATG, Actual: AGGCA -> GGCAT, CATGC -> ATGCG, GCATG -> CATGC, GCATG -> CATGG, GGCAT -> GCATG\n",
            "\n",
            "2 out of 2 passed. END OF TEST SUITE.\n",
            "**************************************************\n"
          ],
          "name": "stdout"
        }
      ]
    }
  ]
}