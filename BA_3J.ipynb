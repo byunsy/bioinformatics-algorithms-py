{
  "nbformat": 4,
  "nbformat_minor": 0,
  "metadata": {
    "colab": {
      "name": "BA_3J.ipynb",
      "provenance": [],
      "collapsed_sections": [],
      "toc_visible": true,
      "authorship_tag": "ABX9TyP5Q6KxybZQ+wOtmg0F8emk",
      "include_colab_link": true
    },
    "kernelspec": {
      "name": "python3",
      "display_name": "Python 3"
    }
  },
  "cells": [
    {
      "cell_type": "markdown",
      "metadata": {
        "id": "view-in-github",
        "colab_type": "text"
      },
      "source": [
        "<a href=\"https://colab.research.google.com/github/byunsy/bioinformatics-algorithms-py/blob/main/BA_3J.ipynb\" target=\"_parent\"><img src=\"https://colab.research.google.com/assets/colab-badge.svg\" alt=\"Open In Colab\"/></a>"
      ]
    },
    {
      "cell_type": "markdown",
      "metadata": {
        "id": "hAArkvw4eGFu"
      },
      "source": [
        "# String Reconstruction from Read-Pairs Problem"
      ]
    },
    {
      "cell_type": "markdown",
      "metadata": {
        "id": "4zUHgL9TAIHr"
      },
      "source": [
        "### Function"
      ]
    },
    {
      "cell_type": "code",
      "metadata": {
        "id": "eZSeUuPgYwWW"
      },
      "source": [
        "import random\r\n",
        "import copy"
      ],
      "execution_count": 1,
      "outputs": []
    },
    {
      "cell_type": "code",
      "metadata": {
        "id": "IuUUo8Mg1xiP"
      },
      "source": [
        "def prefix(string):\r\n",
        "    # return string[:len(string)-1]\r\n",
        "    return string[:-1]\r\n",
        "\r\n",
        "def suffix(string):\r\n",
        "    return string[1:]"
      ],
      "execution_count": 2,
      "outputs": []
    },
    {
      "cell_type": "code",
      "metadata": {
        "id": "S3W9KXvVYyyT"
      },
      "source": [
        "def SearchCycle(graph, start_node):\r\n",
        "    cycle = [start_node] # start cycle\r\n",
        "    avail_nodes = []     # nodes in the current cycle that have unused edges\r\n",
        "    unused = copy.deepcopy(graph) # unused edges \r\n",
        "  \r\n",
        "    node = start_node\r\n",
        "    while unused[node] != []:\r\n",
        "\r\n",
        "        # randomly select the next node to explore\r\n",
        "        next = unused[node][random.randint(0, len(unused[node])-1)] \r\n",
        "        unused[node].remove(next)  # remove from graph dict value\r\n",
        "        cycle.append(next)         # add to cycle\r\n",
        "        node = next\r\n",
        "\r\n",
        "        # if dead end\r\n",
        "        if node not in unused:\r\n",
        "            unused[node] = []\r\n",
        "            break\r\n",
        "\r\n",
        "    for i in unused:\r\n",
        "        if unused[i] != []:\r\n",
        "            avail_nodes.append(i) # find nodes with unused edges\r\n",
        "\r\n",
        "    return cycle, avail_nodes"
      ],
      "execution_count": 3,
      "outputs": []
    },
    {
      "cell_type": "code",
      "metadata": {
        "id": "vRMOa8qeY0DW"
      },
      "source": [
        "def EulerianPath(graph):\r\n",
        "\r\n",
        "    # Initialize variables\r\n",
        "    cycle = []\r\n",
        "    unexp_edges = [0] \r\n",
        "    start_node = list(graph.keys())[0] # first key in graph\r\n",
        "\r\n",
        "    while unexp_edges != []:\r\n",
        "\r\n",
        "        cycle, unexp_edges = SearchCycle(graph, start_node)\r\n",
        "\r\n",
        "        # If there exist any unexplored edges,\r\n",
        "        # then select a new start_node from unexp_edges\r\n",
        "        if unexp_edges:\r\n",
        "            start_node = unexp_edges[0] \r\n",
        "\r\n",
        "    return cycle"
      ],
      "execution_count": 4,
      "outputs": []
    },
    {
      "cell_type": "code",
      "metadata": {
        "id": "IspoIhEQjHdK"
      },
      "source": [
        "def PairedDeBruijn(patterns):\r\n",
        "\r\n",
        "    # Split the kmers to parse more easily\r\n",
        "    paired_kmers = []\r\n",
        "    for pairs in sorted(patterns):\r\n",
        "        paired_kmers.append(pairs.split('|'))\r\n",
        "\r\n",
        "    # Same logic as De Bruijn but for both kmer in each pair\r\n",
        "    graph = {}\r\n",
        "    for kmers in paired_kmers:\r\n",
        "\r\n",
        "        pairs_pfx = prefix(kmers[0]) + \"|\" + prefix(kmers[1])\r\n",
        "        pairs_sfx = suffix(kmers[0]) + \"|\" + suffix(kmers[1])\r\n",
        "\r\n",
        "        if pairs_pfx not in graph:\r\n",
        "            graph[pairs_pfx] = [pairs_sfx]\r\n",
        "        else:\r\n",
        "            graph[pairs_pfx].append(pairs_sfx)\r\n",
        "\r\n",
        "    return graph"
      ],
      "execution_count": 5,
      "outputs": []
    },
    {
      "cell_type": "code",
      "metadata": {
        "id": "pV4mzAJCv4vk"
      },
      "source": [
        "def ReadPairsStrRecon(k, d, pairs):\r\n",
        "\r\n",
        "    # Create paired De Bruijn graph and find Eulerian path\r\n",
        "    paired_db_graph = (PairedDeBruijn(pairs))\r\n",
        "    path = EulerianPath(paired_db_graph)\r\n",
        "    \r\n",
        "    # Reconstruct the string\r\n",
        "    # 01. Take the entire first left kmer\r\n",
        "    # 02. Afterwards, take the last nucleotide of each left kmer\r\n",
        "    # 03. Starting from len(path)-k-d of path, take the last\r\n",
        "    #     nucleotide of each right kmer\r\n",
        "     \r\n",
        "    text = path[0][:k-1]            # left kmer of the first pair\r\n",
        "    for i in range(1, len(path)):\r\n",
        "        text += path[i][k-2]        # the last nucleotide of left kmer\r\n",
        "    for j in path[len(path)-k-d:]:\r\n",
        "        text += j[-1]               # the last nucleotide of right kmer\r\n",
        "\r\n",
        "    return text"
      ],
      "execution_count": 8,
      "outputs": []
    },
    {
      "cell_type": "code",
      "metadata": {
        "colab": {
          "base_uri": "https://localhost:8080/"
        },
        "id": "l5A6mW5G0UVt",
        "outputId": "67c00e3e-e647-4673-a2fa-8ede0dd5caa4"
      },
      "source": [
        "pairs = [\"GAGA|TTGA\",\r\n",
        "         \"TCGT|GATG\",\r\n",
        "         \"CGTG|ATGT\",\r\n",
        "         \"TGGT|TGAG\",\r\n",
        "         \"GTGA|TGTT\",\r\n",
        "         \"GTGG|GTGA\",\r\n",
        "         \"TGAG|GTTG\",\r\n",
        "         \"GGTC|GAGA\",\r\n",
        "         \"GTCG|AGAT\"]\r\n",
        "\r\n",
        "print(ReadPairsStrRecon(4, 2, pairs))"
      ],
      "execution_count": 7,
      "outputs": [
        {
          "output_type": "stream",
          "text": [
            "GTGGTCGTGAGATGTTGA\n"
          ],
          "name": "stdout"
        }
      ]
    },
    {
      "cell_type": "markdown",
      "metadata": {
        "id": "nALreObfAPAl"
      },
      "source": [
        "### Test Cases"
      ]
    },
    {
      "cell_type": "code",
      "metadata": {
        "id": "KlAmQKZr3b-4"
      },
      "source": [
        "# Create a function for test suite\r\n",
        "def TestSuite(function, cases):\r\n",
        "    print(\"*\"*50)\r\n",
        "    print(\"TEST SUITE\\n\")\r\n",
        "    passed = 0\r\n",
        "    for i, case in enumerate(cases):\r\n",
        "        k, d, pairs, answer = case\r\n",
        "        result = function(k, d, pairs)\r\n",
        "        if result == answer:\r\n",
        "            print(\"- Test Case {} Passed. Expected: {}, Actual: {}\"\r\n",
        "                  .format(i+1, answer, result))\r\n",
        "            passed += 1\r\n",
        "        else:\r\n",
        "            print(\"- Test Case {} Failed. Expected: {}, Actual: {}\"\r\n",
        "                  .format(i+1, answer, result))\r\n",
        "    print(\"\\n{} out of {} passed.\".format(passed, len(cases)), end=\" \")\r\n",
        "    print(\"END OF TEST SUITE.\")\r\n",
        "    print(\"*\"*50)"
      ],
      "execution_count": 9,
      "outputs": []
    },
    {
      "cell_type": "code",
      "metadata": {
        "id": "KAAHvfgs-u1W",
        "colab": {
          "base_uri": "https://localhost:8080/"
        },
        "outputId": "625d6802-fa70-42c9-b739-058cb7d47fb2"
      },
      "source": [
        "# Create test cases to pass into test suite\r\n",
        "case1 = (4, 2, [\"GAGA|TTGA\",\"TCGT|GATG\",\"CGTG|ATGT\",\"TGGT|TGAG\",\"GTGA|TGTT\",\"GTGG|GTGA\",\"TGAG|GTTG\",\"GGTC|GAGA\",\"GTCG|AGAT\"], \"GTGGTCGTGAGATGTTGA\")\r\n",
        "\r\n",
        "cases = [case1]\r\n",
        "\r\n",
        "TestSuite(ReadPairsStrRecon, cases)"
      ],
      "execution_count": 10,
      "outputs": [
        {
          "output_type": "stream",
          "text": [
            "**************************************************\n",
            "TEST SUITE\n",
            "\n",
            "- Test Case 1 Passed. Expected: GTGGTCGTGAGATGTTGA, Actual: GTGGTCGTGAGATGTTGA\n",
            "\n",
            "1 out of 1 passed. END OF TEST SUITE.\n",
            "**************************************************\n"
          ],
          "name": "stdout"
        }
      ]
    }
  ]
}