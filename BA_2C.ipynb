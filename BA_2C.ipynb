{
  "nbformat": 4,
  "nbformat_minor": 0,
  "metadata": {
    "colab": {
      "name": "BA_2C.ipynb",
      "provenance": [],
      "collapsed_sections": [],
      "toc_visible": true,
      "authorship_tag": "ABX9TyNGYZ1YD0mKt8wIQRt50/IY",
      "include_colab_link": true
    },
    "kernelspec": {
      "name": "python3",
      "display_name": "Python 3"
    }
  },
  "cells": [
    {
      "cell_type": "markdown",
      "metadata": {
        "id": "view-in-github",
        "colab_type": "text"
      },
      "source": [
        "<a href=\"https://colab.research.google.com/github/byunsy/bioinformatics-algorithms-py/blob/main/BA_2C.ipynb\" target=\"_parent\"><img src=\"https://colab.research.google.com/assets/colab-badge.svg\" alt=\"Open In Colab\"/></a>"
      ]
    },
    {
      "cell_type": "markdown",
      "metadata": {
        "id": "hAArkvw4eGFu"
      },
      "source": [
        "# Profile Most Probable K-mer Problem"
      ]
    },
    {
      "cell_type": "markdown",
      "metadata": {
        "id": "4zUHgL9TAIHr"
      },
      "source": [
        "### Function"
      ]
    },
    {
      "cell_type": "code",
      "metadata": {
        "id": "gor1V7C3ssxD"
      },
      "source": [
        "def ProfileMostProbable(text, k, profile):\r\n",
        "\r\n",
        "    bound = len(text) - k + 1\r\n",
        "    bases = \"ACGT\"\r\n",
        "    max_prob = 0\r\n",
        "    most_prob_kmer = \"\"\r\n",
        "\r\n",
        "    for i in range(bound):\r\n",
        "        kmer = text[i:i+k]\r\n",
        "        prob = 1\r\n",
        "        for j, nucleotide in enumerate(kmer):\r\n",
        "            index = bases.index(nucleotide)\r\n",
        "            prob *= profile[index][j]\r\n",
        "        if prob > max_prob:\r\n",
        "            max_prob = prob\r\n",
        "            most_prob_kmer = kmer\r\n",
        "\r\n",
        "    return most_prob_kmer"
      ],
      "execution_count": 4,
      "outputs": []
    },
    {
      "cell_type": "markdown",
      "metadata": {
        "id": "nALreObfAPAl"
      },
      "source": [
        "### Test Cases"
      ]
    },
    {
      "cell_type": "code",
      "metadata": {
        "id": "KlAmQKZr3b-4"
      },
      "source": [
        "# Create a function for test suite\r\n",
        "def TestSuite(function, cases):\r\n",
        "    print(\"*\"*50)\r\n",
        "    print(\"TEST SUITE\\n\")\r\n",
        "    passed = 0\r\n",
        "    for i, case in enumerate(cases):\r\n",
        "        text, k, profile, answer = case\r\n",
        "        result = function(text, k, profile)\r\n",
        "        if result == answer:\r\n",
        "            print(\"- Test Case {} Passed. Expected: {}, Actual: {}\"\r\n",
        "                  .format(i+1, answer, result))\r\n",
        "            passed += 1\r\n",
        "        else:\r\n",
        "            print(\"- Test Case {} Failed. Expected: {}, Actual: {}\"\r\n",
        "                  .format(i+1, answer, result))\r\n",
        "    print(\"\\n{} out of {} passed.\".format(passed, len(cases)), end=\" \")\r\n",
        "    print(\"END OF TEST SUITE.\")\r\n",
        "    print(\"*\"*50)"
      ],
      "execution_count": 8,
      "outputs": []
    },
    {
      "cell_type": "code",
      "metadata": {
        "colab": {
          "base_uri": "https://localhost:8080/"
        },
        "id": "KAAHvfgs-u1W",
        "outputId": "122f5e6a-e517-47a4-b4c9-64280b2b8636"
      },
      "source": [
        "# Create test cases to pass into test suite\r\n",
        "case1 = (\"ACCTGTTTATTGCCTAAGTTCCGAACAAACCCAATATAGCCCGAGGGCCT\", 5, \r\n",
        "         [[0.2, 0.2, 0.3, 0.2, 0.3],\r\n",
        "          [0.4, 0.3, 0.1, 0.5, 0.1],\r\n",
        "          [0.3, 0.3, 0.5, 0.2, 0.4],\r\n",
        "          [0.1, 0.2, 0.1, 0.1, 0.2]], \"CCGAG\")\r\n",
        "case2 = (\"AGCAGCTTTGACTGCAACGGGCAATATGTCTCTGTGTGGATTAAAAAAAGAGTGTCTGATCTGAACTGGTTACCTGCCGTGAGTAAAT\", 8, \r\n",
        "         [[0.7, 0.2, 0.1, 0.5, 0.4, 0.3, 0.2, 0.1],\r\n",
        "          [0.2, 0.2, 0.5, 0.4, 0.2, 0.3, 0.1, 0.6],\r\n",
        "          [0.1, 0.3, 0.2, 0.1, 0.2, 0.1, 0.4, 0.2],\r\n",
        "          [0.0, 0.3, 0.2, 0.0, 0.2, 0.3, 0.3, 0.1]], \"AGCAGCTT\")\r\n",
        "case3 = (\"TTACCATGGGACCGCTGACTGATTTCTGGCGTCAGCGTGATGCTGGTGTGGATGACATTCCGGTGCGCTTTGTAAGCAGAGTTTA\", 12, \r\n",
        "         [[0.2, 0.3, 0.4, 0.5, 0.6, 0.7, 0.8, 0.1, 0.2, 0.3, 0.4, 0.5],\r\n",
        "          [0.3, 0.2, 0.1, 0.1, 0.2, 0.1, 0.1, 0.4, 0.3, 0.2, 0.2, 0.1],\r\n",
        "          [0.2, 0.1, 0.4, 0.3, 0.1, 0.1, 0.1, 0.3, 0.1, 0.1, 0.2, 0.1],\r\n",
        "          [0.3, 0.4, 0.1, 0.1, 0.1, 0.1, 0.0, 0.2, 0.4, 0.4, 0.2, 0.3]], \"AAGCAGAGTTTA\")\r\n",
        "case4 = (\"TGCCCGAGCTATCTTATGCGCATCGCATGCGGACCCTTCCCTAGGCTTGTCGCAAGCCATTATCCTGGGCGCTAGTTGCGCGAGTATTGTCAGACCTGATGACGCTGTAAGCTAGCGTGTTCAGCGGCGCGCAATGAGCGGTTTAGATCACAGAATCCTTTGGCGTATTCCTATCCGTTACATCACCTTCCTCACCCCTA\", \r\n",
        "         6, [[0.364, 0.333, 0.303, 0.212, 0.121, 0.242],\r\n",
        "             [0.182, 0.182, 0.212, 0.303, 0.182, 0.303],\r\n",
        "             [0.121, 0.303, 0.182, 0.273, 0.333, 0.303],\r\n",
        "             [0.333, 0.182, 0.303, 0.212, 0.364, 0.152]], \"TGTCGC\")\r\n",
        "\r\n",
        "cases = [case1, case2, case3, case4]\r\n",
        "\r\n",
        "TestSuite(ProfileMostProbable, cases)"
      ],
      "execution_count": 9,
      "outputs": [
        {
          "output_type": "stream",
          "text": [
            "**************************************************\n",
            "TEST SUITE\n",
            "\n",
            "- Test Case 1 Passed. Expected: CCGAG, Actual: CCGAG\n",
            "- Test Case 2 Passed. Expected: AGCAGCTT, Actual: AGCAGCTT\n",
            "- Test Case 3 Passed. Expected: AAGCAGAGTTTA, Actual: AAGCAGAGTTTA\n",
            "- Test Case 4 Passed. Expected: TGTCGC, Actual: TGTCGC\n",
            "\n",
            "4 out of 4 passed. END OF TEST SUITE.\n",
            "**************************************************\n"
          ],
          "name": "stdout"
        }
      ]
    }
  ]
}