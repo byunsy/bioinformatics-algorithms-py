{
  "nbformat": 4,
  "nbformat_minor": 0,
  "metadata": {
    "colab": {
      "name": "BA_2E.ipynb",
      "provenance": [],
      "collapsed_sections": [],
      "toc_visible": true,
      "authorship_tag": "ABX9TyO7oL4dS2aGaAWxjzXzRTv+",
      "include_colab_link": true
    },
    "kernelspec": {
      "name": "python3",
      "display_name": "Python 3"
    }
  },
  "cells": [
    {
      "cell_type": "markdown",
      "metadata": {
        "id": "view-in-github",
        "colab_type": "text"
      },
      "source": [
        "<a href=\"https://colab.research.google.com/github/byunsy/bioinformatics-algorithms-py/blob/main/BA_2E.ipynb\" target=\"_parent\"><img src=\"https://colab.research.google.com/assets/colab-badge.svg\" alt=\"Open In Colab\"/></a>"
      ]
    },
    {
      "cell_type": "markdown",
      "metadata": {
        "id": "hAArkvw4eGFu"
      },
      "source": [
        "# Greedy Motif Search with Pseudocounts Problem"
      ]
    },
    {
      "cell_type": "markdown",
      "metadata": {
        "id": "4zUHgL9TAIHr"
      },
      "source": [
        "### Function"
      ]
    },
    {
      "cell_type": "code",
      "metadata": {
        "id": "gor1V7C3ssxD"
      },
      "source": [
        "def ProfileMostProbable(text, k, profile):\r\n",
        "\r\n",
        "    bound = len(text) - k + 1\r\n",
        "    bases = \"ACGT\"\r\n",
        "    max_prob = 0\r\n",
        "    most_prob_kmer = text[0:k]\r\n",
        "\r\n",
        "    for i in range(bound):\r\n",
        "        kmer = text[i:i+k]\r\n",
        "        prob = 1\r\n",
        "        for j, nucleotide in enumerate(kmer):\r\n",
        "            index = bases.index(nucleotide)\r\n",
        "            prob *= profile[index][j]\r\n",
        "        if prob > max_prob:\r\n",
        "            max_prob = prob\r\n",
        "            most_prob_kmer = kmer\r\n",
        "\r\n",
        "    return most_prob_kmer"
      ],
      "execution_count": 7,
      "outputs": []
    },
    {
      "cell_type": "markdown",
      "metadata": {
        "id": "4zmKL10SELkp"
      },
      "source": [
        "We change the two helper functions:\r\n",
        "- CountMotif() to CountMotifPsuedo()\r\n",
        "- ProfileMotif() to ProfileMotifPseudo()"
      ]
    },
    {
      "cell_type": "code",
      "metadata": {
        "id": "ORBD2XGYCGco"
      },
      "source": [
        "def CountMotifPseudo(motifs, k):\r\n",
        "    bases = \"ACGT\"\r\n",
        "    profile = [[1]*k, [1]*k, [1]*k, [1]*k]\r\n",
        "    for string in motifs:\r\n",
        "        for i, nucleotide in enumerate(string):\r\n",
        "            index = bases.index(nucleotide)\r\n",
        "            profile[index][i] += 1\r\n",
        "\r\n",
        "    return profile"
      ],
      "execution_count": 8,
      "outputs": []
    },
    {
      "cell_type": "code",
      "metadata": {
        "id": "qeuVf_A0UgoS"
      },
      "source": [
        "def ProfileMotifPseudo(motifs, k):\r\n",
        "    counted = CountMotifPseudo(motifs, k)\r\n",
        "    \r\n",
        "    column_sum = 0\r\n",
        "    for nums in counted:\r\n",
        "        column_sum += nums[0]\r\n",
        "    \r\n",
        "    return [[i/column_sum for i in lst] for lst in counted]"
      ],
      "execution_count": 13,
      "outputs": []
    },
    {
      "cell_type": "code",
      "metadata": {
        "id": "gMRrREP4Uhge"
      },
      "source": [
        "def ScoreMotif(motifs):\r\n",
        "    score = 0\r\n",
        "    for i in range(len(motifs[0])):\r\n",
        "        i_bases = [string[i] for string in motifs]\r\n",
        "        max_count = max(i_bases.count('A'), i_bases.count('C'),\r\n",
        "                        i_bases.count('G'), i_bases.count('T'))\r\n",
        "        score += (len(i_bases) - max_count)\r\n",
        "\r\n",
        "    return score"
      ],
      "execution_count": 10,
      "outputs": []
    },
    {
      "cell_type": "code",
      "metadata": {
        "id": "oR3xkUEXoGGh"
      },
      "source": [
        "def GreedyMotifSearchPseudo(dna, k, t):\r\n",
        "    best_motifs = [string[:k] for string in dna]\r\n",
        "    bound = len(dna[0]) - k + 1\r\n",
        "    for i in range(bound):\r\n",
        "        motifs = []\r\n",
        "        motifs.append(dna[0][i:i+k])\r\n",
        "        for j in range(1, t):\r\n",
        "            profile = ProfileMotifPseudo(motifs, k)\r\n",
        "            kmer = ProfileMostProbable(dna[j], k, profile)\r\n",
        "            motifs.append(kmer)\r\n",
        "        if ScoreMotif(motifs) < ScoreMotif(best_motifs):\r\n",
        "            best_motifs = motifs\r\n",
        "            \r\n",
        "    return best_motifs"
      ],
      "execution_count": 17,
      "outputs": []
    },
    {
      "cell_type": "markdown",
      "metadata": {
        "id": "nALreObfAPAl"
      },
      "source": [
        "### Test Cases"
      ]
    },
    {
      "cell_type": "code",
      "metadata": {
        "id": "KlAmQKZr3b-4"
      },
      "source": [
        "# Create a function for test suite\r\n",
        "def TestSuite(function, cases):\r\n",
        "    print(\"*\"*50)\r\n",
        "    print(\"TEST SUITE\\n\")\r\n",
        "    passed = 0\r\n",
        "    for i, case in enumerate(cases):\r\n",
        "        dna, k, t, answer = case\r\n",
        "        result = function(dna, k, t)\r\n",
        "        if result == answer:\r\n",
        "            print(\"- Test Case {} Passed. Expected: {}, Actual: {}\"\r\n",
        "                  .format(i+1, answer, result))\r\n",
        "            passed += 1\r\n",
        "        else:\r\n",
        "            print(\"- Test Case {} Failed. Expected: {}, Actual: {}\"\r\n",
        "                  .format(i+1, answer, result))\r\n",
        "    print(\"\\n{} out of {} passed.\".format(passed, len(cases)), end=\" \")\r\n",
        "    print(\"END OF TEST SUITE.\")\r\n",
        "    print(\"*\"*50)"
      ],
      "execution_count": 18,
      "outputs": []
    },
    {
      "cell_type": "code",
      "metadata": {
        "colab": {
          "base_uri": "https://localhost:8080/"
        },
        "id": "KAAHvfgs-u1W",
        "outputId": "439462f7-5e5f-48c4-ccf0-6c9e08daa2c7"
      },
      "source": [
        "# Create test cases to pass into test suite\r\n",
        "case1 = ([\"GGCGTTCAGGCA\", \"AAGAATCAGTCA\", \"CAAGGAGTTCGC\", \"CACGTCAATCAC\", \"CAATAATATTCG\"], 3, 5, ['TTC', 'ATC', 'TTC', 'ATC', 'TTC'])\r\n",
        "\r\n",
        "case2 = ([\"AGGCGGCACATCATTATCGATAACGATTCGCCGCATTGCC\",\r\n",
        "          \"ATCCGTCATCGAATAACTGACACCTGCTCTGGCACCGCTC\",\r\n",
        "          \"AAGCGTCGGCGGTATAGCCAGATAGTGCCAATAATTTCCT\",\r\n",
        "          \"AGTCGGTGGTGAAGTGTGGGTTATGGGGAAAGGCAGACTG\",\r\n",
        "          \"AACCGGACGGCAACTACGGTTACAACGCAGCAAGAATATT\",\r\n",
        "          \"AGGCGTCTGTTGTTGCTAACACCGTTAAGCGACGGCAACT\",\r\n",
        "          \"AAGCGGCCAACGTAGGCGCGGCTTGGCATCTCGGTGTGTG\",\r\n",
        "          \"AATTGAAAGGCGCATCTTACTCTTTTCGCTTTCAAAAAAA\"], 5, 8, [\"AGGCG\",\"ATCCG\",\"AAGCG\",\"AGTCG\",\"AACCG\",\"AGGCG\",\"AGGCG\",\"AGGCG\"])\r\n",
        "\r\n",
        "case3 = ([\"GCACATCATTAAACGATTCGCCGCATTGCCTCGATAGGCG\",\r\n",
        "          \"TCATAACTGACACCTGCTCTGGCACCGCTCATCCGTCGAA\",\r\n",
        "          \"AAGCGGGTATAGCCAGATAGTGCCAATAATTTCCTTCGGC\",\r\n",
        "          \"AGTCGGTGGTGAAGTGTGGGTTATGGGGAAAGGCAGACTG\",\r\n",
        "          \"AACCGGACGGCAACTACGGTTACAACGCAGCAAGAATATT\",\r\n",
        "          \"AGGCGTCTGTTGTTGCTAACACCGTTAAGCGACGGCAACT\",\r\n",
        "          \"AAGCTTCCAACATCGTCTTGGCATCTCGGTGTGTGAGGCG\",\r\n",
        "          \"AATTGAACATCTTACTCTTTTCGCTTTCAAAAAAAAGGCG\"], 5, 8, [\"AGGCG\",\"TGGCA\",\"AAGCG\",\"AGGCA\",\"CGGCA\",\"AGGCG\",\"AGGCG\",\"AGGCG\"])\r\n",
        "\r\n",
        "case4 = ([\"GCACATCATTATCGATAACGATTCATTGCCAGGCGGCCGC\",\r\n",
        "          \"TCATCGAATAACTGACACCTGCTCTGGCTCATCCGACCGC\",\r\n",
        "          \"TCGGCGGTATAGCCAGATAGTGCCAATAATTTCCTAAGCG\",\r\n",
        "          \"GTGGTGAAGTGTGGGTTATGGGGAAAGGCAGACTGAGTCG\",\r\n",
        "          \"GACGGCAACTACGGTTACAACGCAGCAAGAATATTAACCG\",\r\n",
        "          \"TCTGTTGTTGCTAACACCGTTAAGCGACGGCAACTAGGCG\",\r\n",
        "          \"GCCAACGTAGGCGCGGCTTGGCATCTCGGTGTGTGAAGCG\",\r\n",
        "          \"AAAGGCGCATCTTACTCTTTTCGCTTTCAAAAAAAAATTG\"], 5, 8, [\"GGCGG\",\"GGCTC\",\"GGCGG\",\"GGCAG\",\"GACGG\",\"GACGG\",\"GGCGC\",\"GGCGC\"])\r\n",
        "\r\n",
        "case5 = ([\"ACGAGAACTGTAATGGAGACCAATCGGGTCGTATGTACGACACGGATCTTCTGTATCGATCATCGCTTAACTTATACGATCTCATTCTCACGACGATCCTCAACCCCGGATACCCGCACTGCCTCAATCCGAAGTACTGCGTAGTACTTTACCCTT\",\r\n",
        "          \"ACCTGTGATCACTCAGAGAACAGAGGATCCGGGTTGGATGTCAGTGTTATGCCAAGAAACGAGACCTAAGGTGCCGTCCCCGGCGGAATGCTTCTCGCTTCCCCTTCTAAAGGGTCCTGGCAAAATGCTTGTGACTTTGAATGCCCTCACTGAACT\",\r\n",
        "          \"AAATGTGAAACCTATATCAGTCATTATACCGGCGCGATGTTAACTCGCACCTGATTGCAAGGTCACTGATCGCGTCACTACACTAGAGTTTATTCATACCTGCATGGGGGGCATGATGGATGAATTTTAACTAGGTGATCGTGACCAATGTTCACC\",\r\n",
        "          \"TTTAACCGAATGAGAAGGGTTTCGTTTTAGGCCGTCGATCCGCCGCTTCTTCTCTCGACTGAATCGGAGGTTTTAATGTGTGTGCTAAAGTGAACTGCCTAATAACCCGCTAGGGGGATGATTTATTGTATCTGCAATGTACGGTGGTACATCCCG\",\r\n",
        "          \"GCTTTCCCGTGTTCTTCGTGCGCTCGGGACCAGAGATCAGAACTAGTGCTAAAGCCATGGAAGCATTTAGCCGGCCGATGTAGTAAAGTTGCCCATATTTCTCCCTAAACCAGCGTATACGTCGAAAACTTTCTTCACTCCACTATGTATAGATGG\",\r\n",
        "          \"CGCTTAGCGCATCCTCGCTAAACTAATTTGTAGGAGCAATCGCATGTCGACACCGAGGAAGACAACAAGTACATTAGTTACACGCTTCTTACTGGGGATAAAAATCTAGGATCGCGTGATCGGCGTGCTCCGGCGTCAGGTGACTTGATGGCCCCA\",\r\n",
        "          \"AGTCATGACAATTCGCACGAGGTGACTTTCAATCGACTTACGTACTGCGCGTCGATGTCGCTTCACTCCACTAATACCCATATTCCTAACACGCCAGTACGGTTCAGAGTCGGCGGCTGAGGGGCCCTAGAAACGAGACACCCTAGAGGCTCTGGG\",\r\n",
        "          \"ATAATAAACGAGATTTAGTGCTCCAGGTCCCTCTAACTTCGCTAGACTGTTCACGGTACTTAGAGTAGCTCAGAAATCGCCTGTCTTCGGGTTGGTTTTTTCAGGAGGTGCTCTGTGCGTTAACATACCAAGCCATAGCTGCTTTTCCTCTACAAA\",\r\n",
        "          \"CCTACCGGAGGACTTCACTGAACTAAGTACTGGGGTGCTAAGGTCGAACGAGATGACTGGACCCTACTCTCTACGGGACCGACGCCCCAGGGCTTAATTCATATTGACTAGATTTATGATAATAATAGACTCGGCGGTTTGTAGCTTTCCCCTGAA\",\r\n",
        "          \"CCGTTACTCCGCCGCTGCTGATCCTACTCCACGTGGGGCCCCCCAATATGCACATCTTATCGTCCCTGGACTGGCAGTTGATGCGAAATAATATTCGTGGGTATGATAACGCGCTATACTGATAGAACCACGGGGACTCCTGTATTCGTCTCGCCA\",\r\n",
        "          \"ATTCGTGGGTTGAAGCCTTTAAACGGGATGGCCAAGTTGATTGGGTCTAATTGATATTAATTCTGGTGTACTGTACGAGACCGGTGCAGCACGGACGGGCGGTTTCAACAATACTCGTGCGCCTGGAGGGTACCTCGCTGAACTCGCATATCAGGT\",\r\n",
        "          \"TGGTTACCCTCTCTTCACTTAACTCTTGTATCAAGACGTTTCTGTGAGACAAAGCAATGGCCGGACTTTGGGGCGCGTGCTCTGGAGATCCAAGCACTCGAGGTCAGCGGTATAATATAACGCATCCAACATGCAGACTGTGCGTGGGGGCCCAAA\",\r\n",
        "          \"CCTTAGCGGTGTCGGCCATCATTTATCGAGCTGGAACTCCGGTGGGTAACGTGGATCCGCAGCAGGCCTTACCGTCACTTAACTTGTTACTAGAACATACGTGGAACCTATGCATGATCGAGATAGAGTGCGCTCCGCGGTACACCGCGCTCTATA\",\r\n",
        "          \"AGTTACAACACGACAGGAACTATTTGCTAGGCGTTACATCTCTTTACTTTTAGCCCCTGGATTTTGAACGCATGTCAACACGTTCCACCATGGGTATAAGAATGCATGGACAGGGTTAATGAATGTGTCTCGGTCCGTTAGCTGTTACAATATACC\",\r\n",
        "          \"CTTAGCAGCCCACGTCGCTGGACTGTGTTATATTACGAGGTCGAATAGTGAGGTTAACAGTCTCCGTTGTAACTTAATCCCGATATCACGCAGTGTATATGGTCGCTGTAGCTTTCTGGGCAGCTCGCACACCGCCAATTCGCAGAGGCGACCAGA\",\r\n",
        "          \"TGGTAATAGGCTTCGAAATAACTCTTGGATTGCAACGAAGGTCCGAGCCTTCTCTGCACTTGGATACATTTTGGACATATGAAAGGATGGGTGCTCGGGATGGGACTTTGGTTGCCTGCAAGACGGCGAGACCACCTTACTGAAACCAACATCTTA\",\r\n",
        "          \"TTACCGGTAATCTCTGATCGCCCATGCCGTCAGGTGCCTTAATTTAAGCGAGAGCTAAATAGAAAGCTGCGCGGTTTTAGCAAAATGAAGTATCAGGAATAACATGGGTTAATGTCACAAACCTGAGGGTTACCTCTCTGCACTCCAGGTCCAGCA\",\r\n",
        "          \"AATTCAGCTGGTCAGTCACCACAACGTCTCTAGACTCGCACACCCAACTATTATATCACGTACAAGCCGCCCCACAACCGGCATGATAATGTCTGCACGGCCCAACTAACACGCCAGATGACGTACTTTTCGCGGCAGAGCAGTATTCGAACTCAA\",\r\n",
        "          \"CGTACCCGTTATACAAGCACCATCTACAAAACGTTAGGTGTCAACGATCGTGGGCCGGACTTAGGGGTGAGACCTTAAAGCACACATTCCCTCCCACATCACTTCACTTGTCAAAAATAAAGTCGAATGATGACTACCTCAATTCCTCGCGAAAGC\",\r\n",
        "          \"GCTGACACGTATTACGAACCGAGACCAGGCGCGACCCCAACCTGGACTAACAGCTATCCCTTTGTTACTTGGCACGTACGGTCAAATCCCGGTGGAGTTATTTACCGAGGGTGCGCCATGCATCGCTCAACTCCTAATGGTCGCCTGTACTTGGTC\",\r\n",
        "          \"CGGCCTTGGTCCAATTCATCGTAACATTCTGTGAATCTACGGGTACTACTCGACCACGCTTGCTTCGCTGAGCTGTACCGCAAAATCGAATGGACCCAATAATCTGAATCCTTCGGTATACATCACTAGACTCACGATTCAGTATGCCCTCAATCA\",\r\n",
        "          \"ATCCGAAACATTCAGTTCCGATGGCAACGACGACCACCCAGCACGCATCATCACTCGACTGACCCTGCTCGAATACAGGCGTATCTAACAACCAGCGGATCCAGGGCCCATGCTGAGGCTATTGTCACTCCCGCCCACCCTGTATGTATTCGGATT\",\r\n",
        "          \"CCCGGATCGCCCGGTCAAGCACTCCAGGGCTTCAGCGCTGTGTACCTCTCTGCACACTCCGGTGGTGGGCCCCGTCCCTACACTGCGTATTCAAGTGATAGCTCGTACGATCCGCATCGAAGGCTGACTGCCCCTCTACAACAGTGCGCTCGCACT\",\r\n",
        "          \"CCCGTATGTAGGTGATTAGACCCACCAAGCAATCCGCATGTTGCGTCACCGTAGATATATGCAGCGGTCATTCTTCGCTTGACTCTCTGACTTGCCCATTTAGAAACTATCCACTTAATTCCCCTTGGACTTGGGGCCTGTTTTCGGTCGCTTTGT\",\r\n",
        "          \"CATTTCTATAAAGCTACAATAATAATCCGCGCTGTCGGCAGACGTGGTACCGACCCTACTCCTACCGTTTGAGAGATGGAGGGTCTTCCCTGAACTAACGGCATGCATGAGAGGGGTACGACCCTGGTACTTCTGAAACCAGCATCCGCGGCGACG\"],\r\n",
        "         12, 25, \r\n",
        "         [\"CATCGCTTAACT\",\"CCTCACTGAACT\",\"CGTCACTACACT\",\"CTTCTCTCGACT\",\"CTTCACTCCACT\",\"CCTCGCTAAACT\",\r\n",
        "          \"CTTCACTCCACT\",\"CTTCGCTAGACT\",\"CTTCACTGAACT\",\"CGTCCCTGGACT\",\"CCTCGCTGAACT\",\"CTTCACTTAACT\",\r\n",
        "          \"CGTCACTTAACT\",\"CATCTCTTTACT\",\"CGTCGCTGGACT\",\"CTTCTCTGCACT\",\"CCTCTCTGCACT\",\"CGTCTCTAGACT\",\r\n",
        "          \"CATCACTTCACT\",\"CATCGCTCAACT\",\"CATCACTAGACT\",\"CATCACTCGACT\",\"CGTCCCTACACT\",\"CTTCGCTTGACT\",\r\n",
        "          \"CTTCCCTGAACT\"])\r\n",
        "\r\n",
        "cases = [case1, case2, case3, case4, case5]\r\n",
        "\r\n",
        "TestSuite(GreedyMotifSearchPseudo, cases)"
      ],
      "execution_count": 19,
      "outputs": [
        {
          "output_type": "stream",
          "text": [
            "**************************************************\n",
            "TEST SUITE\n",
            "\n",
            "- Test Case 1 Passed. Expected: ['TTC', 'ATC', 'TTC', 'ATC', 'TTC'], Actual: ['TTC', 'ATC', 'TTC', 'ATC', 'TTC']\n",
            "- Test Case 2 Passed. Expected: ['AGGCG', 'ATCCG', 'AAGCG', 'AGTCG', 'AACCG', 'AGGCG', 'AGGCG', 'AGGCG'], Actual: ['AGGCG', 'ATCCG', 'AAGCG', 'AGTCG', 'AACCG', 'AGGCG', 'AGGCG', 'AGGCG']\n",
            "- Test Case 3 Passed. Expected: ['AGGCG', 'TGGCA', 'AAGCG', 'AGGCA', 'CGGCA', 'AGGCG', 'AGGCG', 'AGGCG'], Actual: ['AGGCG', 'TGGCA', 'AAGCG', 'AGGCA', 'CGGCA', 'AGGCG', 'AGGCG', 'AGGCG']\n",
            "- Test Case 4 Passed. Expected: ['GGCGG', 'GGCTC', 'GGCGG', 'GGCAG', 'GACGG', 'GACGG', 'GGCGC', 'GGCGC'], Actual: ['GGCGG', 'GGCTC', 'GGCGG', 'GGCAG', 'GACGG', 'GACGG', 'GGCGC', 'GGCGC']\n",
            "- Test Case 5 Passed. Expected: ['CATCGCTTAACT', 'CCTCACTGAACT', 'CGTCACTACACT', 'CTTCTCTCGACT', 'CTTCACTCCACT', 'CCTCGCTAAACT', 'CTTCACTCCACT', 'CTTCGCTAGACT', 'CTTCACTGAACT', 'CGTCCCTGGACT', 'CCTCGCTGAACT', 'CTTCACTTAACT', 'CGTCACTTAACT', 'CATCTCTTTACT', 'CGTCGCTGGACT', 'CTTCTCTGCACT', 'CCTCTCTGCACT', 'CGTCTCTAGACT', 'CATCACTTCACT', 'CATCGCTCAACT', 'CATCACTAGACT', 'CATCACTCGACT', 'CGTCCCTACACT', 'CTTCGCTTGACT', 'CTTCCCTGAACT'], Actual: ['CATCGCTTAACT', 'CCTCACTGAACT', 'CGTCACTACACT', 'CTTCTCTCGACT', 'CTTCACTCCACT', 'CCTCGCTAAACT', 'CTTCACTCCACT', 'CTTCGCTAGACT', 'CTTCACTGAACT', 'CGTCCCTGGACT', 'CCTCGCTGAACT', 'CTTCACTTAACT', 'CGTCACTTAACT', 'CATCTCTTTACT', 'CGTCGCTGGACT', 'CTTCTCTGCACT', 'CCTCTCTGCACT', 'CGTCTCTAGACT', 'CATCACTTCACT', 'CATCGCTCAACT', 'CATCACTAGACT', 'CATCACTCGACT', 'CGTCCCTACACT', 'CTTCGCTTGACT', 'CTTCCCTGAACT']\n",
            "\n",
            "5 out of 5 passed. END OF TEST SUITE.\n",
            "**************************************************\n"
          ],
          "name": "stdout"
        }
      ]
    }
  ]
}