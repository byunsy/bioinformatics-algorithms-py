{
  "nbformat": 4,
  "nbformat_minor": 0,
  "metadata": {
    "colab": {
      "name": "BA_1N.ipynb",
      "provenance": [],
      "collapsed_sections": [],
      "toc_visible": true,
      "authorship_tag": "ABX9TyMy7PQGye/RbHFeELlXYYVE",
      "include_colab_link": true
    },
    "kernelspec": {
      "name": "python3",
      "display_name": "Python 3"
    }
  },
  "cells": [
    {
      "cell_type": "markdown",
      "metadata": {
        "id": "view-in-github",
        "colab_type": "text"
      },
      "source": [
        "<a href=\"https://colab.research.google.com/github/byunsy/bioinformatics-algorithms-py/blob/main/BA_1N.ipynb\" target=\"_parent\"><img src=\"https://colab.research.google.com/assets/colab-badge.svg\" alt=\"Open In Colab\"/></a>"
      ]
    },
    {
      "cell_type": "markdown",
      "metadata": {
        "id": "hAArkvw4eGFu"
      },
      "source": [
        "# Neighborhood Problem"
      ]
    },
    {
      "cell_type": "markdown",
      "metadata": {
        "id": "4zUHgL9TAIHr"
      },
      "source": [
        "### Function"
      ]
    },
    {
      "cell_type": "code",
      "metadata": {
        "id": "v-W9s0A38C27"
      },
      "source": [
        "def HammingDistance(str1, str2):\r\n",
        "    if len(str1) != len(str2):\r\n",
        "        raise Exception(\"Error: Two strings must be of equal length.\")\r\n",
        "\r\n",
        "    mismatch = 0\r\n",
        "    for i in range(len(str1)):\r\n",
        "        if str1[i] != str2[i]:\r\n",
        "            mismatch += 1\r\n",
        "    return mismatch"
      ],
      "execution_count": 19,
      "outputs": []
    },
    {
      "cell_type": "code",
      "metadata": {
        "id": "vz844aOoT0PI"
      },
      "source": [
        "def ImmediateNeighbors(pattern):\r\n",
        "    nucleotides = ['A', 'C', 'G', 'T']\r\n",
        "    neighborhood = [pattern]\r\n",
        "\r\n",
        "    for i in range(len(pattern)):\r\n",
        "        for base in nucleotides:\r\n",
        "            if base != pattern[i]:\r\n",
        "                neighbor = pattern[:i] + base + pattern[i+1:]\r\n",
        "                neighborhood.append(neighbor)\r\n",
        "    return neighborhood"
      ],
      "execution_count": 20,
      "outputs": []
    },
    {
      "cell_type": "code",
      "metadata": {
        "id": "htyzjc-QJ_RH"
      },
      "source": [
        "def Neighbors(pattern, d):\r\n",
        "    if d == 0:\r\n",
        "        return [pattern]\r\n",
        "    if len(pattern) == 1:\r\n",
        "        return ['A', 'C', 'G', 'T']\r\n",
        "\r\n",
        "    first  = pattern[0]\r\n",
        "    suffix = pattern[1:]\r\n",
        "    nucleotides = ['A', 'C', 'G', 'T']\r\n",
        "    neighborhood = []\r\n",
        "    suffix_neighbors = Neighbors(suffix, d)\r\n",
        "\r\n",
        "    for text in suffix_neighbors:\r\n",
        "        if HammingDistance(suffix, text) < d:\r\n",
        "            for base in nucleotides:\r\n",
        "                neighborhood.append(base+text)\r\n",
        "        else:\r\n",
        "            neighborhood.append(first+text)\r\n",
        "\r\n",
        "    return neighborhood"
      ],
      "execution_count": 24,
      "outputs": []
    },
    {
      "cell_type": "markdown",
      "metadata": {
        "id": "nALreObfAPAl"
      },
      "source": [
        "### Test Cases"
      ]
    },
    {
      "cell_type": "code",
      "metadata": {
        "id": "KlAmQKZr3b-4"
      },
      "source": [
        "# Create a function for test suite\r\n",
        "def TestSuite(function, cases):\r\n",
        "    print(\"*\"*50)\r\n",
        "    print(\"TEST SUITE\\n\")\r\n",
        "    passed = 0\r\n",
        "    for i, case in enumerate(cases):\r\n",
        "        pattern, d, answer = case\r\n",
        "        result = function(pattern, d)\r\n",
        "        if sorted(result) == sorted(answer):\r\n",
        "            print(\"- Test Case {} Passed. Expected: {}, Actual: {}\"\r\n",
        "                  .format(i+1, answer, result))\r\n",
        "            passed += 1\r\n",
        "        else:\r\n",
        "            print(\"- Test Case {} Failed. Expected: {}, Actual: {}\"\r\n",
        "                  .format(i+1, answer, result))\r\n",
        "    print(\"\\n{} out of {} passed.\".format(passed, len(cases)), end=\" \")\r\n",
        "    print(\"END OF TEST SUITE.\")\r\n",
        "    print(\"*\"*50)"
      ],
      "execution_count": 41,
      "outputs": []
    },
    {
      "cell_type": "code",
      "metadata": {
        "colab": {
          "base_uri": "https://localhost:8080/"
        },
        "id": "KAAHvfgs-u1W",
        "outputId": "7ee9af44-e94a-4f87-a5c2-0cbbf1437991"
      },
      "source": [
        "# Create test cases to pass into test suite\r\n",
        "case1 = (\"ACG\", 1, [\"CCG\", \"TCG\", \"GCG\", \"AAG\", \"ATG\", \"AGG\", \"ACA\", \"ACC\", \"ACT\", \"ACG\"])\r\n",
        "case2 = (\"AAA\", 1, [\"CAA\", \"TAA\", \"GAA\", \"ACA\", \"ATA\", \"AGA\", \"AAC\", \"AAT\", \"AAG\", \"AAA\"])\r\n",
        "case3 = (\"ACG\", 2, ['AAA', 'ACA', 'CCA', 'GCA', 'TCA', 'AGA', 'ATA', 'AAC', 'ACC', 'CCC', 'GCC', 'TCC', 'AGC', 'ATC', 'AAG', 'CAG', 'GAG', 'TAG', 'ACG', 'CCG', 'GCG', 'TCG', 'AGG', 'CGG', 'GGG', 'TGG', 'ATG', 'CTG', 'GTG', 'TTG', 'AAT', 'ACT', 'CCT', 'GCT', 'TCT', 'AGT', 'ATT']) \r\n",
        "case4 = (\"TAGC\", 1, ['TAGA', 'TAAC', 'TACC', 'AAGC', 'CAGC', 'GAGC', 'TAGC', 'TCGC', 'TGGC', 'TTGC', 'TATC', 'TAGG', 'TAGT'])\r\n",
        "\r\n",
        "cases = [case1, case2, case3, case4]\r\n",
        "\r\n",
        "TestSuite(Neighbors, cases)"
      ],
      "execution_count": 42,
      "outputs": [
        {
          "output_type": "stream",
          "text": [
            "**************************************************\n",
            "TEST SUITE\n",
            "\n",
            "- Test Case 1 Passed. Expected: ['CCG', 'TCG', 'GCG', 'AAG', 'ATG', 'AGG', 'ACA', 'ACC', 'ACT', 'ACG'], Actual: ['ACA', 'ACC', 'AAG', 'ACG', 'CCG', 'GCG', 'TCG', 'AGG', 'ATG', 'ACT']\n",
            "- Test Case 2 Passed. Expected: ['CAA', 'TAA', 'GAA', 'ACA', 'ATA', 'AGA', 'AAC', 'AAT', 'AAG', 'AAA'], Actual: ['AAA', 'CAA', 'GAA', 'TAA', 'ACA', 'AGA', 'ATA', 'AAC', 'AAG', 'AAT']\n",
            "- Test Case 3 Passed. Expected: ['AAA', 'ACA', 'CCA', 'GCA', 'TCA', 'AGA', 'ATA', 'AAC', 'ACC', 'CCC', 'GCC', 'TCC', 'AGC', 'ATC', 'AAG', 'CAG', 'GAG', 'TAG', 'ACG', 'CCG', 'GCG', 'TCG', 'AGG', 'CGG', 'GGG', 'TGG', 'ATG', 'CTG', 'GTG', 'TTG', 'AAT', 'ACT', 'CCT', 'GCT', 'TCT', 'AGT', 'ATT'], Actual: ['AAA', 'ACA', 'CCA', 'GCA', 'TCA', 'AGA', 'ATA', 'AAC', 'ACC', 'CCC', 'GCC', 'TCC', 'AGC', 'ATC', 'AAG', 'CAG', 'GAG', 'TAG', 'ACG', 'CCG', 'GCG', 'TCG', 'AGG', 'CGG', 'GGG', 'TGG', 'ATG', 'CTG', 'GTG', 'TTG', 'AAT', 'ACT', 'CCT', 'GCT', 'TCT', 'AGT', 'ATT']\n",
            "- Test Case 4 Passed. Expected: ['TAGA', 'TAAC', 'TACC', 'AAGC', 'CAGC', 'GAGC', 'TAGC', 'TCGC', 'TGGC', 'TTGC', 'TATC', 'TAGG', 'TAGT'], Actual: ['TAGA', 'TAAC', 'TACC', 'AAGC', 'CAGC', 'GAGC', 'TAGC', 'TCGC', 'TGGC', 'TTGC', 'TATC', 'TAGG', 'TAGT']\n",
            "\n",
            "4 out of 4 passed. END OF TEST SUITE.\n",
            "**************************************************\n"
          ],
          "name": "stdout"
        }
      ]
    }
  ]
}