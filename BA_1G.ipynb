{
  "nbformat": 4,
  "nbformat_minor": 0,
  "metadata": {
    "colab": {
      "name": "BA_1G.ipynb",
      "provenance": [],
      "collapsed_sections": [],
      "toc_visible": true,
      "authorship_tag": "ABX9TyPJt0LgT6RpyfIaYWzku3lJ",
      "include_colab_link": true
    },
    "kernelspec": {
      "name": "python3",
      "display_name": "Python 3"
    }
  },
  "cells": [
    {
      "cell_type": "markdown",
      "metadata": {
        "id": "view-in-github",
        "colab_type": "text"
      },
      "source": [
        "<a href=\"https://colab.research.google.com/github/byunsy/bioinformatics-algorithms-py/blob/main/BA_1G.ipynb\" target=\"_parent\"><img src=\"https://colab.research.google.com/assets/colab-badge.svg\" alt=\"Open In Colab\"/></a>"
      ]
    },
    {
      "cell_type": "markdown",
      "metadata": {
        "id": "hAArkvw4eGFu"
      },
      "source": [
        "# Hamming Distance Problem"
      ]
    },
    {
      "cell_type": "markdown",
      "metadata": {
        "id": "4zUHgL9TAIHr"
      },
      "source": [
        "### Function"
      ]
    },
    {
      "cell_type": "code",
      "metadata": {
        "id": "9FIVVYxBWhou"
      },
      "source": [
        "def HammingDistance(str1, str2):\r\n",
        "    if len(str1) != len(str2):\r\n",
        "        raise Exception(\"Error: Two strings must be of equal length.\")\r\n",
        "\r\n",
        "    mismatch = 0\r\n",
        "    for i in range(len(str1)):\r\n",
        "        if str1[i] != str2[i]:\r\n",
        "            mismatch += 1\r\n",
        "    return mismatch\r\n"
      ],
      "execution_count": null,
      "outputs": []
    },
    {
      "cell_type": "markdown",
      "metadata": {
        "id": "nALreObfAPAl"
      },
      "source": [
        "### Test Cases"
      ]
    },
    {
      "cell_type": "code",
      "metadata": {
        "id": "KlAmQKZr3b-4"
      },
      "source": [
        "# Create a function for test suite\r\n",
        "def TestSuite(function, cases):\r\n",
        "    print(\"*\"*50)\r\n",
        "    print(\"TEST SUITE\\n\")\r\n",
        "    passed = 0\r\n",
        "    for i, case in enumerate(cases):\r\n",
        "        str1, str2, answer = case\r\n",
        "        result = function(str1, str2)\r\n",
        "        if result == answer:\r\n",
        "            print(\"- Test Case {} Passed. Expected: {}, Actual: {}\"\r\n",
        "                  .format(i+1, answer, result))\r\n",
        "            passed += 1\r\n",
        "        else:\r\n",
        "            print(\"- Test Case {} Failed. Expected: {}, Actual: {}\"\r\n",
        "                  .format(i+1, answer, result))\r\n",
        "    print(\"\\n{} out of {} passed.\".format(passed, len(cases)), end=\" \")\r\n",
        "    print(\"END OF TEST SUITE.\")\r\n",
        "    print(\"*\"*50)"
      ],
      "execution_count": null,
      "outputs": []
    },
    {
      "cell_type": "code",
      "metadata": {
        "colab": {
          "base_uri": "https://localhost:8080/"
        },
        "id": "KAAHvfgs-u1W",
        "outputId": "97708c9c-5d16-4602-e706-96b576f2c929"
      },
      "source": [
        "# Create test cases to pass into test suite\r\n",
        "case1 = (\"GGGCCGTTGGT\", \"GGACCGTTGAC\", 3)\r\n",
        "case2 = (\"AAAA\", \"TTTT\", 4)\r\n",
        "case3 = (\"ACGTACGT\", \"TACGTACG\", 8)\r\n",
        "case4 = (\"ACGTACGT\", \"CCCCCCCC\", 6)\r\n",
        "case5 = (\"ACGTACGT\", \"TGCATGCA\", 8)\r\n",
        "case6 = (\"GATAGCAGCTTCTGAACTGGTTACCTGCCGTGAGTAAATTAAAATTTTATTGACTTAGGTCACTAAATACT\", \"AATAGCAGCTTCTCAACTGGTTACCTCGTATGAGTAAATTAGGTCATTATTGACTCAGGTCACTAACGTCT\", 15)\r\n",
        "case7 = (\"AGAAACAGACCGCTATGTTCAACGATTTGTTTTATCTCGTCACCGGGATATTGCGGCCACTCATCGGTCAGTTGATTACGCAGGGCGTAAATCGCCAGAATCAGGCTG\", \"AGAAACCCACCGCTAAAAACAACGATTTGCGTAGTCAGGTCACCGGGATATTGCGGCCACTAAGGCCTTGGATGATTACGCAGAACGTATTGACCCAGAATCAGGCTC\", 28)\r\n",
        "case8 = (\"CCGAAGCAATTGAAACCCCCCCGGCCTGGGAGGCGCAAAAATCTGACCTCTTTGTGAGTTGACCACTTAATTTATGTCTGACCACGAGAAGGGCTACTGATTTGGTACGTCGGGTCATGACCCCCAGTTCTTAGCCGCCTGCTCCAATCTCTGACTTGTTTATCGAGGGGATGGAGTAACGAAATGCGATTCGCCCGCTCAGGCCAAGGTATATATTTGAGTAGCGGAAGGTTGCACTACCTACAACCACGGCACACCGGCACGTTGTCGTGCCCTGGCGGCCTGCGCACTTTCGCCACTGTCAAGTACGACTTCCCAAGCTCAACCAACATTCATAATCCGGTGCAATTCATACCGTATCATCGTGCTATAAGCGACGCCGATTCTCGGGGCCTGATAATTGAGACTGGACTACATAGTGGGTGCCCTCTCTGCGAGTAAGTGACGGAACAACGGAGATCAGGGACCAAATGGTAGCAAAACAGATCGAGGTACACGCAGGTAGCTGTCCGTGGAGTAGACCGCGCTTAGCGTCTGTTAGAGTATCATCGGGGTATTAGACACAGGAACCTCTATGCTGTTAAAAGGCCATACCCCGTAATTGTGCAAATTTGTTACGTTCAAATCTACGCAGTGAGGGTCCTAAGGTGATGGCAGGGATTGGAACTTCTCCGCTGGCTCTTAGATTACTTAGCCAGTCTACCCTCGAAGATACAAATCCTTCCACCAGAGGGAGCTCATTGAAATTCATTCCATGCTACTCGACCGCGCGTATGGGTGCGGGGCTCTATGGGATCTAACTCGATCCTTCAGAGTCCTTATTCAAATGCATTTCCGTCCCCGTATGTTTCGACGAAGCCGAAGCCCAAACCCTGGGATGGACGAATTAAGGACAGTACAGGCAATAGTGTTCTCCCATACTCGGAACAGACGCCTCATTTTTTCGCGAAATCGATCTGGGTTGGAAGAAGTTCCAGTGCAGAGTTCCTATCACACAATTCGTTCTCGGGGCTTCCGGCCCATAAGCGATACTACTGTCTTTGCGAGCTAACGATTACATTCGGGGGAACTTAGCTCGGACTGGACCAGGTACATGATCCAAAGCGCGATGTCTGTCTGTTACCCTCACCGCCGCTCTTTTATCGGGTA\", \"GCGTAGTAGGTTCGCGTACCTAGTTCCGCCGAAAAGACAAAGGAGAAGGGAATGCTCCTAGTAGTTTCAGTCTAGCAAACATGTTATAACGCTAACTGTGTGCTGCAAAAAGGATTTGAACCCAAATTTTAAAGCGCTGATCGACAGAACGCTGTTGAAGAGGCGATGGTACTGAGATTCCCCAGAAACCACCTCCGCGCTATGTGCTCAAGACAACCCGCATTCGTTTTTACTAGATTTGGAGCCGAGTTGTGATTTGGATATTTTCACATAAGACCGAGCAGGAAATATACCTTGTTGCAGCTATTGACCCCGTTCTCTCGGAAATCCATGGAATAGTCTTCGGATATTCGTACCAATGGGCGCGATGTTGCGATAAGAGAGCACATTTCATTAAGTGGTGCTCCGCCGCTAAGATGGGAAGGGGCGAGTCTATCGCAGCATCGAAGGCTGAGTTGGCCATTGCCGAGAGTATACATATTTACGATCACACTCGCATAGTCCCACGCATTACGTCCGAGATAGTATGTCCCAATGCAACCTAAAGCCGCGAGATTCCCTAAGGAGAAAATTAAACACTGGAAATTAGGTGATGCTACATCCCATGGACACTTTCGGAACAATATCGGTGACACACATCATCCGTGATCCCGTGATATTTCATCCATGGAGAGAGTATGGTTTTACTACACCTGGTCTAGGCCAAGCCTAACCCCCTGTTCATCCGTTTTATACGAGTATTACCTTGACGACCATAGAGGATAGACTCGGTATCCCGCACACTCTACACACACGACTTAATCCGCTCCACGACCTTCCTAGCGATCTTTGGCGCAGCCGGTTCGCGTATTTTACGACCAACTCGATGGATCCCAATTATCCCCCTGGTAGTGCCCCTCCGCCTGAGAATTCGACGGGCGAGGTCCGGGGGACCGACATAGAGTGGAATGCTTCTTTCCGGGATAACACGTGATTGACATAAAAATGTAGGGCAGATAGGCATCGTTAGCACCTCTCTCCTTGCTGCACTGCGTTTATCGATCGAATTCAAGACTTGTGCATGTTGAAAACAACCTCGCGTTATCCCTGCTATTTGCTTCAGAGCCGTAGGAGGGGACCATGCGTGAGTCCTCCTGAGCAACCTCAATT\", 844)\r\n",
        "\r\n",
        "cases = [case1, case2, case3, case4, case5, case6, case7, case8]\r\n",
        "\r\n",
        "TestSuite(HammingDistance, cases)"
      ],
      "execution_count": null,
      "outputs": [
        {
          "output_type": "stream",
          "text": [
            "**************************************************\n",
            "TEST SUITE\n",
            "\n",
            "- Test Case 1 Passed. Expected: 3, Actual: 3\n",
            "- Test Case 2 Passed. Expected: 4, Actual: 4\n",
            "- Test Case 3 Passed. Expected: 8, Actual: 8\n",
            "- Test Case 4 Passed. Expected: 6, Actual: 6\n",
            "- Test Case 5 Passed. Expected: 8, Actual: 8\n",
            "- Test Case 6 Passed. Expected: 15, Actual: 15\n",
            "- Test Case 7 Passed. Expected: 28, Actual: 28\n",
            "- Test Case 8 Passed. Expected: 844, Actual: 844\n",
            "\n",
            "8 out of 8 passed. END OF TEST SUITE.\n",
            "**************************************************\n"
          ],
          "name": "stdout"
        }
      ]
    }
  ]
}